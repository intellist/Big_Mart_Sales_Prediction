{
  "nbformat": 4,
  "nbformat_minor": 0,
  "metadata": {
    "colab": {
      "provenance": []
    },
    "kernelspec": {
      "name": "python3",
      "display_name": "Python 3"
    },
    "language_info": {
      "name": "python"
    }
  },
  "cells": [
    {
      "cell_type": "code",
      "execution_count": null,
      "metadata": {
        "id": "Q93NCFPTsqU2"
      },
      "outputs": [],
      "source": []
    },
    {
      "cell_type": "code",
      "source": [
        "from google.colab import drive\n",
        "drive.mount('/content/drive')"
      ],
      "metadata": {
        "colab": {
          "base_uri": "https://localhost:8080/"
        },
        "id": "H1hGbMMrs0p4",
        "outputId": "98219d40-3650-4e3a-f9ff-32c256d32884"
      },
      "execution_count": null,
      "outputs": [
        {
          "output_type": "stream",
          "name": "stdout",
          "text": [
            "Mounted at /content/drive\n"
          ]
        }
      ]
    },
    {
      "cell_type": "markdown",
      "source": [
        "## Start"
      ],
      "metadata": {
        "id": "GELEr-rn2xPR"
      }
    },
    {
      "cell_type": "code",
      "source": [],
      "metadata": {
        "id": "if5zmmLTs0sN"
      },
      "execution_count": null,
      "outputs": []
    },
    {
      "cell_type": "code",
      "source": [
        "train_data_path = '/content/drive/MyDrive/Colab Notebooks/ABB_test/train_v9rqX0R.csv'\n",
        "test_data_path = '/content/drive/MyDrive/Colab Notebooks/ABB_test/test_AbJTz2l.csv'"
      ],
      "metadata": {
        "id": "iPI3cgs_s0ue"
      },
      "execution_count": null,
      "outputs": []
    },
    {
      "cell_type": "code",
      "source": [
        "import pandas as pd\n",
        "import matplotlib.pyplot as plt\n",
        "import numpy as np"
      ],
      "metadata": {
        "id": "D9vOwo9Us0w2"
      },
      "execution_count": null,
      "outputs": []
    },
    {
      "cell_type": "code",
      "source": [
        "df = pd.read_csv(train_data_path)\n",
        "df.shape"
      ],
      "metadata": {
        "colab": {
          "base_uri": "https://localhost:8080/"
        },
        "id": "uNCefxucs0zp",
        "outputId": "650af2f1-7e02-422c-ed68-16e604dd7e25"
      },
      "execution_count": null,
      "outputs": [
        {
          "output_type": "execute_result",
          "data": {
            "text/plain": [
              "(8523, 12)"
            ]
          },
          "metadata": {},
          "execution_count": 4
        }
      ]
    },
    {
      "cell_type": "code",
      "source": [
        "df.columns"
      ],
      "metadata": {
        "colab": {
          "base_uri": "https://localhost:8080/"
        },
        "id": "D8layW41s01s",
        "outputId": "e49cae30-40f7-4289-f796-854c1b19aaaf"
      },
      "execution_count": null,
      "outputs": [
        {
          "output_type": "execute_result",
          "data": {
            "text/plain": [
              "Index(['Item_Identifier', 'Item_Weight', 'Item_Fat_Content', 'Item_Visibility',\n",
              "       'Item_Type', 'Item_MRP', 'Outlet_Identifier',\n",
              "       'Outlet_Establishment_Year', 'Outlet_Size', 'Outlet_Location_Type',\n",
              "       'Outlet_Type', 'Item_Outlet_Sales'],\n",
              "      dtype='object')"
            ]
          },
          "metadata": {},
          "execution_count": 5
        }
      ]
    },
    {
      "cell_type": "code",
      "source": [
        "df.head(4)"
      ],
      "metadata": {
        "colab": {
          "base_uri": "https://localhost:8080/",
          "height": 264
        },
        "id": "T3N9mwPZs04H",
        "outputId": "e4d51374-c9cc-4ef0-99ae-ee14e39a6664"
      },
      "execution_count": null,
      "outputs": [
        {
          "output_type": "execute_result",
          "data": {
            "text/plain": [
              "  Item_Identifier  Item_Weight Item_Fat_Content  Item_Visibility  \\\n",
              "0           FDA15         9.30          Low Fat         0.016047   \n",
              "1           DRC01         5.92          Regular         0.019278   \n",
              "2           FDN15        17.50          Low Fat         0.016760   \n",
              "3           FDX07        19.20          Regular         0.000000   \n",
              "\n",
              "               Item_Type  Item_MRP Outlet_Identifier  \\\n",
              "0                  Dairy  249.8092            OUT049   \n",
              "1            Soft Drinks   48.2692            OUT018   \n",
              "2                   Meat  141.6180            OUT049   \n",
              "3  Fruits and Vegetables  182.0950            OUT010   \n",
              "\n",
              "   Outlet_Establishment_Year Outlet_Size Outlet_Location_Type  \\\n",
              "0                       1999      Medium               Tier 1   \n",
              "1                       2009      Medium               Tier 3   \n",
              "2                       1999      Medium               Tier 1   \n",
              "3                       1998         NaN               Tier 3   \n",
              "\n",
              "         Outlet_Type  Item_Outlet_Sales  \n",
              "0  Supermarket Type1          3735.1380  \n",
              "1  Supermarket Type2           443.4228  \n",
              "2  Supermarket Type1          2097.2700  \n",
              "3      Grocery Store           732.3800  "
            ],
            "text/html": [
              "\n",
              "  <div id=\"df-5b4090e0-7335-4830-b0e5-39f325dcdac6\" class=\"colab-df-container\">\n",
              "    <div>\n",
              "<style scoped>\n",
              "    .dataframe tbody tr th:only-of-type {\n",
              "        vertical-align: middle;\n",
              "    }\n",
              "\n",
              "    .dataframe tbody tr th {\n",
              "        vertical-align: top;\n",
              "    }\n",
              "\n",
              "    .dataframe thead th {\n",
              "        text-align: right;\n",
              "    }\n",
              "</style>\n",
              "<table border=\"1\" class=\"dataframe\">\n",
              "  <thead>\n",
              "    <tr style=\"text-align: right;\">\n",
              "      <th></th>\n",
              "      <th>Item_Identifier</th>\n",
              "      <th>Item_Weight</th>\n",
              "      <th>Item_Fat_Content</th>\n",
              "      <th>Item_Visibility</th>\n",
              "      <th>Item_Type</th>\n",
              "      <th>Item_MRP</th>\n",
              "      <th>Outlet_Identifier</th>\n",
              "      <th>Outlet_Establishment_Year</th>\n",
              "      <th>Outlet_Size</th>\n",
              "      <th>Outlet_Location_Type</th>\n",
              "      <th>Outlet_Type</th>\n",
              "      <th>Item_Outlet_Sales</th>\n",
              "    </tr>\n",
              "  </thead>\n",
              "  <tbody>\n",
              "    <tr>\n",
              "      <th>0</th>\n",
              "      <td>FDA15</td>\n",
              "      <td>9.30</td>\n",
              "      <td>Low Fat</td>\n",
              "      <td>0.016047</td>\n",
              "      <td>Dairy</td>\n",
              "      <td>249.8092</td>\n",
              "      <td>OUT049</td>\n",
              "      <td>1999</td>\n",
              "      <td>Medium</td>\n",
              "      <td>Tier 1</td>\n",
              "      <td>Supermarket Type1</td>\n",
              "      <td>3735.1380</td>\n",
              "    </tr>\n",
              "    <tr>\n",
              "      <th>1</th>\n",
              "      <td>DRC01</td>\n",
              "      <td>5.92</td>\n",
              "      <td>Regular</td>\n",
              "      <td>0.019278</td>\n",
              "      <td>Soft Drinks</td>\n",
              "      <td>48.2692</td>\n",
              "      <td>OUT018</td>\n",
              "      <td>2009</td>\n",
              "      <td>Medium</td>\n",
              "      <td>Tier 3</td>\n",
              "      <td>Supermarket Type2</td>\n",
              "      <td>443.4228</td>\n",
              "    </tr>\n",
              "    <tr>\n",
              "      <th>2</th>\n",
              "      <td>FDN15</td>\n",
              "      <td>17.50</td>\n",
              "      <td>Low Fat</td>\n",
              "      <td>0.016760</td>\n",
              "      <td>Meat</td>\n",
              "      <td>141.6180</td>\n",
              "      <td>OUT049</td>\n",
              "      <td>1999</td>\n",
              "      <td>Medium</td>\n",
              "      <td>Tier 1</td>\n",
              "      <td>Supermarket Type1</td>\n",
              "      <td>2097.2700</td>\n",
              "    </tr>\n",
              "    <tr>\n",
              "      <th>3</th>\n",
              "      <td>FDX07</td>\n",
              "      <td>19.20</td>\n",
              "      <td>Regular</td>\n",
              "      <td>0.000000</td>\n",
              "      <td>Fruits and Vegetables</td>\n",
              "      <td>182.0950</td>\n",
              "      <td>OUT010</td>\n",
              "      <td>1998</td>\n",
              "      <td>NaN</td>\n",
              "      <td>Tier 3</td>\n",
              "      <td>Grocery Store</td>\n",
              "      <td>732.3800</td>\n",
              "    </tr>\n",
              "  </tbody>\n",
              "</table>\n",
              "</div>\n",
              "    <div class=\"colab-df-buttons\">\n",
              "\n",
              "  <div class=\"colab-df-container\">\n",
              "    <button class=\"colab-df-convert\" onclick=\"convertToInteractive('df-5b4090e0-7335-4830-b0e5-39f325dcdac6')\"\n",
              "            title=\"Convert this dataframe to an interactive table.\"\n",
              "            style=\"display:none;\">\n",
              "\n",
              "  <svg xmlns=\"http://www.w3.org/2000/svg\" height=\"24px\" viewBox=\"0 -960 960 960\">\n",
              "    <path d=\"M120-120v-720h720v720H120Zm60-500h600v-160H180v160Zm220 220h160v-160H400v160Zm0 220h160v-160H400v160ZM180-400h160v-160H180v160Zm440 0h160v-160H620v160ZM180-180h160v-160H180v160Zm440 0h160v-160H620v160Z\"/>\n",
              "  </svg>\n",
              "    </button>\n",
              "\n",
              "  <style>\n",
              "    .colab-df-container {\n",
              "      display:flex;\n",
              "      gap: 12px;\n",
              "    }\n",
              "\n",
              "    .colab-df-convert {\n",
              "      background-color: #E8F0FE;\n",
              "      border: none;\n",
              "      border-radius: 50%;\n",
              "      cursor: pointer;\n",
              "      display: none;\n",
              "      fill: #1967D2;\n",
              "      height: 32px;\n",
              "      padding: 0 0 0 0;\n",
              "      width: 32px;\n",
              "    }\n",
              "\n",
              "    .colab-df-convert:hover {\n",
              "      background-color: #E2EBFA;\n",
              "      box-shadow: 0px 1px 2px rgba(60, 64, 67, 0.3), 0px 1px 3px 1px rgba(60, 64, 67, 0.15);\n",
              "      fill: #174EA6;\n",
              "    }\n",
              "\n",
              "    .colab-df-buttons div {\n",
              "      margin-bottom: 4px;\n",
              "    }\n",
              "\n",
              "    [theme=dark] .colab-df-convert {\n",
              "      background-color: #3B4455;\n",
              "      fill: #D2E3FC;\n",
              "    }\n",
              "\n",
              "    [theme=dark] .colab-df-convert:hover {\n",
              "      background-color: #434B5C;\n",
              "      box-shadow: 0px 1px 3px 1px rgba(0, 0, 0, 0.15);\n",
              "      filter: drop-shadow(0px 1px 2px rgba(0, 0, 0, 0.3));\n",
              "      fill: #FFFFFF;\n",
              "    }\n",
              "  </style>\n",
              "\n",
              "    <script>\n",
              "      const buttonEl =\n",
              "        document.querySelector('#df-5b4090e0-7335-4830-b0e5-39f325dcdac6 button.colab-df-convert');\n",
              "      buttonEl.style.display =\n",
              "        google.colab.kernel.accessAllowed ? 'block' : 'none';\n",
              "\n",
              "      async function convertToInteractive(key) {\n",
              "        const element = document.querySelector('#df-5b4090e0-7335-4830-b0e5-39f325dcdac6');\n",
              "        const dataTable =\n",
              "          await google.colab.kernel.invokeFunction('convertToInteractive',\n",
              "                                                    [key], {});\n",
              "        if (!dataTable) return;\n",
              "\n",
              "        const docLinkHtml = 'Like what you see? Visit the ' +\n",
              "          '<a target=\"_blank\" href=https://colab.research.google.com/notebooks/data_table.ipynb>data table notebook</a>'\n",
              "          + ' to learn more about interactive tables.';\n",
              "        element.innerHTML = '';\n",
              "        dataTable['output_type'] = 'display_data';\n",
              "        await google.colab.output.renderOutput(dataTable, element);\n",
              "        const docLink = document.createElement('div');\n",
              "        docLink.innerHTML = docLinkHtml;\n",
              "        element.appendChild(docLink);\n",
              "      }\n",
              "    </script>\n",
              "  </div>\n",
              "\n",
              "\n",
              "    <div id=\"df-774b9dce-d2d1-49cd-9a3d-808cb891c362\">\n",
              "      <button class=\"colab-df-quickchart\" onclick=\"quickchart('df-774b9dce-d2d1-49cd-9a3d-808cb891c362')\"\n",
              "                title=\"Suggest charts\"\n",
              "                style=\"display:none;\">\n",
              "\n",
              "<svg xmlns=\"http://www.w3.org/2000/svg\" height=\"24px\"viewBox=\"0 0 24 24\"\n",
              "     width=\"24px\">\n",
              "    <g>\n",
              "        <path d=\"M19 3H5c-1.1 0-2 .9-2 2v14c0 1.1.9 2 2 2h14c1.1 0 2-.9 2-2V5c0-1.1-.9-2-2-2zM9 17H7v-7h2v7zm4 0h-2V7h2v10zm4 0h-2v-4h2v4z\"/>\n",
              "    </g>\n",
              "</svg>\n",
              "      </button>\n",
              "\n",
              "<style>\n",
              "  .colab-df-quickchart {\n",
              "      --bg-color: #E8F0FE;\n",
              "      --fill-color: #1967D2;\n",
              "      --hover-bg-color: #E2EBFA;\n",
              "      --hover-fill-color: #174EA6;\n",
              "      --disabled-fill-color: #AAA;\n",
              "      --disabled-bg-color: #DDD;\n",
              "  }\n",
              "\n",
              "  [theme=dark] .colab-df-quickchart {\n",
              "      --bg-color: #3B4455;\n",
              "      --fill-color: #D2E3FC;\n",
              "      --hover-bg-color: #434B5C;\n",
              "      --hover-fill-color: #FFFFFF;\n",
              "      --disabled-bg-color: #3B4455;\n",
              "      --disabled-fill-color: #666;\n",
              "  }\n",
              "\n",
              "  .colab-df-quickchart {\n",
              "    background-color: var(--bg-color);\n",
              "    border: none;\n",
              "    border-radius: 50%;\n",
              "    cursor: pointer;\n",
              "    display: none;\n",
              "    fill: var(--fill-color);\n",
              "    height: 32px;\n",
              "    padding: 0;\n",
              "    width: 32px;\n",
              "  }\n",
              "\n",
              "  .colab-df-quickchart:hover {\n",
              "    background-color: var(--hover-bg-color);\n",
              "    box-shadow: 0 1px 2px rgba(60, 64, 67, 0.3), 0 1px 3px 1px rgba(60, 64, 67, 0.15);\n",
              "    fill: var(--button-hover-fill-color);\n",
              "  }\n",
              "\n",
              "  .colab-df-quickchart-complete:disabled,\n",
              "  .colab-df-quickchart-complete:disabled:hover {\n",
              "    background-color: var(--disabled-bg-color);\n",
              "    fill: var(--disabled-fill-color);\n",
              "    box-shadow: none;\n",
              "  }\n",
              "\n",
              "  .colab-df-spinner {\n",
              "    border: 2px solid var(--fill-color);\n",
              "    border-color: transparent;\n",
              "    border-bottom-color: var(--fill-color);\n",
              "    animation:\n",
              "      spin 1s steps(1) infinite;\n",
              "  }\n",
              "\n",
              "  @keyframes spin {\n",
              "    0% {\n",
              "      border-color: transparent;\n",
              "      border-bottom-color: var(--fill-color);\n",
              "      border-left-color: var(--fill-color);\n",
              "    }\n",
              "    20% {\n",
              "      border-color: transparent;\n",
              "      border-left-color: var(--fill-color);\n",
              "      border-top-color: var(--fill-color);\n",
              "    }\n",
              "    30% {\n",
              "      border-color: transparent;\n",
              "      border-left-color: var(--fill-color);\n",
              "      border-top-color: var(--fill-color);\n",
              "      border-right-color: var(--fill-color);\n",
              "    }\n",
              "    40% {\n",
              "      border-color: transparent;\n",
              "      border-right-color: var(--fill-color);\n",
              "      border-top-color: var(--fill-color);\n",
              "    }\n",
              "    60% {\n",
              "      border-color: transparent;\n",
              "      border-right-color: var(--fill-color);\n",
              "    }\n",
              "    80% {\n",
              "      border-color: transparent;\n",
              "      border-right-color: var(--fill-color);\n",
              "      border-bottom-color: var(--fill-color);\n",
              "    }\n",
              "    90% {\n",
              "      border-color: transparent;\n",
              "      border-bottom-color: var(--fill-color);\n",
              "    }\n",
              "  }\n",
              "</style>\n",
              "\n",
              "      <script>\n",
              "        async function quickchart(key) {\n",
              "          const quickchartButtonEl =\n",
              "            document.querySelector('#' + key + ' button');\n",
              "          quickchartButtonEl.disabled = true;  // To prevent multiple clicks.\n",
              "          quickchartButtonEl.classList.add('colab-df-spinner');\n",
              "          try {\n",
              "            const charts = await google.colab.kernel.invokeFunction(\n",
              "                'suggestCharts', [key], {});\n",
              "          } catch (error) {\n",
              "            console.error('Error during call to suggestCharts:', error);\n",
              "          }\n",
              "          quickchartButtonEl.classList.remove('colab-df-spinner');\n",
              "          quickchartButtonEl.classList.add('colab-df-quickchart-complete');\n",
              "        }\n",
              "        (() => {\n",
              "          let quickchartButtonEl =\n",
              "            document.querySelector('#df-774b9dce-d2d1-49cd-9a3d-808cb891c362 button');\n",
              "          quickchartButtonEl.style.display =\n",
              "            google.colab.kernel.accessAllowed ? 'block' : 'none';\n",
              "        })();\n",
              "      </script>\n",
              "    </div>\n",
              "\n",
              "    </div>\n",
              "  </div>\n"
            ],
            "application/vnd.google.colaboratory.intrinsic+json": {
              "type": "dataframe",
              "variable_name": "df",
              "summary": "{\n  \"name\": \"df\",\n  \"rows\": 8523,\n  \"fields\": [\n    {\n      \"column\": \"Item_Identifier\",\n      \"properties\": {\n        \"dtype\": \"category\",\n        \"num_unique_values\": 1559,\n        \"samples\": [\n          \"FDY01\",\n          \"FDG05\",\n          \"NCJ29\"\n        ],\n        \"semantic_type\": \"\",\n        \"description\": \"\"\n      }\n    },\n    {\n      \"column\": \"Item_Weight\",\n      \"properties\": {\n        \"dtype\": \"number\",\n        \"std\": 4.643456499186395,\n        \"min\": 4.555,\n        \"max\": 21.35,\n        \"num_unique_values\": 415,\n        \"samples\": [\n          16.75,\n          8.695,\n          7.605\n        ],\n        \"semantic_type\": \"\",\n        \"description\": \"\"\n      }\n    },\n    {\n      \"column\": \"Item_Fat_Content\",\n      \"properties\": {\n        \"dtype\": \"category\",\n        \"num_unique_values\": 5,\n        \"samples\": [\n          \"Regular\",\n          \"reg\",\n          \"low fat\"\n        ],\n        \"semantic_type\": \"\",\n        \"description\": \"\"\n      }\n    },\n    {\n      \"column\": \"Item_Visibility\",\n      \"properties\": {\n        \"dtype\": \"number\",\n        \"std\": 0.051597822321135196,\n        \"min\": 0.0,\n        \"max\": 0.328390948,\n        \"num_unique_values\": 7880,\n        \"samples\": [\n          0.224837308,\n          0.046088273,\n          0.0204702\n        ],\n        \"semantic_type\": \"\",\n        \"description\": \"\"\n      }\n    },\n    {\n      \"column\": \"Item_Type\",\n      \"properties\": {\n        \"dtype\": \"category\",\n        \"num_unique_values\": 16,\n        \"samples\": [\n          \"Dairy\",\n          \"Soft Drinks\",\n          \"Baking Goods\"\n        ],\n        \"semantic_type\": \"\",\n        \"description\": \"\"\n      }\n    },\n    {\n      \"column\": \"Item_MRP\",\n      \"properties\": {\n        \"dtype\": \"number\",\n        \"std\": 62.27506651219039,\n        \"min\": 31.29,\n        \"max\": 266.8884,\n        \"num_unique_values\": 5938,\n        \"samples\": [\n          255.9672,\n          93.512,\n          208.3954\n        ],\n        \"semantic_type\": \"\",\n        \"description\": \"\"\n      }\n    },\n    {\n      \"column\": \"Outlet_Identifier\",\n      \"properties\": {\n        \"dtype\": \"category\",\n        \"num_unique_values\": 10,\n        \"samples\": [\n          \"OUT035\",\n          \"OUT018\",\n          \"OUT045\"\n        ],\n        \"semantic_type\": \"\",\n        \"description\": \"\"\n      }\n    },\n    {\n      \"column\": \"Outlet_Establishment_Year\",\n      \"properties\": {\n        \"dtype\": \"number\",\n        \"std\": 8,\n        \"min\": 1985,\n        \"max\": 2009,\n        \"num_unique_values\": 9,\n        \"samples\": [\n          1997,\n          2009,\n          2002\n        ],\n        \"semantic_type\": \"\",\n        \"description\": \"\"\n      }\n    },\n    {\n      \"column\": \"Outlet_Size\",\n      \"properties\": {\n        \"dtype\": \"category\",\n        \"num_unique_values\": 3,\n        \"samples\": [\n          \"Medium\",\n          \"High\",\n          \"Small\"\n        ],\n        \"semantic_type\": \"\",\n        \"description\": \"\"\n      }\n    },\n    {\n      \"column\": \"Outlet_Location_Type\",\n      \"properties\": {\n        \"dtype\": \"category\",\n        \"num_unique_values\": 3,\n        \"samples\": [\n          \"Tier 1\",\n          \"Tier 3\",\n          \"Tier 2\"\n        ],\n        \"semantic_type\": \"\",\n        \"description\": \"\"\n      }\n    },\n    {\n      \"column\": \"Outlet_Type\",\n      \"properties\": {\n        \"dtype\": \"category\",\n        \"num_unique_values\": 4,\n        \"samples\": [\n          \"Supermarket Type2\",\n          \"Supermarket Type3\",\n          \"Supermarket Type1\"\n        ],\n        \"semantic_type\": \"\",\n        \"description\": \"\"\n      }\n    },\n    {\n      \"column\": \"Item_Outlet_Sales\",\n      \"properties\": {\n        \"dtype\": \"number\",\n        \"std\": 1706.499615733832,\n        \"min\": 33.29,\n        \"max\": 13086.9648,\n        \"num_unique_values\": 3493,\n        \"samples\": [\n          5466.8838,\n          8417.7094,\n          5888.3352\n        ],\n        \"semantic_type\": \"\",\n        \"description\": \"\"\n      }\n    }\n  ]\n}"
            }
          },
          "metadata": {},
          "execution_count": 6
        }
      ]
    },
    {
      "cell_type": "code",
      "source": [
        "df['Outlet_Identifier'].value_counts()"
      ],
      "metadata": {
        "colab": {
          "base_uri": "https://localhost:8080/",
          "height": 429
        },
        "id": "xOMj-pZF3f51",
        "outputId": "962338f9-5c94-4e84-fcfa-a45dd1238966"
      },
      "execution_count": null,
      "outputs": [
        {
          "output_type": "execute_result",
          "data": {
            "text/plain": [
              "Outlet_Identifier\n",
              "OUT027    935\n",
              "OUT013    932\n",
              "OUT035    930\n",
              "OUT049    930\n",
              "OUT046    930\n",
              "OUT045    929\n",
              "OUT018    928\n",
              "OUT017    926\n",
              "OUT010    555\n",
              "OUT019    528\n",
              "Name: count, dtype: int64"
            ],
            "text/html": [
              "<div>\n",
              "<style scoped>\n",
              "    .dataframe tbody tr th:only-of-type {\n",
              "        vertical-align: middle;\n",
              "    }\n",
              "\n",
              "    .dataframe tbody tr th {\n",
              "        vertical-align: top;\n",
              "    }\n",
              "\n",
              "    .dataframe thead th {\n",
              "        text-align: right;\n",
              "    }\n",
              "</style>\n",
              "<table border=\"1\" class=\"dataframe\">\n",
              "  <thead>\n",
              "    <tr style=\"text-align: right;\">\n",
              "      <th></th>\n",
              "      <th>count</th>\n",
              "    </tr>\n",
              "    <tr>\n",
              "      <th>Outlet_Identifier</th>\n",
              "      <th></th>\n",
              "    </tr>\n",
              "  </thead>\n",
              "  <tbody>\n",
              "    <tr>\n",
              "      <th>OUT027</th>\n",
              "      <td>935</td>\n",
              "    </tr>\n",
              "    <tr>\n",
              "      <th>OUT013</th>\n",
              "      <td>932</td>\n",
              "    </tr>\n",
              "    <tr>\n",
              "      <th>OUT035</th>\n",
              "      <td>930</td>\n",
              "    </tr>\n",
              "    <tr>\n",
              "      <th>OUT049</th>\n",
              "      <td>930</td>\n",
              "    </tr>\n",
              "    <tr>\n",
              "      <th>OUT046</th>\n",
              "      <td>930</td>\n",
              "    </tr>\n",
              "    <tr>\n",
              "      <th>OUT045</th>\n",
              "      <td>929</td>\n",
              "    </tr>\n",
              "    <tr>\n",
              "      <th>OUT018</th>\n",
              "      <td>928</td>\n",
              "    </tr>\n",
              "    <tr>\n",
              "      <th>OUT017</th>\n",
              "      <td>926</td>\n",
              "    </tr>\n",
              "    <tr>\n",
              "      <th>OUT010</th>\n",
              "      <td>555</td>\n",
              "    </tr>\n",
              "    <tr>\n",
              "      <th>OUT019</th>\n",
              "      <td>528</td>\n",
              "    </tr>\n",
              "  </tbody>\n",
              "</table>\n",
              "</div><br><label><b>dtype:</b> int64</label>"
            ]
          },
          "metadata": {},
          "execution_count": 7
        }
      ]
    },
    {
      "cell_type": "markdown",
      "source": [
        "* There 12 columns.\n",
        "* Item_Identifier, Outlet_Identifier and Item_Outlet_Sales are not relevant in training features.\n",
        "* We have 9 columns to work with.\n",
        "\n",
        "* Categorical cols: ['Item_Fat_Content', 'Item_Type', 'Outlet_Size', 'Outlet_Location_Type', 'Outlet_Type']\n",
        "* Numerical cols: ['Item_Weight', 'Item_Visibility', 'Item_MRP', 'Outlet_Establishment_Year']"
      ],
      "metadata": {
        "id": "EXXkTLT5vtyC"
      }
    },
    {
      "cell_type": "code",
      "source": [
        "df.columns"
      ],
      "metadata": {
        "colab": {
          "base_uri": "https://localhost:8080/"
        },
        "id": "ROzfYgfWxMdY",
        "outputId": "3c9e1e50-f437-4288-f54c-420a0ef1fae2"
      },
      "execution_count": null,
      "outputs": [
        {
          "output_type": "execute_result",
          "data": {
            "text/plain": [
              "Index(['Item_Identifier', 'Item_Weight', 'Item_Fat_Content', 'Item_Visibility',\n",
              "       'Item_Type', 'Item_MRP', 'Outlet_Identifier',\n",
              "       'Outlet_Establishment_Year', 'Outlet_Size', 'Outlet_Location_Type',\n",
              "       'Outlet_Type', 'Item_Outlet_Sales'],\n",
              "      dtype='object')"
            ]
          },
          "metadata": {},
          "execution_count": 8
        }
      ]
    },
    {
      "cell_type": "code",
      "source": [
        "df.isna().sum()"
      ],
      "metadata": {
        "colab": {
          "base_uri": "https://localhost:8080/",
          "height": 460
        },
        "id": "RLBy1knQxoHP",
        "outputId": "bc0cbe11-762b-42a2-9d70-905dcab07717"
      },
      "execution_count": null,
      "outputs": [
        {
          "output_type": "execute_result",
          "data": {
            "text/plain": [
              "Item_Identifier                 0\n",
              "Item_Weight                  1463\n",
              "Item_Fat_Content                0\n",
              "Item_Visibility                 0\n",
              "Item_Type                       0\n",
              "Item_MRP                        0\n",
              "Outlet_Identifier               0\n",
              "Outlet_Establishment_Year       0\n",
              "Outlet_Size                  2410\n",
              "Outlet_Location_Type            0\n",
              "Outlet_Type                     0\n",
              "Item_Outlet_Sales               0\n",
              "dtype: int64"
            ],
            "text/html": [
              "<div>\n",
              "<style scoped>\n",
              "    .dataframe tbody tr th:only-of-type {\n",
              "        vertical-align: middle;\n",
              "    }\n",
              "\n",
              "    .dataframe tbody tr th {\n",
              "        vertical-align: top;\n",
              "    }\n",
              "\n",
              "    .dataframe thead th {\n",
              "        text-align: right;\n",
              "    }\n",
              "</style>\n",
              "<table border=\"1\" class=\"dataframe\">\n",
              "  <thead>\n",
              "    <tr style=\"text-align: right;\">\n",
              "      <th></th>\n",
              "      <th>0</th>\n",
              "    </tr>\n",
              "  </thead>\n",
              "  <tbody>\n",
              "    <tr>\n",
              "      <th>Item_Identifier</th>\n",
              "      <td>0</td>\n",
              "    </tr>\n",
              "    <tr>\n",
              "      <th>Item_Weight</th>\n",
              "      <td>1463</td>\n",
              "    </tr>\n",
              "    <tr>\n",
              "      <th>Item_Fat_Content</th>\n",
              "      <td>0</td>\n",
              "    </tr>\n",
              "    <tr>\n",
              "      <th>Item_Visibility</th>\n",
              "      <td>0</td>\n",
              "    </tr>\n",
              "    <tr>\n",
              "      <th>Item_Type</th>\n",
              "      <td>0</td>\n",
              "    </tr>\n",
              "    <tr>\n",
              "      <th>Item_MRP</th>\n",
              "      <td>0</td>\n",
              "    </tr>\n",
              "    <tr>\n",
              "      <th>Outlet_Identifier</th>\n",
              "      <td>0</td>\n",
              "    </tr>\n",
              "    <tr>\n",
              "      <th>Outlet_Establishment_Year</th>\n",
              "      <td>0</td>\n",
              "    </tr>\n",
              "    <tr>\n",
              "      <th>Outlet_Size</th>\n",
              "      <td>2410</td>\n",
              "    </tr>\n",
              "    <tr>\n",
              "      <th>Outlet_Location_Type</th>\n",
              "      <td>0</td>\n",
              "    </tr>\n",
              "    <tr>\n",
              "      <th>Outlet_Type</th>\n",
              "      <td>0</td>\n",
              "    </tr>\n",
              "    <tr>\n",
              "      <th>Item_Outlet_Sales</th>\n",
              "      <td>0</td>\n",
              "    </tr>\n",
              "  </tbody>\n",
              "</table>\n",
              "</div><br><label><b>dtype:</b> int64</label>"
            ]
          },
          "metadata": {},
          "execution_count": 8
        }
      ]
    },
    {
      "cell_type": "code",
      "source": [
        "df['Item_Fat_Content'].value_counts()"
      ],
      "metadata": {
        "colab": {
          "base_uri": "https://localhost:8080/",
          "height": 272
        },
        "id": "him2vF2yxJkc",
        "outputId": "fd995f56-4660-4ceb-f575-d068093b6ff0"
      },
      "execution_count": null,
      "outputs": [
        {
          "output_type": "execute_result",
          "data": {
            "text/plain": [
              "Item_Fat_Content\n",
              "Low Fat    5089\n",
              "Regular    2889\n",
              "LF          316\n",
              "reg         117\n",
              "low fat     112\n",
              "Name: count, dtype: int64"
            ],
            "text/html": [
              "<div>\n",
              "<style scoped>\n",
              "    .dataframe tbody tr th:only-of-type {\n",
              "        vertical-align: middle;\n",
              "    }\n",
              "\n",
              "    .dataframe tbody tr th {\n",
              "        vertical-align: top;\n",
              "    }\n",
              "\n",
              "    .dataframe thead th {\n",
              "        text-align: right;\n",
              "    }\n",
              "</style>\n",
              "<table border=\"1\" class=\"dataframe\">\n",
              "  <thead>\n",
              "    <tr style=\"text-align: right;\">\n",
              "      <th></th>\n",
              "      <th>count</th>\n",
              "    </tr>\n",
              "    <tr>\n",
              "      <th>Item_Fat_Content</th>\n",
              "      <th></th>\n",
              "    </tr>\n",
              "  </thead>\n",
              "  <tbody>\n",
              "    <tr>\n",
              "      <th>Low Fat</th>\n",
              "      <td>5089</td>\n",
              "    </tr>\n",
              "    <tr>\n",
              "      <th>Regular</th>\n",
              "      <td>2889</td>\n",
              "    </tr>\n",
              "    <tr>\n",
              "      <th>LF</th>\n",
              "      <td>316</td>\n",
              "    </tr>\n",
              "    <tr>\n",
              "      <th>reg</th>\n",
              "      <td>117</td>\n",
              "    </tr>\n",
              "    <tr>\n",
              "      <th>low fat</th>\n",
              "      <td>112</td>\n",
              "    </tr>\n",
              "  </tbody>\n",
              "</table>\n",
              "</div><br><label><b>dtype:</b> int64</label>"
            ]
          },
          "metadata": {},
          "execution_count": 8
        }
      ]
    },
    {
      "cell_type": "markdown",
      "source": [
        "There are just 2 categories for fat content: low fat and regular."
      ],
      "metadata": {
        "id": "2pMc4gZbxmyw"
      }
    },
    {
      "cell_type": "code",
      "source": [
        "df['Item_Type'].value_counts()"
      ],
      "metadata": {
        "colab": {
          "base_uri": "https://localhost:8080/",
          "height": 617
        },
        "id": "gED42wdGxJnQ",
        "outputId": "84346160-7842-4104-f1ca-bf8a2690277c"
      },
      "execution_count": null,
      "outputs": [
        {
          "output_type": "execute_result",
          "data": {
            "text/plain": [
              "Item_Type\n",
              "Fruits and Vegetables    1232\n",
              "Snack Foods              1200\n",
              "Household                 910\n",
              "Frozen Foods              856\n",
              "Dairy                     682\n",
              "Canned                    649\n",
              "Baking Goods              648\n",
              "Health and Hygiene        520\n",
              "Soft Drinks               445\n",
              "Meat                      425\n",
              "Breads                    251\n",
              "Hard Drinks               214\n",
              "Others                    169\n",
              "Starchy Foods             148\n",
              "Breakfast                 110\n",
              "Seafood                    64\n",
              "Name: count, dtype: int64"
            ],
            "text/html": [
              "<div>\n",
              "<style scoped>\n",
              "    .dataframe tbody tr th:only-of-type {\n",
              "        vertical-align: middle;\n",
              "    }\n",
              "\n",
              "    .dataframe tbody tr th {\n",
              "        vertical-align: top;\n",
              "    }\n",
              "\n",
              "    .dataframe thead th {\n",
              "        text-align: right;\n",
              "    }\n",
              "</style>\n",
              "<table border=\"1\" class=\"dataframe\">\n",
              "  <thead>\n",
              "    <tr style=\"text-align: right;\">\n",
              "      <th></th>\n",
              "      <th>count</th>\n",
              "    </tr>\n",
              "    <tr>\n",
              "      <th>Item_Type</th>\n",
              "      <th></th>\n",
              "    </tr>\n",
              "  </thead>\n",
              "  <tbody>\n",
              "    <tr>\n",
              "      <th>Fruits and Vegetables</th>\n",
              "      <td>1232</td>\n",
              "    </tr>\n",
              "    <tr>\n",
              "      <th>Snack Foods</th>\n",
              "      <td>1200</td>\n",
              "    </tr>\n",
              "    <tr>\n",
              "      <th>Household</th>\n",
              "      <td>910</td>\n",
              "    </tr>\n",
              "    <tr>\n",
              "      <th>Frozen Foods</th>\n",
              "      <td>856</td>\n",
              "    </tr>\n",
              "    <tr>\n",
              "      <th>Dairy</th>\n",
              "      <td>682</td>\n",
              "    </tr>\n",
              "    <tr>\n",
              "      <th>Canned</th>\n",
              "      <td>649</td>\n",
              "    </tr>\n",
              "    <tr>\n",
              "      <th>Baking Goods</th>\n",
              "      <td>648</td>\n",
              "    </tr>\n",
              "    <tr>\n",
              "      <th>Health and Hygiene</th>\n",
              "      <td>520</td>\n",
              "    </tr>\n",
              "    <tr>\n",
              "      <th>Soft Drinks</th>\n",
              "      <td>445</td>\n",
              "    </tr>\n",
              "    <tr>\n",
              "      <th>Meat</th>\n",
              "      <td>425</td>\n",
              "    </tr>\n",
              "    <tr>\n",
              "      <th>Breads</th>\n",
              "      <td>251</td>\n",
              "    </tr>\n",
              "    <tr>\n",
              "      <th>Hard Drinks</th>\n",
              "      <td>214</td>\n",
              "    </tr>\n",
              "    <tr>\n",
              "      <th>Others</th>\n",
              "      <td>169</td>\n",
              "    </tr>\n",
              "    <tr>\n",
              "      <th>Starchy Foods</th>\n",
              "      <td>148</td>\n",
              "    </tr>\n",
              "    <tr>\n",
              "      <th>Breakfast</th>\n",
              "      <td>110</td>\n",
              "    </tr>\n",
              "    <tr>\n",
              "      <th>Seafood</th>\n",
              "      <td>64</td>\n",
              "    </tr>\n",
              "  </tbody>\n",
              "</table>\n",
              "</div><br><label><b>dtype:</b> int64</label>"
            ]
          },
          "metadata": {},
          "execution_count": 10
        }
      ]
    },
    {
      "cell_type": "code",
      "source": [
        "df['Outlet_Size'].value_counts()"
      ],
      "metadata": {
        "colab": {
          "base_uri": "https://localhost:8080/",
          "height": 209
        },
        "id": "ODyD1LIOvshv",
        "outputId": "46efdec0-2bf9-449b-d03b-5ec145e241c5"
      },
      "execution_count": null,
      "outputs": [
        {
          "output_type": "execute_result",
          "data": {
            "text/plain": [
              "Outlet_Size\n",
              "Medium    2793\n",
              "Small     2388\n",
              "High       932\n",
              "Name: count, dtype: int64"
            ],
            "text/html": [
              "<div>\n",
              "<style scoped>\n",
              "    .dataframe tbody tr th:only-of-type {\n",
              "        vertical-align: middle;\n",
              "    }\n",
              "\n",
              "    .dataframe tbody tr th {\n",
              "        vertical-align: top;\n",
              "    }\n",
              "\n",
              "    .dataframe thead th {\n",
              "        text-align: right;\n",
              "    }\n",
              "</style>\n",
              "<table border=\"1\" class=\"dataframe\">\n",
              "  <thead>\n",
              "    <tr style=\"text-align: right;\">\n",
              "      <th></th>\n",
              "      <th>count</th>\n",
              "    </tr>\n",
              "    <tr>\n",
              "      <th>Outlet_Size</th>\n",
              "      <th></th>\n",
              "    </tr>\n",
              "  </thead>\n",
              "  <tbody>\n",
              "    <tr>\n",
              "      <th>Medium</th>\n",
              "      <td>2793</td>\n",
              "    </tr>\n",
              "    <tr>\n",
              "      <th>Small</th>\n",
              "      <td>2388</td>\n",
              "    </tr>\n",
              "    <tr>\n",
              "      <th>High</th>\n",
              "      <td>932</td>\n",
              "    </tr>\n",
              "  </tbody>\n",
              "</table>\n",
              "</div><br><label><b>dtype:</b> int64</label>"
            ]
          },
          "metadata": {},
          "execution_count": 11
        }
      ]
    },
    {
      "cell_type": "code",
      "source": [
        "df['Outlet_Location_Type'].value_counts()"
      ],
      "metadata": {
        "colab": {
          "base_uri": "https://localhost:8080/",
          "height": 209
        },
        "id": "k8_Igec-xkqH",
        "outputId": "3ffc9041-bb6c-4b4a-a957-5767bfc20a21"
      },
      "execution_count": null,
      "outputs": [
        {
          "output_type": "execute_result",
          "data": {
            "text/plain": [
              "Outlet_Location_Type\n",
              "Tier 3    3350\n",
              "Tier 2    2785\n",
              "Tier 1    2388\n",
              "Name: count, dtype: int64"
            ],
            "text/html": [
              "<div>\n",
              "<style scoped>\n",
              "    .dataframe tbody tr th:only-of-type {\n",
              "        vertical-align: middle;\n",
              "    }\n",
              "\n",
              "    .dataframe tbody tr th {\n",
              "        vertical-align: top;\n",
              "    }\n",
              "\n",
              "    .dataframe thead th {\n",
              "        text-align: right;\n",
              "    }\n",
              "</style>\n",
              "<table border=\"1\" class=\"dataframe\">\n",
              "  <thead>\n",
              "    <tr style=\"text-align: right;\">\n",
              "      <th></th>\n",
              "      <th>count</th>\n",
              "    </tr>\n",
              "    <tr>\n",
              "      <th>Outlet_Location_Type</th>\n",
              "      <th></th>\n",
              "    </tr>\n",
              "  </thead>\n",
              "  <tbody>\n",
              "    <tr>\n",
              "      <th>Tier 3</th>\n",
              "      <td>3350</td>\n",
              "    </tr>\n",
              "    <tr>\n",
              "      <th>Tier 2</th>\n",
              "      <td>2785</td>\n",
              "    </tr>\n",
              "    <tr>\n",
              "      <th>Tier 1</th>\n",
              "      <td>2388</td>\n",
              "    </tr>\n",
              "  </tbody>\n",
              "</table>\n",
              "</div><br><label><b>dtype:</b> int64</label>"
            ]
          },
          "metadata": {},
          "execution_count": 12
        }
      ]
    },
    {
      "cell_type": "code",
      "source": [
        "df['Outlet_Type'].value_counts()"
      ],
      "metadata": {
        "colab": {
          "base_uri": "https://localhost:8080/",
          "height": 241
        },
        "id": "r1LkVlMJxks7",
        "outputId": "40cd5b6b-e331-44b2-ceaa-8ed5eaf68683"
      },
      "execution_count": null,
      "outputs": [
        {
          "output_type": "execute_result",
          "data": {
            "text/plain": [
              "Outlet_Type\n",
              "Supermarket Type1    5577\n",
              "Grocery Store        1083\n",
              "Supermarket Type3     935\n",
              "Supermarket Type2     928\n",
              "Name: count, dtype: int64"
            ],
            "text/html": [
              "<div>\n",
              "<style scoped>\n",
              "    .dataframe tbody tr th:only-of-type {\n",
              "        vertical-align: middle;\n",
              "    }\n",
              "\n",
              "    .dataframe tbody tr th {\n",
              "        vertical-align: top;\n",
              "    }\n",
              "\n",
              "    .dataframe thead th {\n",
              "        text-align: right;\n",
              "    }\n",
              "</style>\n",
              "<table border=\"1\" class=\"dataframe\">\n",
              "  <thead>\n",
              "    <tr style=\"text-align: right;\">\n",
              "      <th></th>\n",
              "      <th>count</th>\n",
              "    </tr>\n",
              "    <tr>\n",
              "      <th>Outlet_Type</th>\n",
              "      <th></th>\n",
              "    </tr>\n",
              "  </thead>\n",
              "  <tbody>\n",
              "    <tr>\n",
              "      <th>Supermarket Type1</th>\n",
              "      <td>5577</td>\n",
              "    </tr>\n",
              "    <tr>\n",
              "      <th>Grocery Store</th>\n",
              "      <td>1083</td>\n",
              "    </tr>\n",
              "    <tr>\n",
              "      <th>Supermarket Type3</th>\n",
              "      <td>935</td>\n",
              "    </tr>\n",
              "    <tr>\n",
              "      <th>Supermarket Type2</th>\n",
              "      <td>928</td>\n",
              "    </tr>\n",
              "  </tbody>\n",
              "</table>\n",
              "</div><br><label><b>dtype:</b> int64</label>"
            ]
          },
          "metadata": {},
          "execution_count": 13
        }
      ]
    },
    {
      "cell_type": "code",
      "source": [
        "df['Item_Visibility'].min(), df['Item_Visibility'].mean(),  df['Item_Visibility'].max()"
      ],
      "metadata": {
        "colab": {
          "base_uri": "https://localhost:8080/"
        },
        "id": "xSFTb7cJvsxi",
        "outputId": "4cf7967e-b323-4896-9b44-dd6cfb25e1b0"
      },
      "execution_count": null,
      "outputs": [
        {
          "output_type": "execute_result",
          "data": {
            "text/plain": [
              "(0.0, np.float64(0.06613202877895108), 0.328390948)"
            ]
          },
          "metadata": {},
          "execution_count": 14
        }
      ]
    },
    {
      "cell_type": "code",
      "source": [
        "df['Item_MRP'].min(), df['Item_MRP'].mean(), df['Item_MRP'].max()"
      ],
      "metadata": {
        "colab": {
          "base_uri": "https://localhost:8080/"
        },
        "id": "813P1uK2yD9k",
        "outputId": "f6ab81d8-eef2-4145-84b8-e3abdbd73aaa"
      },
      "execution_count": null,
      "outputs": [
        {
          "output_type": "execute_result",
          "data": {
            "text/plain": [
              "(31.29, np.float64(140.9927819781767), 266.8884)"
            ]
          },
          "metadata": {},
          "execution_count": 15
        }
      ]
    },
    {
      "cell_type": "code",
      "source": [
        "df['Outlet_Establishment_Year'].min(), df['Outlet_Establishment_Year'].max()"
      ],
      "metadata": {
        "colab": {
          "base_uri": "https://localhost:8080/"
        },
        "id": "ugqJKuExyb24",
        "outputId": "0108d103-c288-4d73-d30f-00966cee34a6"
      },
      "execution_count": null,
      "outputs": [
        {
          "output_type": "execute_result",
          "data": {
            "text/plain": [
              "(1985, 2009)"
            ]
          },
          "metadata": {},
          "execution_count": 16
        }
      ]
    },
    {
      "cell_type": "code",
      "source": [
        "df['Outlet_Establishment_Year'].value_counts()"
      ],
      "metadata": {
        "colab": {
          "base_uri": "https://localhost:8080/",
          "height": 397
        },
        "id": "xDrGII0WzUf2",
        "outputId": "afe46f51-97f9-4735-ddbb-b7062ea07878"
      },
      "execution_count": null,
      "outputs": [
        {
          "output_type": "execute_result",
          "data": {
            "text/plain": [
              "Outlet_Establishment_Year\n",
              "1985    1463\n",
              "1987     932\n",
              "1999     930\n",
              "1997     930\n",
              "2004     930\n",
              "2002     929\n",
              "2009     928\n",
              "2007     926\n",
              "1998     555\n",
              "Name: count, dtype: int64"
            ],
            "text/html": [
              "<div>\n",
              "<style scoped>\n",
              "    .dataframe tbody tr th:only-of-type {\n",
              "        vertical-align: middle;\n",
              "    }\n",
              "\n",
              "    .dataframe tbody tr th {\n",
              "        vertical-align: top;\n",
              "    }\n",
              "\n",
              "    .dataframe thead th {\n",
              "        text-align: right;\n",
              "    }\n",
              "</style>\n",
              "<table border=\"1\" class=\"dataframe\">\n",
              "  <thead>\n",
              "    <tr style=\"text-align: right;\">\n",
              "      <th></th>\n",
              "      <th>count</th>\n",
              "    </tr>\n",
              "    <tr>\n",
              "      <th>Outlet_Establishment_Year</th>\n",
              "      <th></th>\n",
              "    </tr>\n",
              "  </thead>\n",
              "  <tbody>\n",
              "    <tr>\n",
              "      <th>1985</th>\n",
              "      <td>1463</td>\n",
              "    </tr>\n",
              "    <tr>\n",
              "      <th>1987</th>\n",
              "      <td>932</td>\n",
              "    </tr>\n",
              "    <tr>\n",
              "      <th>1999</th>\n",
              "      <td>930</td>\n",
              "    </tr>\n",
              "    <tr>\n",
              "      <th>1997</th>\n",
              "      <td>930</td>\n",
              "    </tr>\n",
              "    <tr>\n",
              "      <th>2004</th>\n",
              "      <td>930</td>\n",
              "    </tr>\n",
              "    <tr>\n",
              "      <th>2002</th>\n",
              "      <td>929</td>\n",
              "    </tr>\n",
              "    <tr>\n",
              "      <th>2009</th>\n",
              "      <td>928</td>\n",
              "    </tr>\n",
              "    <tr>\n",
              "      <th>2007</th>\n",
              "      <td>926</td>\n",
              "    </tr>\n",
              "    <tr>\n",
              "      <th>1998</th>\n",
              "      <td>555</td>\n",
              "    </tr>\n",
              "  </tbody>\n",
              "</table>\n",
              "</div><br><label><b>dtype:</b> int64</label>"
            ]
          },
          "metadata": {},
          "execution_count": 17
        }
      ]
    },
    {
      "cell_type": "code",
      "source": [
        "year_counts = df['Outlet_Establishment_Year'].value_counts().sort_index()\n",
        "\n",
        "# Plot\n",
        "plt.figure(figsize=(10,6))\n",
        "plt.bar(year_counts.index, year_counts.values)\n",
        "plt.xlabel('Outlet Establishment Year')\n",
        "plt.ylabel('Count')\n",
        "plt.title('Number of Outlets Established Each Year')\n",
        "plt.xticks(year_counts.index, rotation=45)\n",
        "plt.show()"
      ],
      "metadata": {
        "colab": {
          "base_uri": "https://localhost:8080/",
          "height": 585
        },
        "id": "21xRQJVuyb5V",
        "outputId": "faa8d1be-3e93-418f-d689-e8516d856837"
      },
      "execution_count": null,
      "outputs": [
        {
          "output_type": "display_data",
          "data": {
            "text/plain": [
              "<Figure size 1000x600 with 1 Axes>"
            ],
            "image/png": "[encoded data removed]"
          },
          "metadata": {}
        }
      ]
    },
    {
      "cell_type": "markdown",
      "source": [
        "There are some years when no establishment opened."
      ],
      "metadata": {
        "id": "UmpbTFKrzNRs"
      }
    },
    {
      "cell_type": "code",
      "source": [],
      "metadata": {
        "id": "zQUOyCEUyEAL"
      },
      "execution_count": null,
      "outputs": []
    },
    {
      "cell_type": "code",
      "source": [],
      "metadata": {
        "id": "vmHm68tSyEC2"
      },
      "execution_count": null,
      "outputs": []
    },
    {
      "cell_type": "code",
      "source": [
        "df.isna().sum()"
      ],
      "metadata": {
        "colab": {
          "base_uri": "https://localhost:8080/",
          "height": 460
        },
        "id": "ZtPc2ZmDtzO5",
        "outputId": "624b237a-2638-4b49-c66d-fbc5d96d4303"
      },
      "execution_count": null,
      "outputs": [
        {
          "output_type": "execute_result",
          "data": {
            "text/plain": [
              "Item_Identifier                 0\n",
              "Item_Weight                  1463\n",
              "Item_Fat_Content                0\n",
              "Item_Visibility                 0\n",
              "Item_Type                       0\n",
              "Item_MRP                        0\n",
              "Outlet_Identifier               0\n",
              "Outlet_Establishment_Year       0\n",
              "Outlet_Size                  2410\n",
              "Outlet_Location_Type            0\n",
              "Outlet_Type                     0\n",
              "Item_Outlet_Sales               0\n",
              "dtype: int64"
            ],
            "text/html": [
              "<div>\n",
              "<style scoped>\n",
              "    .dataframe tbody tr th:only-of-type {\n",
              "        vertical-align: middle;\n",
              "    }\n",
              "\n",
              "    .dataframe tbody tr th {\n",
              "        vertical-align: top;\n",
              "    }\n",
              "\n",
              "    .dataframe thead th {\n",
              "        text-align: right;\n",
              "    }\n",
              "</style>\n",
              "<table border=\"1\" class=\"dataframe\">\n",
              "  <thead>\n",
              "    <tr style=\"text-align: right;\">\n",
              "      <th></th>\n",
              "      <th>0</th>\n",
              "    </tr>\n",
              "  </thead>\n",
              "  <tbody>\n",
              "    <tr>\n",
              "      <th>Item_Identifier</th>\n",
              "      <td>0</td>\n",
              "    </tr>\n",
              "    <tr>\n",
              "      <th>Item_Weight</th>\n",
              "      <td>1463</td>\n",
              "    </tr>\n",
              "    <tr>\n",
              "      <th>Item_Fat_Content</th>\n",
              "      <td>0</td>\n",
              "    </tr>\n",
              "    <tr>\n",
              "      <th>Item_Visibility</th>\n",
              "      <td>0</td>\n",
              "    </tr>\n",
              "    <tr>\n",
              "      <th>Item_Type</th>\n",
              "      <td>0</td>\n",
              "    </tr>\n",
              "    <tr>\n",
              "      <th>Item_MRP</th>\n",
              "      <td>0</td>\n",
              "    </tr>\n",
              "    <tr>\n",
              "      <th>Outlet_Identifier</th>\n",
              "      <td>0</td>\n",
              "    </tr>\n",
              "    <tr>\n",
              "      <th>Outlet_Establishment_Year</th>\n",
              "      <td>0</td>\n",
              "    </tr>\n",
              "    <tr>\n",
              "      <th>Outlet_Size</th>\n",
              "      <td>2410</td>\n",
              "    </tr>\n",
              "    <tr>\n",
              "      <th>Outlet_Location_Type</th>\n",
              "      <td>0</td>\n",
              "    </tr>\n",
              "    <tr>\n",
              "      <th>Outlet_Type</th>\n",
              "      <td>0</td>\n",
              "    </tr>\n",
              "    <tr>\n",
              "      <th>Item_Outlet_Sales</th>\n",
              "      <td>0</td>\n",
              "    </tr>\n",
              "  </tbody>\n",
              "</table>\n",
              "</div><br><label><b>dtype:</b> int64</label>"
            ]
          },
          "metadata": {},
          "execution_count": 19
        }
      ]
    },
    {
      "cell_type": "code",
      "source": [
        "df['Outlet_Identifier'].value_counts()"
      ],
      "metadata": {
        "colab": {
          "base_uri": "https://localhost:8080/",
          "height": 429
        },
        "id": "MDKTLxgZ36q1",
        "outputId": "da5d7654-e8d7-497c-9de2-01005df5c82b"
      },
      "execution_count": null,
      "outputs": [
        {
          "output_type": "execute_result",
          "data": {
            "text/plain": [
              "Outlet_Identifier\n",
              "OUT027    935\n",
              "OUT013    932\n",
              "OUT035    930\n",
              "OUT049    930\n",
              "OUT046    930\n",
              "OUT045    929\n",
              "OUT018    928\n",
              "OUT017    926\n",
              "OUT010    555\n",
              "OUT019    528\n",
              "Name: count, dtype: int64"
            ],
            "text/html": [
              "<div>\n",
              "<style scoped>\n",
              "    .dataframe tbody tr th:only-of-type {\n",
              "        vertical-align: middle;\n",
              "    }\n",
              "\n",
              "    .dataframe tbody tr th {\n",
              "        vertical-align: top;\n",
              "    }\n",
              "\n",
              "    .dataframe thead th {\n",
              "        text-align: right;\n",
              "    }\n",
              "</style>\n",
              "<table border=\"1\" class=\"dataframe\">\n",
              "  <thead>\n",
              "    <tr style=\"text-align: right;\">\n",
              "      <th></th>\n",
              "      <th>count</th>\n",
              "    </tr>\n",
              "    <tr>\n",
              "      <th>Outlet_Identifier</th>\n",
              "      <th></th>\n",
              "    </tr>\n",
              "  </thead>\n",
              "  <tbody>\n",
              "    <tr>\n",
              "      <th>OUT027</th>\n",
              "      <td>935</td>\n",
              "    </tr>\n",
              "    <tr>\n",
              "      <th>OUT013</th>\n",
              "      <td>932</td>\n",
              "    </tr>\n",
              "    <tr>\n",
              "      <th>OUT035</th>\n",
              "      <td>930</td>\n",
              "    </tr>\n",
              "    <tr>\n",
              "      <th>OUT049</th>\n",
              "      <td>930</td>\n",
              "    </tr>\n",
              "    <tr>\n",
              "      <th>OUT046</th>\n",
              "      <td>930</td>\n",
              "    </tr>\n",
              "    <tr>\n",
              "      <th>OUT045</th>\n",
              "      <td>929</td>\n",
              "    </tr>\n",
              "    <tr>\n",
              "      <th>OUT018</th>\n",
              "      <td>928</td>\n",
              "    </tr>\n",
              "    <tr>\n",
              "      <th>OUT017</th>\n",
              "      <td>926</td>\n",
              "    </tr>\n",
              "    <tr>\n",
              "      <th>OUT010</th>\n",
              "      <td>555</td>\n",
              "    </tr>\n",
              "    <tr>\n",
              "      <th>OUT019</th>\n",
              "      <td>528</td>\n",
              "    </tr>\n",
              "  </tbody>\n",
              "</table>\n",
              "</div><br><label><b>dtype:</b> int64</label>"
            ]
          },
          "metadata": {},
          "execution_count": 20
        }
      ]
    },
    {
      "cell_type": "code",
      "source": [
        "adict = {}\n",
        "for ele in zip(df['Outlet_Identifier'], df['Outlet_Size']):\n",
        "  adict[(ele[0], ele[1])] = 1"
      ],
      "metadata": {
        "id": "HxinCSGO4Be_"
      },
      "execution_count": null,
      "outputs": []
    },
    {
      "cell_type": "code",
      "source": [
        "adict"
      ],
      "metadata": {
        "colab": {
          "base_uri": "https://localhost:8080/"
        },
        "id": "72Eh4am_4kT8",
        "outputId": "e895e432-221a-47c3-ec06-5c077106bbb1"
      },
      "execution_count": null,
      "outputs": [
        {
          "output_type": "execute_result",
          "data": {
            "text/plain": [
              "{('OUT049', 'Medium'): 1,\n",
              " ('OUT018', 'Medium'): 1,\n",
              " ('OUT010', nan): 1,\n",
              " ('OUT013', 'High'): 1,\n",
              " ('OUT027', 'Medium'): 1,\n",
              " ('OUT045', nan): 1,\n",
              " ('OUT017', nan): 1,\n",
              " ('OUT046', 'Small'): 1,\n",
              " ('OUT035', 'Small'): 1,\n",
              " ('OUT019', 'Small'): 1}"
            ]
          },
          "metadata": {},
          "execution_count": 10
        }
      ]
    },
    {
      "cell_type": "code",
      "source": [
        "# ('OUT049', 'Medium'): 1,\n",
        "#  ('OUT018', 'Medium'): 1,\n",
        "#  ('OUT010', nan): 1,-----------Grocery store, tier 3  (small)\n",
        "#  ('OUT013', 'High'): 1,\n",
        "#  ('OUT027', 'Medium'): 1,\n",
        "#  ('OUT045', nan): 1,------------Supermarket 1, Tier2   (small)\n",
        "#  ('OUT017', nan): 1,------------Supermarket 1, Tier2   (small)\n",
        "#  ('OUT046', 'Small'): 1,\n",
        "#  ('OUT035', 'Small'): 1,\n",
        "#  ('OUT019', 'Small'): 1"
      ],
      "metadata": {
        "id": "3pPXNSZO4xbW"
      },
      "execution_count": null,
      "outputs": []
    },
    {
      "cell_type": "code",
      "source": [
        "df['Outlet_Size'].value_counts()"
      ],
      "metadata": {
        "colab": {
          "base_uri": "https://localhost:8080/",
          "height": 209
        },
        "id": "8ZDWGszU6KKN",
        "outputId": "f479ea02-13f0-4baa-d972-8eb890810bc3"
      },
      "execution_count": null,
      "outputs": [
        {
          "output_type": "execute_result",
          "data": {
            "text/plain": [
              "Outlet_Size\n",
              "Medium    2793\n",
              "Small     2388\n",
              "High       932\n",
              "Name: count, dtype: int64"
            ],
            "text/html": [
              "<div>\n",
              "<style scoped>\n",
              "    .dataframe tbody tr th:only-of-type {\n",
              "        vertical-align: middle;\n",
              "    }\n",
              "\n",
              "    .dataframe tbody tr th {\n",
              "        vertical-align: top;\n",
              "    }\n",
              "\n",
              "    .dataframe thead th {\n",
              "        text-align: right;\n",
              "    }\n",
              "</style>\n",
              "<table border=\"1\" class=\"dataframe\">\n",
              "  <thead>\n",
              "    <tr style=\"text-align: right;\">\n",
              "      <th></th>\n",
              "      <th>count</th>\n",
              "    </tr>\n",
              "    <tr>\n",
              "      <th>Outlet_Size</th>\n",
              "      <th></th>\n",
              "    </tr>\n",
              "  </thead>\n",
              "  <tbody>\n",
              "    <tr>\n",
              "      <th>Medium</th>\n",
              "      <td>2793</td>\n",
              "    </tr>\n",
              "    <tr>\n",
              "      <th>Small</th>\n",
              "      <td>2388</td>\n",
              "    </tr>\n",
              "    <tr>\n",
              "      <th>High</th>\n",
              "      <td>932</td>\n",
              "    </tr>\n",
              "  </tbody>\n",
              "</table>\n",
              "</div><br><label><b>dtype:</b> int64</label>"
            ]
          },
          "metadata": {},
          "execution_count": 24
        }
      ]
    },
    {
      "cell_type": "markdown",
      "source": [
        "### Feature Engineering Operations"
      ],
      "metadata": {
        "id": "nqvraGTX4wvG"
      }
    },
    {
      "cell_type": "code",
      "source": [
        "df['Outlet_Size'].value_counts()"
      ],
      "metadata": {
        "colab": {
          "base_uri": "https://localhost:8080/",
          "height": 209
        },
        "id": "VIxAHFG_SCKg",
        "outputId": "35c58e4b-ea58-4b76-c90f-4637b4490946"
      },
      "execution_count": null,
      "outputs": [
        {
          "output_type": "execute_result",
          "data": {
            "text/plain": [
              "Outlet_Size\n",
              "Medium    2793\n",
              "Small     2388\n",
              "High       932\n",
              "Name: count, dtype: int64"
            ],
            "text/html": [
              "<div>\n",
              "<style scoped>\n",
              "    .dataframe tbody tr th:only-of-type {\n",
              "        vertical-align: middle;\n",
              "    }\n",
              "\n",
              "    .dataframe tbody tr th {\n",
              "        vertical-align: top;\n",
              "    }\n",
              "\n",
              "    .dataframe thead th {\n",
              "        text-align: right;\n",
              "    }\n",
              "</style>\n",
              "<table border=\"1\" class=\"dataframe\">\n",
              "  <thead>\n",
              "    <tr style=\"text-align: right;\">\n",
              "      <th></th>\n",
              "      <th>count</th>\n",
              "    </tr>\n",
              "    <tr>\n",
              "      <th>Outlet_Size</th>\n",
              "      <th></th>\n",
              "    </tr>\n",
              "  </thead>\n",
              "  <tbody>\n",
              "    <tr>\n",
              "      <th>Medium</th>\n",
              "      <td>2793</td>\n",
              "    </tr>\n",
              "    <tr>\n",
              "      <th>Small</th>\n",
              "      <td>2388</td>\n",
              "    </tr>\n",
              "    <tr>\n",
              "      <th>High</th>\n",
              "      <td>932</td>\n",
              "    </tr>\n",
              "  </tbody>\n",
              "</table>\n",
              "</div><br><label><b>dtype:</b> int64</label>"
            ]
          },
          "metadata": {},
          "execution_count": 25
        }
      ]
    },
    {
      "cell_type": "code",
      "source": [
        "df['Outlet_Size'].fillna('Small', inplace=True)"
      ],
      "metadata": {
        "colab": {
          "base_uri": "https://localhost:8080/"
        },
        "id": "njs5n31E2STk",
        "outputId": "acda5a74-9b43-4257-aeaa-6a4f063656d7"
      },
      "execution_count": null,
      "outputs": [
        {
          "output_type": "stream",
          "name": "stderr",
          "text": [
            "<ipython-input-55-4201d7de8731>:1: FutureWarning: A value is trying to be set on a copy of a DataFrame or Series through chained assignment using an inplace method.\n",
            "The behavior will change in pandas 3.0. This inplace method will never work because the intermediate object on which we are setting values always behaves as a copy.\n",
            "\n",
            "For example, when doing 'df[col].method(value, inplace=True)', try using 'df.method({col: value}, inplace=True)' or df[col] = df[col].method(value) instead, to perform the operation inplace on the original object.\n",
            "\n",
            "\n",
            "  df['Outlet_Size'].fillna('Small', inplace=True)\n"
          ]
        }
      ]
    },
    {
      "cell_type": "code",
      "source": [
        "df['Item_Fat_Content'].unique()"
      ],
      "metadata": {
        "colab": {
          "base_uri": "https://localhost:8080/"
        },
        "id": "ORnoE8fl2QDp",
        "outputId": "3198df25-f3f0-4954-ebfd-35b3c178e109"
      },
      "execution_count": null,
      "outputs": [
        {
          "output_type": "execute_result",
          "data": {
            "text/plain": [
              "array(['Low Fat', 'Regular', 'low fat', 'LF', 'reg'], dtype=object)"
            ]
          },
          "metadata": {},
          "execution_count": 12
        }
      ]
    },
    {
      "cell_type": "code",
      "source": [
        "df['Item_Fat_Content'] = df['Item_Fat_Content'].map({'Low Fat':'LF',\n",
        "                            'Regular': 'reg',\n",
        "                            'LF': 'LF',\n",
        "                            'reg':'reg',\n",
        "                            'low fat': 'LF'})\n",
        "df['Item_Fat_Content'].value_counts()"
      ],
      "metadata": {
        "colab": {
          "base_uri": "https://localhost:8080/",
          "height": 178
        },
        "id": "GpU0lqU84z7V",
        "outputId": "887e195f-370b-4e21-e114-7c23b69b59ab"
      },
      "execution_count": null,
      "outputs": [
        {
          "output_type": "execute_result",
          "data": {
            "text/plain": [
              "Item_Fat_Content\n",
              "LF     5517\n",
              "reg    3006\n",
              "Name: count, dtype: int64"
            ],
            "text/html": [
              "<div>\n",
              "<style scoped>\n",
              "    .dataframe tbody tr th:only-of-type {\n",
              "        vertical-align: middle;\n",
              "    }\n",
              "\n",
              "    .dataframe tbody tr th {\n",
              "        vertical-align: top;\n",
              "    }\n",
              "\n",
              "    .dataframe thead th {\n",
              "        text-align: right;\n",
              "    }\n",
              "</style>\n",
              "<table border=\"1\" class=\"dataframe\">\n",
              "  <thead>\n",
              "    <tr style=\"text-align: right;\">\n",
              "      <th></th>\n",
              "      <th>count</th>\n",
              "    </tr>\n",
              "    <tr>\n",
              "      <th>Item_Fat_Content</th>\n",
              "      <th></th>\n",
              "    </tr>\n",
              "  </thead>\n",
              "  <tbody>\n",
              "    <tr>\n",
              "      <th>LF</th>\n",
              "      <td>5517</td>\n",
              "    </tr>\n",
              "    <tr>\n",
              "      <th>reg</th>\n",
              "      <td>3006</td>\n",
              "    </tr>\n",
              "  </tbody>\n",
              "</table>\n",
              "</div><br><label><b>dtype:</b> int64</label>"
            ]
          },
          "metadata": {},
          "execution_count": 9
        }
      ]
    },
    {
      "cell_type": "code",
      "source": [
        "df.columns"
      ],
      "metadata": {
        "colab": {
          "base_uri": "https://localhost:8080/"
        },
        "id": "7SdXYdQbHQ9H",
        "outputId": "44439c75-559b-4ce9-b5bb-1e71f2c64add"
      },
      "execution_count": null,
      "outputs": [
        {
          "output_type": "execute_result",
          "data": {
            "text/plain": [
              "Index(['Item_Identifier', 'Item_Weight', 'Item_Fat_Content', 'Item_Visibility',\n",
              "       'Item_Type', 'Item_MRP', 'Outlet_Identifier',\n",
              "       'Outlet_Establishment_Year', 'Outlet_Size', 'Outlet_Location_Type',\n",
              "       'Outlet_Type', 'Item_Outlet_Sales', 'age'],\n",
              "      dtype='object')"
            ]
          },
          "metadata": {},
          "execution_count": 26
        }
      ]
    },
    {
      "cell_type": "code",
      "source": [
        "df['age'] = 2013 - df['Outlet_Establishment_Year']"
      ],
      "metadata": {
        "id": "rKYN1aQ46Sux"
      },
      "execution_count": null,
      "outputs": []
    },
    {
      "cell_type": "code",
      "source": [
        "df['Item_Weight'] = df['Item_Weight'].fillna(df.groupby('Item_Identifier')['Item_Weight'].transform('mean'))\n",
        "overall_mean = df['Item_Weight'].mean()\n",
        "df['Item_Weight'] = df['Item_Weight'].fillna(overall_mean)"
      ],
      "metadata": {
        "id": "eX-h-q3cEGxl"
      },
      "execution_count": null,
      "outputs": []
    },
    {
      "cell_type": "code",
      "source": [
        "df['price_per_weight'] = df['Item_MRP']/df['Item_Weight']"
      ],
      "metadata": {
        "id": "77bQl9ai6Sx4"
      },
      "execution_count": null,
      "outputs": []
    },
    {
      "cell_type": "code",
      "source": [
        "np.percentile(df['Item_Visibility'], 0), np.percentile(df['Item_Visibility'], 40), np.percentile(df['Item_Visibility'], 80)"
      ],
      "metadata": {
        "colab": {
          "base_uri": "https://localhost:8080/"
        },
        "id": "ZOiJr30zII5r",
        "outputId": "5e71ccf3-268a-430d-9cd4-da5b510c3df2"
      },
      "execution_count": null,
      "outputs": [
        {
          "output_type": "execute_result",
          "data": {
            "text/plain": [
              "(np.float64(0.0), np.float64(0.0417543446), np.float64(0.1069244294))"
            ]
          },
          "metadata": {},
          "execution_count": 13
        }
      ]
    },
    {
      "cell_type": "code",
      "source": [
        "df['Item_Visibility'].max()"
      ],
      "metadata": {
        "colab": {
          "base_uri": "https://localhost:8080/"
        },
        "id": "R0kDOUIQIa-x",
        "outputId": "d12ac04b-7e66-46c7-9e1a-496e0dc106af"
      },
      "execution_count": null,
      "outputs": [
        {
          "output_type": "execute_result",
          "data": {
            "text/plain": [
              "0.328390948"
            ]
          },
          "metadata": {},
          "execution_count": 14
        }
      ]
    },
    {
      "cell_type": "code",
      "source": [
        "df['visibility_level'] = pd.cut(df['Item_Visibility'],\n",
        "                            bins=[-1, 0.0417543446, 0.1069244294, float('inf')],\n",
        "                            labels=['Low', 'Medium', 'High'])"
      ],
      "metadata": {
        "id": "SQM11kL-Illc"
      },
      "execution_count": null,
      "outputs": []
    },
    {
      "cell_type": "code",
      "source": [
        "# df['weigh_level'] = pd.cut(df['Item_Weight'],\n",
        "#                             bins=[-1, 10, 15, float('inf')],\n",
        "#                             labels=['Low', 'Medium', 'High'])\n",
        "\n",
        "df['weigh_level'] = pd.cut(df['Item_Weight'],\n",
        "                            bins=[-1, 12.5, float('inf')],\n",
        "                            labels=['Low', 'High'])"
      ],
      "metadata": {
        "id": "3Op5cnelZnAi"
      },
      "execution_count": null,
      "outputs": []
    },
    {
      "cell_type": "code",
      "source": [
        "df['MRP_level'] = pd.cut(df['Item_MRP'],\n",
        "                            bins=[-1, 100, 210, float('inf')],\n",
        "                            labels=['Low', 'Medium', 'High'])\n",
        "\n",
        "# df['MRP_level'] = pd.cut(df['Item_MRP'],\n",
        "#                             bins=[-1, 70, 135, 200, float('inf')],\n",
        "#                             labels=['Low', 'Medium1', 'Medium2', 'High'])\n",
        "\n",
        "# 70, 135, 200"
      ],
      "metadata": {
        "id": "eK8GPV5pHIO_"
      },
      "execution_count": null,
      "outputs": []
    },
    {
      "cell_type": "code",
      "source": [
        "df['MRP_level'] .value_counts()"
      ],
      "metadata": {
        "colab": {
          "base_uri": "https://localhost:8080/",
          "height": 209
        },
        "id": "dn3A_afUlzqZ",
        "outputId": "8e965eeb-1858-4f5d-ecd4-616e3763dd79"
      },
      "execution_count": null,
      "outputs": [
        {
          "output_type": "execute_result",
          "data": {
            "text/plain": [
              "MRP_level\n",
              "Medium    4722\n",
              "Low       2439\n",
              "High      1362\n",
              "Name: count, dtype: int64"
            ],
            "text/html": [
              "<div>\n",
              "<style scoped>\n",
              "    .dataframe tbody tr th:only-of-type {\n",
              "        vertical-align: middle;\n",
              "    }\n",
              "\n",
              "    .dataframe tbody tr th {\n",
              "        vertical-align: top;\n",
              "    }\n",
              "\n",
              "    .dataframe thead th {\n",
              "        text-align: right;\n",
              "    }\n",
              "</style>\n",
              "<table border=\"1\" class=\"dataframe\">\n",
              "  <thead>\n",
              "    <tr style=\"text-align: right;\">\n",
              "      <th></th>\n",
              "      <th>count</th>\n",
              "    </tr>\n",
              "    <tr>\n",
              "      <th>MRP_level</th>\n",
              "      <th></th>\n",
              "    </tr>\n",
              "  </thead>\n",
              "  <tbody>\n",
              "    <tr>\n",
              "      <th>Medium</th>\n",
              "      <td>4722</td>\n",
              "    </tr>\n",
              "    <tr>\n",
              "      <th>Low</th>\n",
              "      <td>2439</td>\n",
              "    </tr>\n",
              "    <tr>\n",
              "      <th>High</th>\n",
              "      <td>1362</td>\n",
              "    </tr>\n",
              "  </tbody>\n",
              "</table>\n",
              "</div><br><label><b>dtype:</b> int64</label>"
            ]
          },
          "metadata": {},
          "execution_count": 90
        }
      ]
    },
    {
      "cell_type": "code",
      "source": [
        "df['Item_MRP'].min(), df['Item_MRP'].max()"
      ],
      "metadata": {
        "colab": {
          "base_uri": "https://localhost:8080/"
        },
        "id": "cjN1tokXVGBq",
        "outputId": "8537b87b-71bf-4d83-e840-404de37e3d2d"
      },
      "execution_count": null,
      "outputs": [
        {
          "output_type": "execute_result",
          "data": {
            "text/plain": [
              "(31.29, 266.8884)"
            ]
          },
          "metadata": {},
          "execution_count": 18
        }
      ]
    },
    {
      "cell_type": "code",
      "source": [
        "np.percentile(df['Item_MRP'], 50)"
      ],
      "metadata": {
        "colab": {
          "base_uri": "https://localhost:8080/"
        },
        "id": "Td1DoyVDVLEG",
        "outputId": "483c91fa-4982-4cde-b007-c2b0194bd18f"
      },
      "execution_count": null,
      "outputs": [
        {
          "output_type": "execute_result",
          "data": {
            "text/plain": [
              "np.float64(143.0128)"
            ]
          },
          "metadata": {},
          "execution_count": 19
        }
      ]
    },
    {
      "cell_type": "code",
      "source": [
        "df['Item_Identifier_cat'] = df['Item_Identifier'].apply(lambda ele: ele[:2])\n",
        "df['Item_Identifier_cat'].value_counts()"
      ],
      "metadata": {
        "colab": {
          "base_uri": "https://localhost:8080/",
          "height": 209
        },
        "id": "2678YNvVHFV0",
        "outputId": "7090ce2c-7c23-48e8-da4a-851d0dad9255"
      },
      "execution_count": null,
      "outputs": [
        {
          "output_type": "execute_result",
          "data": {
            "text/plain": [
              "Item_Identifier_cat\n",
              "FD    6125\n",
              "NC    1599\n",
              "DR     799\n",
              "Name: count, dtype: int64"
            ],
            "text/html": [
              "<div>\n",
              "<style scoped>\n",
              "    .dataframe tbody tr th:only-of-type {\n",
              "        vertical-align: middle;\n",
              "    }\n",
              "\n",
              "    .dataframe tbody tr th {\n",
              "        vertical-align: top;\n",
              "    }\n",
              "\n",
              "    .dataframe thead th {\n",
              "        text-align: right;\n",
              "    }\n",
              "</style>\n",
              "<table border=\"1\" class=\"dataframe\">\n",
              "  <thead>\n",
              "    <tr style=\"text-align: right;\">\n",
              "      <th></th>\n",
              "      <th>count</th>\n",
              "    </tr>\n",
              "    <tr>\n",
              "      <th>Item_Identifier_cat</th>\n",
              "      <th></th>\n",
              "    </tr>\n",
              "  </thead>\n",
              "  <tbody>\n",
              "    <tr>\n",
              "      <th>FD</th>\n",
              "      <td>6125</td>\n",
              "    </tr>\n",
              "    <tr>\n",
              "      <th>NC</th>\n",
              "      <td>1599</td>\n",
              "    </tr>\n",
              "    <tr>\n",
              "      <th>DR</th>\n",
              "      <td>799</td>\n",
              "    </tr>\n",
              "  </tbody>\n",
              "</table>\n",
              "</div><br><label><b>dtype:</b> int64</label>"
            ]
          },
          "metadata": {},
          "execution_count": 20
        }
      ]
    },
    {
      "cell_type": "code",
      "source": [
        "# df['Item_Type'].value_counts()"
      ],
      "metadata": {
        "id": "u4u2H3X07wwQ"
      },
      "execution_count": null,
      "outputs": []
    },
    {
      "cell_type": "code",
      "source": [
        "perishable_items = ['Fruits and Vegetables', 'Dairy', 'Meat', 'Breads', 'Seafood', 'Breakfast']\n",
        "\n",
        "df['is_perishable'] = df['Item_Type'].isin(perishable_items).astype(int)"
      ],
      "metadata": {
        "id": "6UyfoyBSKBWG"
      },
      "execution_count": null,
      "outputs": []
    },
    {
      "cell_type": "code",
      "source": [
        "df['is_perishable'].value_counts()"
      ],
      "metadata": {
        "colab": {
          "base_uri": "https://localhost:8080/",
          "height": 178
        },
        "id": "ReA1Cx12Kswk",
        "outputId": "bd1f3a26-0cca-4fc9-9c9e-ef29a453c357"
      },
      "execution_count": null,
      "outputs": [
        {
          "output_type": "execute_result",
          "data": {
            "text/plain": [
              "is_perishable\n",
              "0    5759\n",
              "1    2764\n",
              "Name: count, dtype: int64"
            ],
            "text/html": [
              "<div>\n",
              "<style scoped>\n",
              "    .dataframe tbody tr th:only-of-type {\n",
              "        vertical-align: middle;\n",
              "    }\n",
              "\n",
              "    .dataframe tbody tr th {\n",
              "        vertical-align: top;\n",
              "    }\n",
              "\n",
              "    .dataframe thead th {\n",
              "        text-align: right;\n",
              "    }\n",
              "</style>\n",
              "<table border=\"1\" class=\"dataframe\">\n",
              "  <thead>\n",
              "    <tr style=\"text-align: right;\">\n",
              "      <th></th>\n",
              "      <th>count</th>\n",
              "    </tr>\n",
              "    <tr>\n",
              "      <th>is_perishable</th>\n",
              "      <th></th>\n",
              "    </tr>\n",
              "  </thead>\n",
              "  <tbody>\n",
              "    <tr>\n",
              "      <th>0</th>\n",
              "      <td>5759</td>\n",
              "    </tr>\n",
              "    <tr>\n",
              "      <th>1</th>\n",
              "      <td>2764</td>\n",
              "    </tr>\n",
              "  </tbody>\n",
              "</table>\n",
              "</div><br><label><b>dtype:</b> int64</label>"
            ]
          },
          "metadata": {},
          "execution_count": 23
        }
      ]
    },
    {
      "cell_type": "code",
      "source": [
        "df['visibility_mrp'] = df['Item_Visibility']*df['Item_MRP']\n",
        "df['log_visibility'] = np.log(df['Item_Visibility'])\n",
        "df['log_visibility_mrp'] = np.log(df['visibility_mrp'])"
      ],
      "metadata": {
        "colab": {
          "base_uri": "https://localhost:8080/"
        },
        "id": "Z95cG-dGNXS6",
        "outputId": "317c9b35-162e-411a-9f89-ceeb13168640"
      },
      "execution_count": null,
      "outputs": [
        {
          "output_type": "stream",
          "name": "stderr",
          "text": [
            "/usr/local/lib/python3.11/dist-packages/pandas/core/arraylike.py:399: RuntimeWarning: divide by zero encountered in log\n",
            "  result = getattr(ufunc, method)(*inputs, **kwargs)\n",
            "/usr/local/lib/python3.11/dist-packages/pandas/core/arraylike.py:399: RuntimeWarning: divide by zero encountered in log\n",
            "  result = getattr(ufunc, method)(*inputs, **kwargs)\n"
          ]
        }
      ]
    },
    {
      "cell_type": "code",
      "source": [
        "df['Item_Type'].value_counts()"
      ],
      "metadata": {
        "colab": {
          "base_uri": "https://localhost:8080/",
          "height": 617
        },
        "id": "aPR7lxH7B--P",
        "outputId": "1a07a955-6346-47a1-e119-ca203ee9fab9"
      },
      "execution_count": null,
      "outputs": [
        {
          "output_type": "execute_result",
          "data": {
            "text/plain": [
              "Item_Type\n",
              "Fruits and Vegetables    1232\n",
              "Snack Foods              1200\n",
              "Household                 910\n",
              "Frozen Foods              856\n",
              "Dairy                     682\n",
              "Canned                    649\n",
              "Baking Goods              648\n",
              "Health and Hygiene        520\n",
              "Soft Drinks               445\n",
              "Meat                      425\n",
              "Breads                    251\n",
              "Hard Drinks               214\n",
              "Others                    169\n",
              "Starchy Foods             148\n",
              "Breakfast                 110\n",
              "Seafood                    64\n",
              "Name: count, dtype: int64"
            ],
            "text/html": [
              "<div>\n",
              "<style scoped>\n",
              "    .dataframe tbody tr th:only-of-type {\n",
              "        vertical-align: middle;\n",
              "    }\n",
              "\n",
              "    .dataframe tbody tr th {\n",
              "        vertical-align: top;\n",
              "    }\n",
              "\n",
              "    .dataframe thead th {\n",
              "        text-align: right;\n",
              "    }\n",
              "</style>\n",
              "<table border=\"1\" class=\"dataframe\">\n",
              "  <thead>\n",
              "    <tr style=\"text-align: right;\">\n",
              "      <th></th>\n",
              "      <th>count</th>\n",
              "    </tr>\n",
              "    <tr>\n",
              "      <th>Item_Type</th>\n",
              "      <th></th>\n",
              "    </tr>\n",
              "  </thead>\n",
              "  <tbody>\n",
              "    <tr>\n",
              "      <th>Fruits and Vegetables</th>\n",
              "      <td>1232</td>\n",
              "    </tr>\n",
              "    <tr>\n",
              "      <th>Snack Foods</th>\n",
              "      <td>1200</td>\n",
              "    </tr>\n",
              "    <tr>\n",
              "      <th>Household</th>\n",
              "      <td>910</td>\n",
              "    </tr>\n",
              "    <tr>\n",
              "      <th>Frozen Foods</th>\n",
              "      <td>856</td>\n",
              "    </tr>\n",
              "    <tr>\n",
              "      <th>Dairy</th>\n",
              "      <td>682</td>\n",
              "    </tr>\n",
              "    <tr>\n",
              "      <th>Canned</th>\n",
              "      <td>649</td>\n",
              "    </tr>\n",
              "    <tr>\n",
              "      <th>Baking Goods</th>\n",
              "      <td>648</td>\n",
              "    </tr>\n",
              "    <tr>\n",
              "      <th>Health and Hygiene</th>\n",
              "      <td>520</td>\n",
              "    </tr>\n",
              "    <tr>\n",
              "      <th>Soft Drinks</th>\n",
              "      <td>445</td>\n",
              "    </tr>\n",
              "    <tr>\n",
              "      <th>Meat</th>\n",
              "      <td>425</td>\n",
              "    </tr>\n",
              "    <tr>\n",
              "      <th>Breads</th>\n",
              "      <td>251</td>\n",
              "    </tr>\n",
              "    <tr>\n",
              "      <th>Hard Drinks</th>\n",
              "      <td>214</td>\n",
              "    </tr>\n",
              "    <tr>\n",
              "      <th>Others</th>\n",
              "      <td>169</td>\n",
              "    </tr>\n",
              "    <tr>\n",
              "      <th>Starchy Foods</th>\n",
              "      <td>148</td>\n",
              "    </tr>\n",
              "    <tr>\n",
              "      <th>Breakfast</th>\n",
              "      <td>110</td>\n",
              "    </tr>\n",
              "    <tr>\n",
              "      <th>Seafood</th>\n",
              "      <td>64</td>\n",
              "    </tr>\n",
              "  </tbody>\n",
              "</table>\n",
              "</div><br><label><b>dtype:</b> int64</label>"
            ]
          },
          "metadata": {},
          "execution_count": 25
        }
      ]
    },
    {
      "cell_type": "code",
      "source": [
        "processed_items = ['Snack Foods', 'Frozen Foods', 'Canned', 'Baking Goods', 'Soft Drinks',\n",
        "                   'Breads', 'Hard Drinks', 'Starchy Foods']\n",
        "df['is_processed'] = df['Item_Type'].isin(processed_items).astype(int)"
      ],
      "metadata": {
        "id": "hihPOgyIB1US"
      },
      "execution_count": null,
      "outputs": []
    },
    {
      "cell_type": "code",
      "source": [
        "# df.loc[df['Outlet_Type'] == 'Supermarket Type3', 'Outlet_Type'] = 'Supermarket Type2'"
      ],
      "metadata": {
        "id": "d9hTWyjvECas"
      },
      "execution_count": null,
      "outputs": []
    },
    {
      "cell_type": "code",
      "source": [
        "df['is_supermarket'] = df['Outlet_Type'].isin(['Supermarket Type1', 'Supermarket Type2', 'Supermarket Type3']).astype(int)"
      ],
      "metadata": {
        "id": "ASCbcmBCFala"
      },
      "execution_count": null,
      "outputs": []
    },
    {
      "cell_type": "code",
      "source": [
        "def map_item_type(x):\n",
        "    if x in ['Fruits and Vegetables', 'Snack Foods', 'Frozen Foods', 'Canned', 'Baking Goods', 'Meat',\n",
        "            'Breads', 'Starchy Foods', 'Breakfast', 'Seafood']:\n",
        "        return 'food'\n",
        "    elif x in ['Dairy', 'Soft Drinks', 'Hard Drinks']:\n",
        "        return 'drinks'\n",
        "    elif x in ['Household', 'Health and Hygiene', 'Others']:\n",
        "        return 'non_eatable'\n",
        "    else:\n",
        "        return 'unknown'\n",
        "\n",
        "# Apply the mapping\n",
        "df['item_type_cat'] = df['Item_Type'].apply(map_item_type)\n",
        "\n",
        "tier_map = {'Tier 1': 1, 'Tier 2': 2, 'Tier 3': 3}\n",
        "df['Outlet_Tier'] = df['Outlet_Location_Type'].map(tier_map)"
      ],
      "metadata": {
        "id": "stJQ8subGihv"
      },
      "execution_count": null,
      "outputs": []
    },
    {
      "cell_type": "code",
      "source": [
        "df['Visibility_Perishable'] = df['Item_Visibility'] * df['is_perishable']"
      ],
      "metadata": {
        "id": "C7ZXUboAJnXn"
      },
      "execution_count": null,
      "outputs": []
    },
    {
      "cell_type": "code",
      "source": [
        "df['Outlet_Location_Type'].value_counts()"
      ],
      "metadata": {
        "colab": {
          "base_uri": "https://localhost:8080/",
          "height": 209
        },
        "id": "An5uP0sCD9Yg",
        "outputId": "d8f11484-ffe0-4cc3-800a-bae0f6fc5c0d"
      },
      "execution_count": null,
      "outputs": [
        {
          "output_type": "execute_result",
          "data": {
            "text/plain": [
              "Outlet_Location_Type\n",
              "Tier 3    3350\n",
              "Tier 2    2785\n",
              "Tier 1    2388\n",
              "Name: count, dtype: int64"
            ],
            "text/html": [
              "<div>\n",
              "<style scoped>\n",
              "    .dataframe tbody tr th:only-of-type {\n",
              "        vertical-align: middle;\n",
              "    }\n",
              "\n",
              "    .dataframe tbody tr th {\n",
              "        vertical-align: top;\n",
              "    }\n",
              "\n",
              "    .dataframe thead th {\n",
              "        text-align: right;\n",
              "    }\n",
              "</style>\n",
              "<table border=\"1\" class=\"dataframe\">\n",
              "  <thead>\n",
              "    <tr style=\"text-align: right;\">\n",
              "      <th></th>\n",
              "      <th>count</th>\n",
              "    </tr>\n",
              "    <tr>\n",
              "      <th>Outlet_Location_Type</th>\n",
              "      <th></th>\n",
              "    </tr>\n",
              "  </thead>\n",
              "  <tbody>\n",
              "    <tr>\n",
              "      <th>Tier 3</th>\n",
              "      <td>3350</td>\n",
              "    </tr>\n",
              "    <tr>\n",
              "      <th>Tier 2</th>\n",
              "      <td>2785</td>\n",
              "    </tr>\n",
              "    <tr>\n",
              "      <th>Tier 1</th>\n",
              "      <td>2388</td>\n",
              "    </tr>\n",
              "  </tbody>\n",
              "</table>\n",
              "</div><br><label><b>dtype:</b> int64</label>"
            ]
          },
          "metadata": {},
          "execution_count": 31
        }
      ]
    },
    {
      "cell_type": "code",
      "source": [
        "# # Mean sales per Item\n",
        "# df['item_avg_sales'] = df['Item_Identifier'].map(df.groupby('Item_Identifier')['Item_Outlet_Sales'].mean())\n",
        "\n",
        "# # Mean sales per Outlet\n",
        "# df['outlet_avg_sales'] = df['Outlet_Identifier'].map(df.groupby('Outlet_Identifier')['Item_Outlet_Sales'].mean())\n",
        "\n",
        "from sklearn.model_selection import KFold\n",
        "\n",
        "# Create empty feature\n",
        "df['item_avg_sales'] = np.nan\n",
        "\n",
        "# 5-fold\n",
        "kf = KFold(n_splits=5, shuffle=True, random_state=42)\n",
        "\n",
        "for train_idx, val_idx in kf.split(df):\n",
        "    train_data, val_data = df.iloc[train_idx], df.iloc[val_idx]\n",
        "\n",
        "    # Group on training data only\n",
        "    means = train_data.groupby('Item_Identifier')['Item_Outlet_Sales'].mean()\n",
        "\n",
        "    # Map means to validation data\n",
        "    df.loc[val_idx, 'item_avg_sales'] = df.loc[val_idx, 'Item_Identifier'].map(means)\n",
        "\n",
        "# Finally, fill remaining NaNs (if any) with global mean\n",
        "df['item_avg_sales'].fillna(df['Item_Outlet_Sales'].mean(), inplace=True)\n"
      ],
      "metadata": {
        "colab": {
          "base_uri": "https://localhost:8080/"
        },
        "id": "6_zeT3J35uVz",
        "outputId": "6a2b37f3-e551-44f4-c69a-7109bf8f39aa"
      },
      "execution_count": null,
      "outputs": [
        {
          "output_type": "stream",
          "name": "stderr",
          "text": [
            "<ipython-input-32-a14684373055>:25: FutureWarning: A value is trying to be set on a copy of a DataFrame or Series through chained assignment using an inplace method.\n",
            "The behavior will change in pandas 3.0. This inplace method will never work because the intermediate object on which we are setting values always behaves as a copy.\n",
            "\n",
            "For example, when doing 'df[col].method(value, inplace=True)', try using 'df.method({col: value}, inplace=True)' or df[col] = df[col].method(value) instead, to perform the operation inplace on the original object.\n",
            "\n",
            "\n",
            "  df['item_avg_sales'].fillna(df['Item_Outlet_Sales'].mean(), inplace=True)\n"
          ]
        }
      ]
    },
    {
      "cell_type": "code",
      "source": [
        "# Create empty feature\n",
        "df['outlet_avg_sales'] = np.nan\n",
        "\n",
        "# 5-fold\n",
        "kf = KFold(n_splits=5, shuffle=True, random_state=42)\n",
        "\n",
        "for train_idx, val_idx in kf.split(df):\n",
        "    train_data, val_data = df.iloc[train_idx], df.iloc[val_idx]\n",
        "\n",
        "    # Group on training data only\n",
        "    means = train_data.groupby('Outlet_Identifier')['Item_Outlet_Sales'].mean()\n",
        "\n",
        "    # Map means to validation data\n",
        "    df.loc[val_idx, 'outlet_avg_sales'] = df.loc[val_idx, 'Outlet_Identifier'].map(means)\n",
        "\n",
        "# Finally, fill remaining NaNs (if any) with global mean\n",
        "df['outlet_avg_sales'].fillna(df['Item_Outlet_Sales'].mean(), inplace=True)"
      ],
      "metadata": {
        "colab": {
          "base_uri": "https://localhost:8080/"
        },
        "id": "mW8k9yk39MZQ",
        "outputId": "62b36923-4a13-4290-f4ff-955ada292d9f"
      },
      "execution_count": null,
      "outputs": [
        {
          "output_type": "stream",
          "name": "stderr",
          "text": [
            "<ipython-input-33-2819f548a330>:17: FutureWarning: A value is trying to be set on a copy of a DataFrame or Series through chained assignment using an inplace method.\n",
            "The behavior will change in pandas 3.0. This inplace method will never work because the intermediate object on which we are setting values always behaves as a copy.\n",
            "\n",
            "For example, when doing 'df[col].method(value, inplace=True)', try using 'df.method({col: value}, inplace=True)' or df[col] = df[col].method(value) instead, to perform the operation inplace on the original object.\n",
            "\n",
            "\n",
            "  df['outlet_avg_sales'].fillna(df['Item_Outlet_Sales'].mean(), inplace=True)\n"
          ]
        }
      ]
    },
    {
      "cell_type": "code",
      "source": [],
      "metadata": {
        "id": "uPEJ58lL5uZZ"
      },
      "execution_count": null,
      "outputs": []
    },
    {
      "cell_type": "code",
      "source": [
        "# # List of non-veg Item Types\n",
        "# nonveg_items = ['Meat', 'Seafood']\n",
        "\n",
        "# # Create if_nonveg column\n",
        "# df['is_nonveg'] = df['Item_Type'].isin(nonveg_items).astype(int)\n"
      ],
      "metadata": {
        "id": "jGH7mIo9-dLs"
      },
      "execution_count": null,
      "outputs": []
    },
    {
      "cell_type": "code",
      "source": [
        "# df['outlet_type_size'] = df['Outlet_Type'] + \"_\" + df['Outlet_Size']"
      ],
      "metadata": {
        "id": "pQ7gyo4JQK7M"
      },
      "execution_count": null,
      "outputs": []
    },
    {
      "cell_type": "code",
      "source": [
        "# df['outlet_type_size'].value_counts()"
      ],
      "metadata": {
        "id": "IkVGH_0VTUgB"
      },
      "execution_count": null,
      "outputs": []
    },
    {
      "cell_type": "code",
      "source": [
        "df['Outlet_Type'].value_counts()"
      ],
      "metadata": {
        "colab": {
          "base_uri": "https://localhost:8080/",
          "height": 241
        },
        "id": "Mxz3FjJ_QGGQ",
        "outputId": "2cad8058-0bf9-40a4-aaad-dd63c596ef39"
      },
      "execution_count": null,
      "outputs": [
        {
          "output_type": "execute_result",
          "data": {
            "text/plain": [
              "Outlet_Type\n",
              "Supermarket Type1    5577\n",
              "Grocery Store        1083\n",
              "Supermarket Type3     935\n",
              "Supermarket Type2     928\n",
              "Name: count, dtype: int64"
            ],
            "text/html": [
              "<div>\n",
              "<style scoped>\n",
              "    .dataframe tbody tr th:only-of-type {\n",
              "        vertical-align: middle;\n",
              "    }\n",
              "\n",
              "    .dataframe tbody tr th {\n",
              "        vertical-align: top;\n",
              "    }\n",
              "\n",
              "    .dataframe thead th {\n",
              "        text-align: right;\n",
              "    }\n",
              "</style>\n",
              "<table border=\"1\" class=\"dataframe\">\n",
              "  <thead>\n",
              "    <tr style=\"text-align: right;\">\n",
              "      <th></th>\n",
              "      <th>count</th>\n",
              "    </tr>\n",
              "    <tr>\n",
              "      <th>Outlet_Type</th>\n",
              "      <th></th>\n",
              "    </tr>\n",
              "  </thead>\n",
              "  <tbody>\n",
              "    <tr>\n",
              "      <th>Supermarket Type1</th>\n",
              "      <td>5577</td>\n",
              "    </tr>\n",
              "    <tr>\n",
              "      <th>Grocery Store</th>\n",
              "      <td>1083</td>\n",
              "    </tr>\n",
              "    <tr>\n",
              "      <th>Supermarket Type3</th>\n",
              "      <td>935</td>\n",
              "    </tr>\n",
              "    <tr>\n",
              "      <th>Supermarket Type2</th>\n",
              "      <td>928</td>\n",
              "    </tr>\n",
              "  </tbody>\n",
              "</table>\n",
              "</div><br><label><b>dtype:</b> int64</label>"
            ]
          },
          "metadata": {},
          "execution_count": 37
        }
      ]
    },
    {
      "cell_type": "code",
      "source": [
        "df['Outlet_Size'].value_counts()"
      ],
      "metadata": {
        "colab": {
          "base_uri": "https://localhost:8080/",
          "height": 209
        },
        "id": "-UrXkrndTDr2",
        "outputId": "5c7c32a3-b160-499d-9c68-18539316c67a"
      },
      "execution_count": null,
      "outputs": [
        {
          "output_type": "execute_result",
          "data": {
            "text/plain": [
              "Outlet_Size\n",
              "Medium    2793\n",
              "Small     2388\n",
              "High       932\n",
              "Name: count, dtype: int64"
            ],
            "text/html": [
              "<div>\n",
              "<style scoped>\n",
              "    .dataframe tbody tr th:only-of-type {\n",
              "        vertical-align: middle;\n",
              "    }\n",
              "\n",
              "    .dataframe tbody tr th {\n",
              "        vertical-align: top;\n",
              "    }\n",
              "\n",
              "    .dataframe thead th {\n",
              "        text-align: right;\n",
              "    }\n",
              "</style>\n",
              "<table border=\"1\" class=\"dataframe\">\n",
              "  <thead>\n",
              "    <tr style=\"text-align: right;\">\n",
              "      <th></th>\n",
              "      <th>count</th>\n",
              "    </tr>\n",
              "    <tr>\n",
              "      <th>Outlet_Size</th>\n",
              "      <th></th>\n",
              "    </tr>\n",
              "  </thead>\n",
              "  <tbody>\n",
              "    <tr>\n",
              "      <th>Medium</th>\n",
              "      <td>2793</td>\n",
              "    </tr>\n",
              "    <tr>\n",
              "      <th>Small</th>\n",
              "      <td>2388</td>\n",
              "    </tr>\n",
              "    <tr>\n",
              "      <th>High</th>\n",
              "      <td>932</td>\n",
              "    </tr>\n",
              "  </tbody>\n",
              "</table>\n",
              "</div><br><label><b>dtype:</b> int64</label>"
            ]
          },
          "metadata": {},
          "execution_count": 38
        }
      ]
    },
    {
      "cell_type": "code",
      "source": [
        "df.columns"
      ],
      "metadata": {
        "id": "Rp-zDqkY-WYL",
        "colab": {
          "base_uri": "https://localhost:8080/"
        },
        "outputId": "3abac8be-94ca-4937-b37c-5c6edeaa1a9f"
      },
      "execution_count": null,
      "outputs": [
        {
          "output_type": "execute_result",
          "data": {
            "text/plain": [
              "Index(['Item_Identifier', 'Item_Weight', 'Item_Fat_Content', 'Item_Visibility',\n",
              "       'Item_Type', 'Item_MRP', 'Outlet_Identifier',\n",
              "       'Outlet_Establishment_Year', 'Outlet_Size', 'Outlet_Location_Type',\n",
              "       'Outlet_Type', 'Item_Outlet_Sales', 'age', 'price_per_weight',\n",
              "       'visibility_level', 'weigh_level', 'MRP_level', 'Item_Identifier_cat',\n",
              "       'is_perishable', 'visibility_mrp', 'log_visibility',\n",
              "       'log_visibility_mrp', 'is_processed', 'is_supermarket', 'item_type_cat',\n",
              "       'Outlet_Tier', 'Visibility_Perishable', 'item_avg_sales',\n",
              "       'outlet_avg_sales'],\n",
              "      dtype='object')"
            ]
          },
          "metadata": {},
          "execution_count": 39
        }
      ]
    },
    {
      "cell_type": "code",
      "source": [
        "# cat_features"
      ],
      "metadata": {
        "id": "lcvnUu3xBW8c"
      },
      "execution_count": null,
      "outputs": []
    },
    {
      "cell_type": "code",
      "source": [
        "# num_features = set(df.columns) - set(cat_features)\n",
        "# num_features"
      ],
      "metadata": {
        "id": "TuJekroe5KSw"
      },
      "execution_count": null,
      "outputs": []
    },
    {
      "cell_type": "markdown",
      "source": [
        "* Only Item_Weight and Outlet_Size has missing values"
      ],
      "metadata": {
        "id": "caB3DZRjvca7"
      }
    },
    {
      "cell_type": "code",
      "source": [
        "df.columns"
      ],
      "metadata": {
        "colab": {
          "base_uri": "https://localhost:8080/"
        },
        "id": "PSDH4Ct-uOgQ",
        "outputId": "61fa95b7-9dbe-426f-d267-4b7798798c42"
      },
      "execution_count": null,
      "outputs": [
        {
          "output_type": "execute_result",
          "data": {
            "text/plain": [
              "Index(['Item_Identifier', 'Item_Weight', 'Item_Fat_Content', 'Item_Visibility',\n",
              "       'Item_Type', 'Item_MRP', 'Outlet_Identifier',\n",
              "       'Outlet_Establishment_Year', 'Outlet_Size', 'Outlet_Location_Type',\n",
              "       'Outlet_Type', 'Item_Outlet_Sales', 'age', 'price_per_weight',\n",
              "       'visibility_level', 'weigh_level', 'MRP_level', 'Item_Identifier_cat',\n",
              "       'is_perishable', 'visibility_mrp', 'log_visibility',\n",
              "       'log_visibility_mrp', 'is_processed', 'is_supermarket', 'item_type_cat',\n",
              "       'Outlet_Tier', 'Visibility_Perishable', 'item_avg_sales',\n",
              "       'outlet_avg_sales'],\n",
              "      dtype='object')"
            ]
          },
          "metadata": {},
          "execution_count": 42
        }
      ]
    },
    {
      "cell_type": "code",
      "source": [
        "df['Item_Identifier'].nunique()"
      ],
      "metadata": {
        "colab": {
          "base_uri": "https://localhost:8080/"
        },
        "id": "ZSgbOFi4uOih",
        "outputId": "f0e3c2d4-7bfe-4df9-f41a-56d69b60fa7b"
      },
      "execution_count": null,
      "outputs": [
        {
          "output_type": "execute_result",
          "data": {
            "text/plain": [
              "1559"
            ]
          },
          "metadata": {},
          "execution_count": 43
        }
      ]
    },
    {
      "cell_type": "code",
      "source": [
        "df['Outlet_Identifier'].nunique()"
      ],
      "metadata": {
        "colab": {
          "base_uri": "https://localhost:8080/"
        },
        "id": "TMObxpIZuOlE",
        "outputId": "b8da5ba5-67bf-4451-a8d3-c8afa0211628"
      },
      "execution_count": null,
      "outputs": [
        {
          "output_type": "execute_result",
          "data": {
            "text/plain": [
              "10"
            ]
          },
          "metadata": {},
          "execution_count": 44
        }
      ]
    },
    {
      "cell_type": "code",
      "source": [
        "df['Item_Weight'].min(),df['Item_Weight'].mean(),  df['Item_Weight'].max()"
      ],
      "metadata": {
        "colab": {
          "base_uri": "https://localhost:8080/"
        },
        "id": "yU8Z05zWuOn7",
        "outputId": "8d2110f0-b55d-44df-d0ae-1c8b6459c509"
      },
      "execution_count": null,
      "outputs": [
        {
          "output_type": "execute_result",
          "data": {
            "text/plain": [
              "(4.555, np.float64(12.875420237117032), 21.35)"
            ]
          },
          "metadata": {},
          "execution_count": 45
        }
      ]
    },
    {
      "cell_type": "code",
      "source": [
        "import seaborn as sns"
      ],
      "metadata": {
        "id": "AaG6nXna8opO"
      },
      "execution_count": null,
      "outputs": []
    },
    {
      "cell_type": "code",
      "source": [
        "plt.figure(figsize=(8,5))\n",
        "sns.histplot(df['Item_Weight'], kde=True, bins=30, color='blue')\n",
        "# plt.title('Original Distribution of Item_Outlet_Sales')\n",
        "plt.xlabel('Item_Weight')\n",
        "plt.ylabel('Frequency')\n",
        "plt.show()"
      ],
      "metadata": {
        "colab": {
          "base_uri": "https://localhost:8080/",
          "height": 465
        },
        "id": "BzCSehQ98bmr",
        "outputId": "693f0919-29b3-4d97-c856-53d9ef43b235"
      },
      "execution_count": null,
      "outputs": [
        {
          "output_type": "display_data",
          "data": {
            "text/plain": [
              "<Figure size 800x500 with 1 Axes>"
            ],
            "image/png": "[encoded data removed]"
          },
          "metadata": {}
        }
      ]
    },
    {
      "cell_type": "code",
      "source": [
        "plt.figure(figsize=(8,5))\n",
        "sns.histplot(df['Item_MRP'], kde=True, bins=40, color='blue')\n",
        "# plt.title('Original Distribution of Item_Outlet_Sales')\n",
        "plt.xlabel('Item_MRP')\n",
        "plt.ylabel('Frequency')\n",
        "plt.show()"
      ],
      "metadata": {
        "colab": {
          "base_uri": "https://localhost:8080/",
          "height": 465
        },
        "id": "ayvYUeTt8xOa",
        "outputId": "9a6e58a3-4a7c-4f63-a308-c4dfdc6855c2"
      },
      "execution_count": null,
      "outputs": [
        {
          "output_type": "display_data",
          "data": {
            "text/plain": [
              "<Figure size 800x500 with 1 Axes>"
            ],
            "image/png": "[encoded data removed]"
          },
          "metadata": {}
        }
      ]
    },
    {
      "cell_type": "code",
      "source": [
        "counts, bin_edges = np.histogram(df['Item_MRP'], bins=40)"
      ],
      "metadata": {
        "id": "3opis-l1WQFk"
      },
      "execution_count": null,
      "outputs": []
    },
    {
      "cell_type": "code",
      "source": [
        "counts"
      ],
      "metadata": {
        "colab": {
          "base_uri": "https://localhost:8080/"
        },
        "id": "af4qYm1LYBCq",
        "outputId": "bc17475c-7c80-4ce7-ef1c-6becc499bcb7"
      },
      "execution_count": null,
      "outputs": [
        {
          "output_type": "execute_result",
          "data": {
            "text/plain": [
              "array([168, 283, 267, 205, 247, 168,  10, 148, 193, 284, 278, 298, 298,\n",
              "       322, 284, 344, 246,  49, 180, 329, 310, 270, 277, 241, 331, 291,\n",
              "       300, 278, 195,  32, 128, 125, 141, 162, 126, 128, 129, 142, 159,\n",
              "       157])"
            ]
          },
          "metadata": {},
          "execution_count": 362
        }
      ]
    },
    {
      "cell_type": "code",
      "source": [
        "bin_edges"
      ],
      "metadata": {
        "colab": {
          "base_uri": "https://localhost:8080/"
        },
        "id": "TNoMAt8jYBFm",
        "outputId": "d606a188-787c-4e67-d240-b65af0c120bf"
      },
      "execution_count": null,
      "outputs": [
        {
          "output_type": "execute_result",
          "data": {
            "text/plain": [
              "array([ 31.29   ,  37.17996,  43.06992,  48.95988,  54.84984,  60.7398 ,\n",
              "        66.62976,  72.51972,  78.40968,  84.29964,  90.1896 ,  96.07956,\n",
              "       101.96952, 107.85948, 113.74944, 119.6394 , 125.52936, 131.41932,\n",
              "       137.30928, 143.19924, 149.0892 , 154.97916, 160.86912, 166.75908,\n",
              "       172.64904, 178.539  , 184.42896, 190.31892, 196.20888, 202.09884,\n",
              "       207.9888 , 213.87876, 219.76872, 225.65868, 231.54864, 237.4386 ,\n",
              "       243.32856, 249.21852, 255.10848, 260.99844, 266.8884 ])"
            ]
          },
          "metadata": {},
          "execution_count": 363
        }
      ]
    },
    {
      "cell_type": "code",
      "source": [
        "plt.figure(figsize=(8,5))\n",
        "sns.histplot(df['Item_Visibility'], kde=True, bins=30, color='blue')\n",
        "# plt.title('Original Distribution of Item_Outlet_Sales')\n",
        "plt.xlabel('Item_Visibility')\n",
        "plt.ylabel('Frequency')\n",
        "plt.show()"
      ],
      "metadata": {
        "colab": {
          "base_uri": "https://localhost:8080/",
          "height": 465
        },
        "id": "7Em3XrQS85cT",
        "outputId": "4d5b3676-3c63-4eb0-d6af-56535c30ecf4"
      },
      "execution_count": null,
      "outputs": [
        {
          "output_type": "display_data",
          "data": {
            "text/plain": [
              "<Figure size 800x500 with 1 Axes>"
            ],
            "image/png": "[encoded data removed]"
          },
          "metadata": {}
        }
      ]
    },
    {
      "cell_type": "code",
      "source": [
        "plt.figure(figsize=(8,5))\n",
        "sns.histplot(np.log(df['Item_Visibility']), kde=True, bins=30, color='blue')\n",
        "# plt.title('Original Distribution of Item_Outlet_Sales')\n",
        "plt.xlabel('Item_Visibility')\n",
        "plt.ylabel('Frequency')\n",
        "plt.show()"
      ],
      "metadata": {
        "colab": {
          "base_uri": "https://localhost:8080/",
          "height": 501
        },
        "id": "CqnqteSc9Rdq",
        "outputId": "ec43f1bc-405b-443f-8dc3-975b6c3ba74e"
      },
      "execution_count": null,
      "outputs": [
        {
          "output_type": "stream",
          "name": "stderr",
          "text": [
            "/usr/local/lib/python3.11/dist-packages/pandas/core/arraylike.py:399: RuntimeWarning: divide by zero encountered in log\n",
            "  result = getattr(ufunc, method)(*inputs, **kwargs)\n"
          ]
        },
        {
          "output_type": "display_data",
          "data": {
            "text/plain": [
              "<Figure size 800x500 with 1 Axes>"
            ],
            "image/png": "[encoded data removed]"
          },
          "metadata": {}
        }
      ]
    },
    {
      "cell_type": "code",
      "source": [
        "df['log_visibility_level'] = pd.cut(df['log_visibility'],\n",
        "                            bins=[-float('inf'), -4.419374249183716, -2.688863260857491, float('inf')],\n",
        "                            labels=['Low', 'Medium', 'High'])\n",
        "df['log_visibility_level'].fillna('Low', inplace=True)"
      ],
      "metadata": {
        "colab": {
          "base_uri": "https://localhost:8080/"
        },
        "id": "SP0qpMDOKRPX",
        "outputId": "12bbfa66-5d97-4cd2-d88e-8b45a62f0151"
      },
      "execution_count": null,
      "outputs": [
        {
          "output_type": "stream",
          "name": "stderr",
          "text": [
            "<ipython-input-275-a853a4e5be07>:4: FutureWarning: A value is trying to be set on a copy of a DataFrame or Series through chained assignment using an inplace method.\n",
            "The behavior will change in pandas 3.0. This inplace method will never work because the intermediate object on which we are setting values always behaves as a copy.\n",
            "\n",
            "For example, when doing 'df[col].method(value, inplace=True)', try using 'df.method({col: value}, inplace=True)' or df[col] = df[col].method(value) instead, to perform the operation inplace on the original object.\n",
            "\n",
            "\n",
            "  df['log_visibility_level'].fillna('Low', inplace=True)\n"
          ]
        }
      ]
    },
    {
      "cell_type": "code",
      "source": [
        "df['log_visibility_level'].isna().sum()"
      ],
      "metadata": {
        "colab": {
          "base_uri": "https://localhost:8080/"
        },
        "id": "pdhkzMS_KsoA",
        "outputId": "75dad53e-10f7-46d0-c037-e718e6eb4491"
      },
      "execution_count": null,
      "outputs": [
        {
          "output_type": "execute_result",
          "data": {
            "text/plain": [
              "np.int64(0)"
            ]
          },
          "metadata": {},
          "execution_count": 276
        }
      ]
    },
    {
      "cell_type": "code",
      "source": [
        "np.percentile(df['log_visibility'], 10), np.percentile(df['log_visibility'], 60)"
      ],
      "metadata": {
        "colab": {
          "base_uri": "https://localhost:8080/"
        },
        "id": "LVmXbN3kJ4l5",
        "outputId": "aff1f903-ebf6-4e34-9584-6c7e340c7d5a"
      },
      "execution_count": null,
      "outputs": [
        {
          "output_type": "execute_result",
          "data": {
            "text/plain": [
              "(np.float64(-4.419374249183716), np.float64(-2.688863260857491))"
            ]
          },
          "metadata": {},
          "execution_count": 264
        }
      ]
    },
    {
      "cell_type": "code",
      "source": [
        "plt.figure(figsize=(8,5))\n",
        "sns.histplot(df['visibility_mrp'], kde=True, bins=30, color='blue')\n",
        "# plt.title('Original Distribution of Item_Outlet_Sales')\n",
        "plt.xlabel('visibility_mrp')\n",
        "plt.ylabel('Frequency')\n",
        "plt.show()"
      ],
      "metadata": {
        "colab": {
          "base_uri": "https://localhost:8080/",
          "height": 465
        },
        "id": "wyPcm05y-OBt",
        "outputId": "615ac0b2-dec5-44c4-a6fa-054fc2264b5c"
      },
      "execution_count": null,
      "outputs": [
        {
          "output_type": "display_data",
          "data": {
            "text/plain": [
              "<Figure size 800x500 with 1 Axes>"
            ],
            "image/png": "[encoded data removed]"
          },
          "metadata": {}
        }
      ]
    },
    {
      "cell_type": "code",
      "source": [
        "plt.figure(figsize=(8,5))\n",
        "sns.histplot(np.log(df['visibility_mrp']), kde=True, bins=30, color='blue')\n",
        "# plt.title('Original Distribution of Item_Outlet_Sales')\n",
        "plt.xlabel('visibility_mrp')\n",
        "plt.ylabel('Frequency')\n",
        "plt.show()"
      ],
      "metadata": {
        "colab": {
          "base_uri": "https://localhost:8080/",
          "height": 501
        },
        "id": "lnPr3V04-VVC",
        "outputId": "e9db8647-ef87-4ee4-ff98-159bbaf745a0"
      },
      "execution_count": null,
      "outputs": [
        {
          "output_type": "stream",
          "name": "stderr",
          "text": [
            "/usr/local/lib/python3.11/dist-packages/pandas/core/arraylike.py:399: RuntimeWarning: divide by zero encountered in log\n",
            "  result = getattr(ufunc, method)(*inputs, **kwargs)\n"
          ]
        },
        {
          "output_type": "display_data",
          "data": {
            "text/plain": [
              "<Figure size 800x500 with 1 Axes>"
            ],
            "image/png": "[encoded data removed]"
          },
          "metadata": {}
        }
      ]
    },
    {
      "cell_type": "code",
      "source": [
        "# numerical_features = set(feats) - set(cat_features)\n",
        "# numerical_features"
      ],
      "metadata": {
        "colab": {
          "base_uri": "https://localhost:8080/"
        },
        "id": "XRQWl3-G_SyX",
        "outputId": "06e70109-9c39-4979-f0d0-be4553601631"
      },
      "execution_count": null,
      "outputs": [
        {
          "output_type": "execute_result",
          "data": {
            "text/plain": [
              "{'Item_MRP', 'Item_Weight', 'age', 'item_avg_sales', 'outlet_avg_sales'}"
            ]
          },
          "metadata": {},
          "execution_count": 147
        }
      ]
    },
    {
      "cell_type": "code",
      "source": [
        "corr = df[list(numerical_features) + ['Item_Outlet_Sales']].corr()\n",
        "\n",
        "# Set up the matplotlib figure\n",
        "plt.figure(figsize=(12, 8))\n",
        "\n",
        "# Draw the heatmap\n",
        "sns.heatmap(corr,\n",
        "            annot=True,        # show the correlation values\n",
        "            fmt=\".2f\",          # format to 2 decimal places\n",
        "            cmap='coolwarm',    # color map\n",
        "            linewidths=0.5,     # lines between boxes\n",
        "            square=True,        # make squares\n",
        "            cbar_kws={\"shrink\": .8})  # color bar shrink\n",
        "plt.title('Correlation Heatmap', fontsize=16)\n",
        "plt.show()"
      ],
      "metadata": {
        "colab": {
          "base_uri": "https://localhost:8080/",
          "height": 812
        },
        "id": "FslGjmdN8IZv",
        "outputId": "ccd39327-3905-4bc1-8e2f-a391f6a5a928"
      },
      "execution_count": null,
      "outputs": [
        {
          "output_type": "display_data",
          "data": {
            "text/plain": [
              "<Figure size 1200x800 with 2 Axes>"
            ],
            "image/png": "[encoded data removed]"
          },
          "metadata": {}
        }
      ]
    },
    {
      "cell_type": "code",
      "source": [
        "# to remove\n",
        "# Item_Visibility\n",
        "# log_visibility_mrp"
      ],
      "metadata": {
        "id": "THTmzXtc__io"
      },
      "execution_count": null,
      "outputs": []
    },
    {
      "cell_type": "code",
      "source": [
        "cat_features"
      ],
      "metadata": {
        "colab": {
          "base_uri": "https://localhost:8080/"
        },
        "id": "nXKrciHQBT4v",
        "outputId": "5ff4193d-b34a-4b3d-9643-9c8d87e13838"
      },
      "execution_count": null,
      "outputs": [
        {
          "output_type": "execute_result",
          "data": {
            "text/plain": [
              "['Item_Fat_Content',\n",
              " 'Item_Type',\n",
              " 'Outlet_Size',\n",
              " 'Outlet_Location_Type',\n",
              " 'Outlet_Type',\n",
              " 'MRP_level',\n",
              " 'Item_Identifier_cat',\n",
              " 'is_perishable',\n",
              " 'Outlet_Identifier']"
            ]
          },
          "metadata": {},
          "execution_count": 772
        }
      ]
    },
    {
      "cell_type": "code",
      "source": [
        "df['Outlet_Type'].value_counts()"
      ],
      "metadata": {
        "colab": {
          "base_uri": "https://localhost:8080/",
          "height": 241
        },
        "id": "R9YMx6a3BWPn",
        "outputId": "a77b3fc2-f6bc-4f27-a533-b69cd54b8769"
      },
      "execution_count": null,
      "outputs": [
        {
          "output_type": "execute_result",
          "data": {
            "text/plain": [
              "Outlet_Type\n",
              "Supermarket Type1    5577\n",
              "Grocery Store        1083\n",
              "Supermarket Type3     935\n",
              "Supermarket Type2     928\n",
              "Name: count, dtype: int64"
            ],
            "text/html": [
              "<div>\n",
              "<style scoped>\n",
              "    .dataframe tbody tr th:only-of-type {\n",
              "        vertical-align: middle;\n",
              "    }\n",
              "\n",
              "    .dataframe tbody tr th {\n",
              "        vertical-align: top;\n",
              "    }\n",
              "\n",
              "    .dataframe thead th {\n",
              "        text-align: right;\n",
              "    }\n",
              "</style>\n",
              "<table border=\"1\" class=\"dataframe\">\n",
              "  <thead>\n",
              "    <tr style=\"text-align: right;\">\n",
              "      <th></th>\n",
              "      <th>count</th>\n",
              "    </tr>\n",
              "    <tr>\n",
              "      <th>Outlet_Type</th>\n",
              "      <th></th>\n",
              "    </tr>\n",
              "  </thead>\n",
              "  <tbody>\n",
              "    <tr>\n",
              "      <th>Supermarket Type1</th>\n",
              "      <td>5577</td>\n",
              "    </tr>\n",
              "    <tr>\n",
              "      <th>Grocery Store</th>\n",
              "      <td>1083</td>\n",
              "    </tr>\n",
              "    <tr>\n",
              "      <th>Supermarket Type3</th>\n",
              "      <td>935</td>\n",
              "    </tr>\n",
              "    <tr>\n",
              "      <th>Supermarket Type2</th>\n",
              "      <td>928</td>\n",
              "    </tr>\n",
              "  </tbody>\n",
              "</table>\n",
              "</div><br><label><b>dtype:</b> int64</label>"
            ]
          },
          "metadata": {},
          "execution_count": 778
        }
      ]
    },
    {
      "cell_type": "code",
      "source": [
        "# Supermarket Type2 ---- medium, tier 3\n",
        "# Supermarket Type3 ---- medium, tier 3"
      ],
      "metadata": {
        "id": "5Q3t8GPMDUMe"
      },
      "execution_count": null,
      "outputs": []
    },
    {
      "cell_type": "code",
      "source": [
        "df[df['Outlet_Type'] == 'Grocery Store']"
      ],
      "metadata": {
        "colab": {
          "base_uri": "https://localhost:8080/",
          "height": 547
        },
        "id": "X7qw85HWDJV9",
        "outputId": "474d865d-3f5f-4d22-c804-7cf85f06b3f9"
      },
      "execution_count": null,
      "outputs": [
        {
          "output_type": "execute_result",
          "data": {
            "text/plain": [
              "     Item_Identifier  Item_Weight Item_Fat_Content  Item_Visibility  \\\n",
              "3              FDX07       19.200              reg         0.000000   \n",
              "23             FDC37       15.500               LF         0.057557   \n",
              "28             FDE51        5.925              reg         0.161467   \n",
              "29             FDC14       14.500              reg         0.072222   \n",
              "30             FDV38       19.250               LF         0.170349   \n",
              "...              ...          ...              ...              ...   \n",
              "8473           DRI47       14.700               LF         0.035016   \n",
              "8480           FDQ58        7.315               LF         0.000000   \n",
              "8486           FDR20       20.000              reg         0.000000   \n",
              "8490           FDU44       12.150              reg         0.102296   \n",
              "8509           FDG45        8.100               LF         0.214306   \n",
              "\n",
              "                  Item_Type  Item_MRP Outlet_Identifier  \\\n",
              "3     Fruits and Vegetables  182.0950            OUT010   \n",
              "23             Baking Goods  107.6938            OUT019   \n",
              "28                    Dairy   45.5086            OUT010   \n",
              "29                   Canned   43.6454            OUT019   \n",
              "30                    Dairy   55.7956            OUT010   \n",
              "...                     ...       ...               ...   \n",
              "8473            Hard Drinks  144.3128            OUT010   \n",
              "8480            Snack Foods  154.5340            OUT019   \n",
              "8486  Fruits and Vegetables   46.4744            OUT010   \n",
              "8490  Fruits and Vegetables  162.3552            OUT019   \n",
              "8509  Fruits and Vegetables  213.9902            OUT010   \n",
              "\n",
              "      Outlet_Establishment_Year Outlet_Size Outlet_Location_Type  ...  \\\n",
              "3                          1998       Small               Tier 3  ...   \n",
              "23                         1985       Small               Tier 1  ...   \n",
              "28                         1998       Small               Tier 3  ...   \n",
              "29                         1985       Small               Tier 1  ...   \n",
              "30                         1998       Small               Tier 3  ...   \n",
              "...                         ...         ...                  ...  ...   \n",
              "8473                       1998       Small               Tier 3  ...   \n",
              "8480                       1985       Small               Tier 1  ...   \n",
              "8486                       1998       Small               Tier 3  ...   \n",
              "8490                       1985       Small               Tier 1  ...   \n",
              "8509                       1998       Small               Tier 3  ...   \n",
              "\n",
              "     Item_Outlet_Sales  age  price_per_weight  MRP_level Item_Identifier_cat  \\\n",
              "3             732.3800   15          9.484115     Medium                  FD   \n",
              "23            214.3876   28          6.947987     Medium                  FD   \n",
              "28            178.4344   15          7.680776        Low                  FD   \n",
              "29            125.8362   28          3.010028        Low                  FD   \n",
              "30            163.7868   15          2.898473        Low                  FD   \n",
              "...                ...  ...               ...        ...                 ...   \n",
              "8473          431.4384   15          9.817197     Medium                  DR   \n",
              "8480          459.4020   28         21.125632     Medium                  FD   \n",
              "8486           45.2744   15          2.323720        Low                  FD   \n",
              "8490          487.3656   28         13.362568     Medium                  FD   \n",
              "8509          424.7804   15         26.418543       High                  FD   \n",
              "\n",
              "     is_perishable  visibility_mrp  log_visibility  log_visibility_mrp  \\\n",
              "3                1        0.000000            -inf                -inf   \n",
              "23               0        6.198532       -2.854980            1.824312   \n",
              "28               1        7.348116       -1.823457            1.994444   \n",
              "29               0        3.152149       -2.628013            1.148085   \n",
              "30               1        9.504700       -1.769909            2.251786   \n",
              "...            ...             ...             ...                 ...   \n",
              "8473             0        5.053270       -3.351948            1.620036   \n",
              "8480             0        0.000000            -inf                -inf   \n",
              "8486             1        0.000000            -inf                -inf   \n",
              "8490             1       16.608272       -2.279886            2.809901   \n",
              "8509             1       45.859412       -1.540350            3.825580   \n",
              "\n",
              "      is_processed  \n",
              "3                0  \n",
              "23               1  \n",
              "28               0  \n",
              "29               1  \n",
              "30               0  \n",
              "...            ...  \n",
              "8473             1  \n",
              "8480             1  \n",
              "8486             0  \n",
              "8490             0  \n",
              "8509             0  \n",
              "\n",
              "[1083 rows x 21 columns]"
            ],
            "text/html": [
              "\n",
              "  <div id=\"df-345b3d6a-9d86-49a3-b8dc-87056fa52a97\" class=\"colab-df-container\">\n",
              "    <div>\n",
              "<style scoped>\n",
              "    .dataframe tbody tr th:only-of-type {\n",
              "        vertical-align: middle;\n",
              "    }\n",
              "\n",
              "    .dataframe tbody tr th {\n",
              "        vertical-align: top;\n",
              "    }\n",
              "\n",
              "    .dataframe thead th {\n",
              "        text-align: right;\n",
              "    }\n",
              "</style>\n",
              "<table border=\"1\" class=\"dataframe\">\n",
              "  <thead>\n",
              "    <tr style=\"text-align: right;\">\n",
              "      <th></th>\n",
              "      <th>Item_Identifier</th>\n",
              "      <th>Item_Weight</th>\n",
              "      <th>Item_Fat_Content</th>\n",
              "      <th>Item_Visibility</th>\n",
              "      <th>Item_Type</th>\n",
              "      <th>Item_MRP</th>\n",
              "      <th>Outlet_Identifier</th>\n",
              "      <th>Outlet_Establishment_Year</th>\n",
              "      <th>Outlet_Size</th>\n",
              "      <th>Outlet_Location_Type</th>\n",
              "      <th>...</th>\n",
              "      <th>Item_Outlet_Sales</th>\n",
              "      <th>age</th>\n",
              "      <th>price_per_weight</th>\n",
              "      <th>MRP_level</th>\n",
              "      <th>Item_Identifier_cat</th>\n",
              "      <th>is_perishable</th>\n",
              "      <th>visibility_mrp</th>\n",
              "      <th>log_visibility</th>\n",
              "      <th>log_visibility_mrp</th>\n",
              "      <th>is_processed</th>\n",
              "    </tr>\n",
              "  </thead>\n",
              "  <tbody>\n",
              "    <tr>\n",
              "      <th>3</th>\n",
              "      <td>FDX07</td>\n",
              "      <td>19.200</td>\n",
              "      <td>reg</td>\n",
              "      <td>0.000000</td>\n",
              "      <td>Fruits and Vegetables</td>\n",
              "      <td>182.0950</td>\n",
              "      <td>OUT010</td>\n",
              "      <td>1998</td>\n",
              "      <td>Small</td>\n",
              "      <td>Tier 3</td>\n",
              "      <td>...</td>\n",
              "      <td>732.3800</td>\n",
              "      <td>15</td>\n",
              "      <td>9.484115</td>\n",
              "      <td>Medium</td>\n",
              "      <td>FD</td>\n",
              "      <td>1</td>\n",
              "      <td>0.000000</td>\n",
              "      <td>-inf</td>\n",
              "      <td>-inf</td>\n",
              "      <td>0</td>\n",
              "    </tr>\n",
              "    <tr>\n",
              "      <th>23</th>\n",
              "      <td>FDC37</td>\n",
              "      <td>15.500</td>\n",
              "      <td>LF</td>\n",
              "      <td>0.057557</td>\n",
              "      <td>Baking Goods</td>\n",
              "      <td>107.6938</td>\n",
              "      <td>OUT019</td>\n",
              "      <td>1985</td>\n",
              "      <td>Small</td>\n",
              "      <td>Tier 1</td>\n",
              "      <td>...</td>\n",
              "      <td>214.3876</td>\n",
              "      <td>28</td>\n",
              "      <td>6.947987</td>\n",
              "      <td>Medium</td>\n",
              "      <td>FD</td>\n",
              "      <td>0</td>\n",
              "      <td>6.198532</td>\n",
              "      <td>-2.854980</td>\n",
              "      <td>1.824312</td>\n",
              "      <td>1</td>\n",
              "    </tr>\n",
              "    <tr>\n",
              "      <th>28</th>\n",
              "      <td>FDE51</td>\n",
              "      <td>5.925</td>\n",
              "      <td>reg</td>\n",
              "      <td>0.161467</td>\n",
              "      <td>Dairy</td>\n",
              "      <td>45.5086</td>\n",
              "      <td>OUT010</td>\n",
              "      <td>1998</td>\n",
              "      <td>Small</td>\n",
              "      <td>Tier 3</td>\n",
              "      <td>...</td>\n",
              "      <td>178.4344</td>\n",
              "      <td>15</td>\n",
              "      <td>7.680776</td>\n",
              "      <td>Low</td>\n",
              "      <td>FD</td>\n",
              "      <td>1</td>\n",
              "      <td>7.348116</td>\n",
              "      <td>-1.823457</td>\n",
              "      <td>1.994444</td>\n",
              "      <td>0</td>\n",
              "    </tr>\n",
              "    <tr>\n",
              "      <th>29</th>\n",
              "      <td>FDC14</td>\n",
              "      <td>14.500</td>\n",
              "      <td>reg</td>\n",
              "      <td>0.072222</td>\n",
              "      <td>Canned</td>\n",
              "      <td>43.6454</td>\n",
              "      <td>OUT019</td>\n",
              "      <td>1985</td>\n",
              "      <td>Small</td>\n",
              "      <td>Tier 1</td>\n",
              "      <td>...</td>\n",
              "      <td>125.8362</td>\n",
              "      <td>28</td>\n",
              "      <td>3.010028</td>\n",
              "      <td>Low</td>\n",
              "      <td>FD</td>\n",
              "      <td>0</td>\n",
              "      <td>3.152149</td>\n",
              "      <td>-2.628013</td>\n",
              "      <td>1.148085</td>\n",
              "      <td>1</td>\n",
              "    </tr>\n",
              "    <tr>\n",
              "      <th>30</th>\n",
              "      <td>FDV38</td>\n",
              "      <td>19.250</td>\n",
              "      <td>LF</td>\n",
              "      <td>0.170349</td>\n",
              "      <td>Dairy</td>\n",
              "      <td>55.7956</td>\n",
              "      <td>OUT010</td>\n",
              "      <td>1998</td>\n",
              "      <td>Small</td>\n",
              "      <td>Tier 3</td>\n",
              "      <td>...</td>\n",
              "      <td>163.7868</td>\n",
              "      <td>15</td>\n",
              "      <td>2.898473</td>\n",
              "      <td>Low</td>\n",
              "      <td>FD</td>\n",
              "      <td>1</td>\n",
              "      <td>9.504700</td>\n",
              "      <td>-1.769909</td>\n",
              "      <td>2.251786</td>\n",
              "      <td>0</td>\n",
              "    </tr>\n",
              "    <tr>\n",
              "      <th>...</th>\n",
              "      <td>...</td>\n",
              "      <td>...</td>\n",
              "      <td>...</td>\n",
              "      <td>...</td>\n",
              "      <td>...</td>\n",
              "      <td>...</td>\n",
              "      <td>...</td>\n",
              "      <td>...</td>\n",
              "      <td>...</td>\n",
              "      <td>...</td>\n",
              "      <td>...</td>\n",
              "      <td>...</td>\n",
              "      <td>...</td>\n",
              "      <td>...</td>\n",
              "      <td>...</td>\n",
              "      <td>...</td>\n",
              "      <td>...</td>\n",
              "      <td>...</td>\n",
              "      <td>...</td>\n",
              "      <td>...</td>\n",
              "      <td>...</td>\n",
              "    </tr>\n",
              "    <tr>\n",
              "      <th>8473</th>\n",
              "      <td>DRI47</td>\n",
              "      <td>14.700</td>\n",
              "      <td>LF</td>\n",
              "      <td>0.035016</td>\n",
              "      <td>Hard Drinks</td>\n",
              "      <td>144.3128</td>\n",
              "      <td>OUT010</td>\n",
              "      <td>1998</td>\n",
              "      <td>Small</td>\n",
              "      <td>Tier 3</td>\n",
              "      <td>...</td>\n",
              "      <td>431.4384</td>\n",
              "      <td>15</td>\n",
              "      <td>9.817197</td>\n",
              "      <td>Medium</td>\n",
              "      <td>DR</td>\n",
              "      <td>0</td>\n",
              "      <td>5.053270</td>\n",
              "      <td>-3.351948</td>\n",
              "      <td>1.620036</td>\n",
              "      <td>1</td>\n",
              "    </tr>\n",
              "    <tr>\n",
              "      <th>8480</th>\n",
              "      <td>FDQ58</td>\n",
              "      <td>7.315</td>\n",
              "      <td>LF</td>\n",
              "      <td>0.000000</td>\n",
              "      <td>Snack Foods</td>\n",
              "      <td>154.5340</td>\n",
              "      <td>OUT019</td>\n",
              "      <td>1985</td>\n",
              "      <td>Small</td>\n",
              "      <td>Tier 1</td>\n",
              "      <td>...</td>\n",
              "      <td>459.4020</td>\n",
              "      <td>28</td>\n",
              "      <td>21.125632</td>\n",
              "      <td>Medium</td>\n",
              "      <td>FD</td>\n",
              "      <td>0</td>\n",
              "      <td>0.000000</td>\n",
              "      <td>-inf</td>\n",
              "      <td>-inf</td>\n",
              "      <td>1</td>\n",
              "    </tr>\n",
              "    <tr>\n",
              "      <th>8486</th>\n",
              "      <td>FDR20</td>\n",
              "      <td>20.000</td>\n",
              "      <td>reg</td>\n",
              "      <td>0.000000</td>\n",
              "      <td>Fruits and Vegetables</td>\n",
              "      <td>46.4744</td>\n",
              "      <td>OUT010</td>\n",
              "      <td>1998</td>\n",
              "      <td>Small</td>\n",
              "      <td>Tier 3</td>\n",
              "      <td>...</td>\n",
              "      <td>45.2744</td>\n",
              "      <td>15</td>\n",
              "      <td>2.323720</td>\n",
              "      <td>Low</td>\n",
              "      <td>FD</td>\n",
              "      <td>1</td>\n",
              "      <td>0.000000</td>\n",
              "      <td>-inf</td>\n",
              "      <td>-inf</td>\n",
              "      <td>0</td>\n",
              "    </tr>\n",
              "    <tr>\n",
              "      <th>8490</th>\n",
              "      <td>FDU44</td>\n",
              "      <td>12.150</td>\n",
              "      <td>reg</td>\n",
              "      <td>0.102296</td>\n",
              "      <td>Fruits and Vegetables</td>\n",
              "      <td>162.3552</td>\n",
              "      <td>OUT019</td>\n",
              "      <td>1985</td>\n",
              "      <td>Small</td>\n",
              "      <td>Tier 1</td>\n",
              "      <td>...</td>\n",
              "      <td>487.3656</td>\n",
              "      <td>28</td>\n",
              "      <td>13.362568</td>\n",
              "      <td>Medium</td>\n",
              "      <td>FD</td>\n",
              "      <td>1</td>\n",
              "      <td>16.608272</td>\n",
              "      <td>-2.279886</td>\n",
              "      <td>2.809901</td>\n",
              "      <td>0</td>\n",
              "    </tr>\n",
              "    <tr>\n",
              "      <th>8509</th>\n",
              "      <td>FDG45</td>\n",
              "      <td>8.100</td>\n",
              "      <td>LF</td>\n",
              "      <td>0.214306</td>\n",
              "      <td>Fruits and Vegetables</td>\n",
              "      <td>213.9902</td>\n",
              "      <td>OUT010</td>\n",
              "      <td>1998</td>\n",
              "      <td>Small</td>\n",
              "      <td>Tier 3</td>\n",
              "      <td>...</td>\n",
              "      <td>424.7804</td>\n",
              "      <td>15</td>\n",
              "      <td>26.418543</td>\n",
              "      <td>High</td>\n",
              "      <td>FD</td>\n",
              "      <td>1</td>\n",
              "      <td>45.859412</td>\n",
              "      <td>-1.540350</td>\n",
              "      <td>3.825580</td>\n",
              "      <td>0</td>\n",
              "    </tr>\n",
              "  </tbody>\n",
              "</table>\n",
              "<p>1083 rows × 21 columns</p>\n",
              "</div>\n",
              "    <div class=\"colab-df-buttons\">\n",
              "\n",
              "  <div class=\"colab-df-container\">\n",
              "    <button class=\"colab-df-convert\" onclick=\"convertToInteractive('df-345b3d6a-9d86-49a3-b8dc-87056fa52a97')\"\n",
              "            title=\"Convert this dataframe to an interactive table.\"\n",
              "            style=\"display:none;\">\n",
              "\n",
              "  <svg xmlns=\"http://www.w3.org/2000/svg\" height=\"24px\" viewBox=\"0 -960 960 960\">\n",
              "    <path d=\"M120-120v-720h720v720H120Zm60-500h600v-160H180v160Zm220 220h160v-160H400v160Zm0 220h160v-160H400v160ZM180-400h160v-160H180v160Zm440 0h160v-160H620v160ZM180-180h160v-160H180v160Zm440 0h160v-160H620v160Z\"/>\n",
              "  </svg>\n",
              "    </button>\n",
              "\n",
              "  <style>\n",
              "    .colab-df-container {\n",
              "      display:flex;\n",
              "      gap: 12px;\n",
              "    }\n",
              "\n",
              "    .colab-df-convert {\n",
              "      background-color: #E8F0FE;\n",
              "      border: none;\n",
              "      border-radius: 50%;\n",
              "      cursor: pointer;\n",
              "      display: none;\n",
              "      fill: #1967D2;\n",
              "      height: 32px;\n",
              "      padding: 0 0 0 0;\n",
              "      width: 32px;\n",
              "    }\n",
              "\n",
              "    .colab-df-convert:hover {\n",
              "      background-color: #E2EBFA;\n",
              "      box-shadow: 0px 1px 2px rgba(60, 64, 67, 0.3), 0px 1px 3px 1px rgba(60, 64, 67, 0.15);\n",
              "      fill: #174EA6;\n",
              "    }\n",
              "\n",
              "    .colab-df-buttons div {\n",
              "      margin-bottom: 4px;\n",
              "    }\n",
              "\n",
              "    [theme=dark] .colab-df-convert {\n",
              "      background-color: #3B4455;\n",
              "      fill: #D2E3FC;\n",
              "    }\n",
              "\n",
              "    [theme=dark] .colab-df-convert:hover {\n",
              "      background-color: #434B5C;\n",
              "      box-shadow: 0px 1px 3px 1px rgba(0, 0, 0, 0.15);\n",
              "      filter: drop-shadow(0px 1px 2px rgba(0, 0, 0, 0.3));\n",
              "      fill: #FFFFFF;\n",
              "    }\n",
              "  </style>\n",
              "\n",
              "    <script>\n",
              "      const buttonEl =\n",
              "        document.querySelector('#df-345b3d6a-9d86-49a3-b8dc-87056fa52a97 button.colab-df-convert');\n",
              "      buttonEl.style.display =\n",
              "        google.colab.kernel.accessAllowed ? 'block' : 'none';\n",
              "\n",
              "      async function convertToInteractive(key) {\n",
              "        const element = document.querySelector('#df-345b3d6a-9d86-49a3-b8dc-87056fa52a97');\n",
              "        const dataTable =\n",
              "          await google.colab.kernel.invokeFunction('convertToInteractive',\n",
              "                                                    [key], {});\n",
              "        if (!dataTable) return;\n",
              "\n",
              "        const docLinkHtml = 'Like what you see? Visit the ' +\n",
              "          '<a target=\"_blank\" href=https://colab.research.google.com/notebooks/data_table.ipynb>data table notebook</a>'\n",
              "          + ' to learn more about interactive tables.';\n",
              "        element.innerHTML = '';\n",
              "        dataTable['output_type'] = 'display_data';\n",
              "        await google.colab.output.renderOutput(dataTable, element);\n",
              "        const docLink = document.createElement('div');\n",
              "        docLink.innerHTML = docLinkHtml;\n",
              "        element.appendChild(docLink);\n",
              "      }\n",
              "    </script>\n",
              "  </div>\n",
              "\n",
              "\n",
              "    <div id=\"df-9ab4ca25-f2ca-472f-8ba7-dbdbfd2ccb8a\">\n",
              "      <button class=\"colab-df-quickchart\" onclick=\"quickchart('df-9ab4ca25-f2ca-472f-8ba7-dbdbfd2ccb8a')\"\n",
              "                title=\"Suggest charts\"\n",
              "                style=\"display:none;\">\n",
              "\n",
              "<svg xmlns=\"http://www.w3.org/2000/svg\" height=\"24px\"viewBox=\"0 0 24 24\"\n",
              "     width=\"24px\">\n",
              "    <g>\n",
              "        <path d=\"M19 3H5c-1.1 0-2 .9-2 2v14c0 1.1.9 2 2 2h14c1.1 0 2-.9 2-2V5c0-1.1-.9-2-2-2zM9 17H7v-7h2v7zm4 0h-2V7h2v10zm4 0h-2v-4h2v4z\"/>\n",
              "    </g>\n",
              "</svg>\n",
              "      </button>\n",
              "\n",
              "<style>\n",
              "  .colab-df-quickchart {\n",
              "      --bg-color: #E8F0FE;\n",
              "      --fill-color: #1967D2;\n",
              "      --hover-bg-color: #E2EBFA;\n",
              "      --hover-fill-color: #174EA6;\n",
              "      --disabled-fill-color: #AAA;\n",
              "      --disabled-bg-color: #DDD;\n",
              "  }\n",
              "\n",
              "  [theme=dark] .colab-df-quickchart {\n",
              "      --bg-color: #3B4455;\n",
              "      --fill-color: #D2E3FC;\n",
              "      --hover-bg-color: #434B5C;\n",
              "      --hover-fill-color: #FFFFFF;\n",
              "      --disabled-bg-color: #3B4455;\n",
              "      --disabled-fill-color: #666;\n",
              "  }\n",
              "\n",
              "  .colab-df-quickchart {\n",
              "    background-color: var(--bg-color);\n",
              "    border: none;\n",
              "    border-radius: 50%;\n",
              "    cursor: pointer;\n",
              "    display: none;\n",
              "    fill: var(--fill-color);\n",
              "    height: 32px;\n",
              "    padding: 0;\n",
              "    width: 32px;\n",
              "  }\n",
              "\n",
              "  .colab-df-quickchart:hover {\n",
              "    background-color: var(--hover-bg-color);\n",
              "    box-shadow: 0 1px 2px rgba(60, 64, 67, 0.3), 0 1px 3px 1px rgba(60, 64, 67, 0.15);\n",
              "    fill: var(--button-hover-fill-color);\n",
              "  }\n",
              "\n",
              "  .colab-df-quickchart-complete:disabled,\n",
              "  .colab-df-quickchart-complete:disabled:hover {\n",
              "    background-color: var(--disabled-bg-color);\n",
              "    fill: var(--disabled-fill-color);\n",
              "    box-shadow: none;\n",
              "  }\n",
              "\n",
              "  .colab-df-spinner {\n",
              "    border: 2px solid var(--fill-color);\n",
              "    border-color: transparent;\n",
              "    border-bottom-color: var(--fill-color);\n",
              "    animation:\n",
              "      spin 1s steps(1) infinite;\n",
              "  }\n",
              "\n",
              "  @keyframes spin {\n",
              "    0% {\n",
              "      border-color: transparent;\n",
              "      border-bottom-color: var(--fill-color);\n",
              "      border-left-color: var(--fill-color);\n",
              "    }\n",
              "    20% {\n",
              "      border-color: transparent;\n",
              "      border-left-color: var(--fill-color);\n",
              "      border-top-color: var(--fill-color);\n",
              "    }\n",
              "    30% {\n",
              "      border-color: transparent;\n",
              "      border-left-color: var(--fill-color);\n",
              "      border-top-color: var(--fill-color);\n",
              "      border-right-color: var(--fill-color);\n",
              "    }\n",
              "    40% {\n",
              "      border-color: transparent;\n",
              "      border-right-color: var(--fill-color);\n",
              "      border-top-color: var(--fill-color);\n",
              "    }\n",
              "    60% {\n",
              "      border-color: transparent;\n",
              "      border-right-color: var(--fill-color);\n",
              "    }\n",
              "    80% {\n",
              "      border-color: transparent;\n",
              "      border-right-color: var(--fill-color);\n",
              "      border-bottom-color: var(--fill-color);\n",
              "    }\n",
              "    90% {\n",
              "      border-color: transparent;\n",
              "      border-bottom-color: var(--fill-color);\n",
              "    }\n",
              "  }\n",
              "</style>\n",
              "\n",
              "      <script>\n",
              "        async function quickchart(key) {\n",
              "          const quickchartButtonEl =\n",
              "            document.querySelector('#' + key + ' button');\n",
              "          quickchartButtonEl.disabled = true;  // To prevent multiple clicks.\n",
              "          quickchartButtonEl.classList.add('colab-df-spinner');\n",
              "          try {\n",
              "            const charts = await google.colab.kernel.invokeFunction(\n",
              "                'suggestCharts', [key], {});\n",
              "          } catch (error) {\n",
              "            console.error('Error during call to suggestCharts:', error);\n",
              "          }\n",
              "          quickchartButtonEl.classList.remove('colab-df-spinner');\n",
              "          quickchartButtonEl.classList.add('colab-df-quickchart-complete');\n",
              "        }\n",
              "        (() => {\n",
              "          let quickchartButtonEl =\n",
              "            document.querySelector('#df-9ab4ca25-f2ca-472f-8ba7-dbdbfd2ccb8a button');\n",
              "          quickchartButtonEl.style.display =\n",
              "            google.colab.kernel.accessAllowed ? 'block' : 'none';\n",
              "        })();\n",
              "      </script>\n",
              "    </div>\n",
              "\n",
              "    </div>\n",
              "  </div>\n"
            ],
            "application/vnd.google.colaboratory.intrinsic+json": {
              "type": "dataframe"
            }
          },
          "metadata": {},
          "execution_count": 810
        }
      ]
    },
    {
      "cell_type": "code",
      "source": [],
      "metadata": {
        "id": "SKvYwbiO_Lrl"
      },
      "execution_count": null,
      "outputs": []
    },
    {
      "cell_type": "code",
      "source": [
        "df.columns"
      ],
      "metadata": {
        "colab": {
          "base_uri": "https://localhost:8080/"
        },
        "id": "wD9gENs0zbGj",
        "outputId": "ad7fd4e9-38ea-4646-cf3c-7201b23f1ef3"
      },
      "execution_count": null,
      "outputs": [
        {
          "output_type": "execute_result",
          "data": {
            "text/plain": [
              "Index(['Item_Identifier', 'Item_Weight', 'Item_Fat_Content', 'Item_Visibility',\n",
              "       'Item_Type', 'Item_MRP', 'Outlet_Identifier',\n",
              "       'Outlet_Establishment_Year', 'Outlet_Size', 'Outlet_Location_Type',\n",
              "       'Outlet_Type', 'Item_Outlet_Sales', 'age', 'price_per_weight',\n",
              "       'MRP_level', 'Item_Identifier_cat', 'is_perishable', 'visibility_mrp'],\n",
              "      dtype='object')"
            ]
          },
          "metadata": {},
          "execution_count": 589
        }
      ]
    },
    {
      "cell_type": "code",
      "source": [],
      "metadata": {
        "colab": {
          "base_uri": "https://localhost:8080/"
        },
        "id": "Zl6tP-RLzbJL",
        "outputId": "12701655-04aa-401f-e504-16fafc64f6af"
      },
      "execution_count": null,
      "outputs": [
        {
          "output_type": "execute_result",
          "data": {
            "text/plain": [
              "20"
            ]
          },
          "metadata": {},
          "execution_count": 945
        }
      ]
    },
    {
      "cell_type": "code",
      "source": [],
      "metadata": {
        "id": "42eS_OLgzbMI"
      },
      "execution_count": null,
      "outputs": []
    },
    {
      "cell_type": "markdown",
      "source": [
        "## Train"
      ],
      "metadata": {
        "id": "IaRyS0em0FhF"
      }
    },
    {
      "cell_type": "code",
      "source": [],
      "metadata": {
        "id": "pfi38CPlvbZs"
      },
      "execution_count": null,
      "outputs": []
    },
    {
      "cell_type": "code",
      "source": [
        "!pip install catboost"
      ],
      "metadata": {
        "colab": {
          "base_uri": "https://localhost:8080/"
        },
        "id": "mp1S0RcK1W8I",
        "outputId": "efc4a3ac-7f55-4633-df64-38bac1ed7f70"
      },
      "execution_count": null,
      "outputs": [
        {
          "output_type": "stream",
          "name": "stdout",
          "text": [
            "Collecting catboost\n",
            "  Downloading catboost-1.2.8-cp311-cp311-manylinux2014_x86_64.whl.metadata (1.2 kB)\n",
            "Requirement already satisfied: graphviz in /usr/local/lib/python3.11/dist-packages (from catboost) (0.20.3)\n",
            "Requirement already satisfied: matplotlib in /usr/local/lib/python3.11/dist-packages (from catboost) (3.10.0)\n",
            "Requirement already satisfied: numpy<3.0,>=1.16.0 in /usr/local/lib/python3.11/dist-packages (from catboost) (2.0.2)\n",
            "Requirement already satisfied: pandas>=0.24 in /usr/local/lib/python3.11/dist-packages (from catboost) (2.2.2)\n",
            "Requirement already satisfied: scipy in /usr/local/lib/python3.11/dist-packages (from catboost) (1.15.2)\n",
            "Requirement already satisfied: plotly in /usr/local/lib/python3.11/dist-packages (from catboost) (5.24.1)\n",
            "Requirement already satisfied: six in /usr/local/lib/python3.11/dist-packages (from catboost) (1.17.0)\n",
            "Requirement already satisfied: python-dateutil>=2.8.2 in /usr/local/lib/python3.11/dist-packages (from pandas>=0.24->catboost) (2.9.0.post0)\n",
            "Requirement already satisfied: pytz>=2020.1 in /usr/local/lib/python3.11/dist-packages (from pandas>=0.24->catboost) (2025.2)\n",
            "Requirement already satisfied: tzdata>=2022.7 in /usr/local/lib/python3.11/dist-packages (from pandas>=0.24->catboost) (2025.2)\n",
            "Requirement already satisfied: contourpy>=1.0.1 in /usr/local/lib/python3.11/dist-packages (from matplotlib->catboost) (1.3.2)\n",
            "Requirement already satisfied: cycler>=0.10 in /usr/local/lib/python3.11/dist-packages (from matplotlib->catboost) (0.12.1)\n",
            "Requirement already satisfied: fonttools>=4.22.0 in /usr/local/lib/python3.11/dist-packages (from matplotlib->catboost) (4.57.0)\n",
            "Requirement already satisfied: kiwisolver>=1.3.1 in /usr/local/lib/python3.11/dist-packages (from matplotlib->catboost) (1.4.8)\n",
            "Requirement already satisfied: packaging>=20.0 in /usr/local/lib/python3.11/dist-packages (from matplotlib->catboost) (24.2)\n",
            "Requirement already satisfied: pillow>=8 in /usr/local/lib/python3.11/dist-packages (from matplotlib->catboost) (11.2.1)\n",
            "Requirement already satisfied: pyparsing>=2.3.1 in /usr/local/lib/python3.11/dist-packages (from matplotlib->catboost) (3.2.3)\n",
            "Requirement already satisfied: tenacity>=6.2.0 in /usr/local/lib/python3.11/dist-packages (from plotly->catboost) (9.1.2)\n",
            "Downloading catboost-1.2.8-cp311-cp311-manylinux2014_x86_64.whl (99.2 MB)\n",
            "\u001b[2K   \u001b[90m━━━━━━━━━━━━━━━━━━━━━━━━━━━━━━━━━━━━━━━━\u001b[0m \u001b[32m99.2/99.2 MB\u001b[0m \u001b[31m8.5 MB/s\u001b[0m eta \u001b[36m0:00:00\u001b[0m\n",
            "\u001b[?25hInstalling collected packages: catboost\n",
            "Successfully installed catboost-1.2.8\n"
          ]
        }
      ]
    },
    {
      "cell_type": "code",
      "source": [
        "df.columns"
      ],
      "metadata": {
        "colab": {
          "base_uri": "https://localhost:8080/"
        },
        "id": "UZdbCJ9wR89I",
        "outputId": "3efdb802-d288-4746-bfd3-7192fc1ffbfb"
      },
      "execution_count": null,
      "outputs": [
        {
          "output_type": "execute_result",
          "data": {
            "text/plain": [
              "Index(['Item_Identifier', 'Item_Weight', 'Item_Fat_Content', 'Item_Visibility',\n",
              "       'Item_Type', 'Item_MRP', 'Outlet_Identifier',\n",
              "       'Outlet_Establishment_Year', 'Outlet_Size', 'Outlet_Location_Type',\n",
              "       'Outlet_Type', 'Item_Outlet_Sales', 'age', 'price_per_weight',\n",
              "       'MRP_level', 'Item_Identifier_cat', 'is_perishable', 'visibility_mrp',\n",
              "       'log_visibility', 'log_visibility_mrp', 'is_processed',\n",
              "       'is_supermarket', 'item_type_cat', 'Outlet_Tier',\n",
              "       'Visibility_Perishable', 'item_avg_sales_x', 'item_avg_sales_y',\n",
              "       'outlet_avg_sales'],\n",
              "      dtype='object')"
            ]
          },
          "metadata": {},
          "execution_count": 48
        }
      ]
    },
    {
      "cell_type": "code",
      "source": [
        "df.columns"
      ],
      "metadata": {
        "colab": {
          "base_uri": "https://localhost:8080/"
        },
        "id": "4t9tmLbc6KjO",
        "outputId": "6756a1d2-f649-4c4d-a18f-998f6e371180"
      },
      "execution_count": null,
      "outputs": [
        {
          "output_type": "execute_result",
          "data": {
            "text/plain": [
              "Index(['Item_Identifier', 'Item_Weight', 'Item_Fat_Content', 'Item_Visibility',\n",
              "       'Item_Type', 'Item_MRP', 'Outlet_Identifier',\n",
              "       'Outlet_Establishment_Year', 'Outlet_Size', 'Outlet_Location_Type',\n",
              "       'Outlet_Type', 'Item_Outlet_Sales', 'age', 'price_per_weight',\n",
              "       'MRP_level', 'Item_Identifier_cat', 'is_perishable', 'visibility_mrp',\n",
              "       'log_visibility', 'log_visibility_mrp', 'is_processed',\n",
              "       'is_supermarket', 'item_type_cat', 'Outlet_Tier',\n",
              "       'Visibility_Perishable', 'item_avg_sales_x', 'item_avg_sales_y',\n",
              "       'outlet_avg_sales', 'item_avg_sales', 'visibility_level',\n",
              "       'log_visibility_level', 'weigh_level'],\n",
              "      dtype='object')"
            ]
          },
          "metadata": {},
          "execution_count": 379
        }
      ]
    },
    {
      "cell_type": "code",
      "source": [
        "ffeats = ['Item_Weight',\n",
        "'Item_Fat_Content',\n",
        "'Item_Type',\n",
        "'Item_MRP',\n",
        "'age',\n",
        "'Outlet_Size',\n",
        "'Outlet_Location_Type',\n",
        "'Outlet_Type',\n",
        "'MRP_level',\n",
        "'weigh_level',\n",
        "'log_visibility_level',\n",
        "'price_per_weight',\n",
        "'Item_Visibility',\n",
        "'log_visibility',\n",
        "'Outlet_Identifier',\n",
        "'Item_Identifier_cat',\n",
        "'is_perishable',\n",
        "'visibility_mrp',\n",
        "'is_processed',\n",
        "'is_supermarket',\n",
        "'item_type_cat',\n",
        "'log_visibility_mrp',\n",
        "'Outlet_Tier',\n",
        "'item_avg_sales',\n",
        "'outlet_avg_sales'\n",
        "]"
      ],
      "metadata": {
        "id": "kcGPxPnjjRS1"
      },
      "execution_count": null,
      "outputs": []
    },
    {
      "cell_type": "code",
      "source": [
        "[ele for ele in ffeats]"
      ],
      "metadata": {
        "colab": {
          "base_uri": "https://localhost:8080/"
        },
        "id": "InbbNk615Xuv",
        "outputId": "95a07829-3c07-44c0-e3e6-cadc00475d7a"
      },
      "execution_count": null,
      "outputs": [
        {
          "output_type": "execute_result",
          "data": {
            "text/plain": [
              "['Item_Weight',\n",
              " 'Item_Fat_Content',\n",
              " 'Item_Type',\n",
              " 'Item_MRP',\n",
              " 'age',\n",
              " 'Outlet_Size',\n",
              " 'Outlet_Location_Type',\n",
              " 'Outlet_Type',\n",
              " 'MRP_level',\n",
              " 'weigh_level',\n",
              " 'log_visibility_level',\n",
              " 'price_per_weight',\n",
              " 'Item_Visibility',\n",
              " 'log_visibility',\n",
              " 'Outlet_Identifier',\n",
              " 'Item_Identifier_cat',\n",
              " 'is_perishable',\n",
              " 'visibility_mrp',\n",
              " 'is_processed',\n",
              " 'is_supermarket',\n",
              " 'item_type_cat',\n",
              " 'log_visibility_mrp',\n",
              " 'Outlet_Tier',\n",
              " 'item_avg_sales',\n",
              " 'outlet_avg_sales']"
            ]
          },
          "metadata": {},
          "execution_count": 18
        }
      ]
    },
    {
      "cell_type": "code",
      "source": [
        "from catboost import CatBoostRegressor\n",
        "from sklearn.model_selection import train_test_split\n",
        "from sklearn.metrics import mean_squared_error\n",
        "\n",
        "feats = ['Item_Weight',\n",
        "         'Item_Fat_Content',\n",
        "         'Item_Type',\n",
        "         'Item_MRP',\n",
        "         'age',\n",
        "         'Outlet_Size',\n",
        "         'Outlet_Location_Type',\n",
        "         'Outlet_Type',\n",
        "         'MRP_level',\n",
        "        #  'weigh_level',\n",
        "\n",
        "        #  'log_visibility_level',\n",
        "        #  'price_per_weight',\n",
        "        #  'Item_Visibility',\n",
        "          # 'log_visibility',\n",
        "\n",
        "\n",
        "        #  'Outlet_Identifier',\n",
        "\n",
        "\n",
        "        #  'Item_Identifier_cat',\n",
        "        #  'is_perishable',\n",
        "        #  'visibility_mrp',\n",
        "\n",
        "        #  'is_processed',\n",
        "        #  'is_supermarket',\n",
        "        #  'item_type_cat',\n",
        "\n",
        "        #  'log_visibility_mrp',\n",
        "\n",
        "        #  'Outlet_Tier',\n",
        "        #  'item_avg_sales',\n",
        "        #  'outlet_avg_sales'\n",
        "         ]\n",
        "len(feats)\n",
        "\n",
        "# Features and target\n",
        "X = df[feats]\n",
        "y = df['Item_Outlet_Sales']\n",
        "\n",
        "# Split\n",
        "X_train, X_test, y_train, y_test = train_test_split(X, y, test_size=0.2, random_state=42)\n",
        "# X_train = X\n",
        "# y_train = y"
      ],
      "metadata": {
        "id": "NiI2fd5b1RdR"
      },
      "execution_count": null,
      "outputs": []
    },
    {
      "cell_type": "code",
      "source": [],
      "metadata": {
        "id": "QDXTF26PJUBE"
      },
      "execution_count": null,
      "outputs": []
    },
    {
      "cell_type": "code",
      "source": [
        "# ['Item_Fat_Content', 'Item_Type', 'Outlet_Size', 'Outlet_Location_Type', 'Outlet_Type']\n",
        "\n",
        "# 'outlet_type_size' not good\n",
        "\n",
        "# Identify categorical columns (by column names or indices)\n",
        "cat_features = ['Item_Fat_Content',\n",
        "                'Item_Type',\n",
        "                'Outlet_Size',\n",
        "                'Outlet_Location_Type',\n",
        "                'Outlet_Type',\n",
        "                # 'Outlet_Identifier',\n",
        "                'MRP_level',\n",
        "                # 'weigh_level',\n",
        "                # 'log_visibility_level',\n",
        "                # 'Outlet_Tier',\n",
        "                # 'Item_Identifier_cat',\n",
        "                # 'is_perishable',\n",
        "                # 'is_processed', 'is_supermarket',\n",
        "                # 'item_type_cat',\n",
        "                ]\n",
        "\n",
        "\n",
        "# Model\n",
        "model = CatBoostRegressor(\n",
        "    iterations=1000,\n",
        "    learning_rate=0.05,\n",
        "    depth=5,\n",
        "    loss_function='RMSE',\n",
        "    eval_metric='RMSE',\n",
        "    random_seed=42,\n",
        "    verbose=100\n",
        ")\n",
        "# # Best Parameters: {'depth': 4, 'learning_rate': 0.1, 'iterations': 500}\n",
        "# model.fit(X_train, y_train, cat_features=cat_features, eval_set=(X_test, y_test))"
      ],
      "metadata": {
        "id": "l6XHdc_81K3d"
      },
      "execution_count": null,
      "outputs": []
    },
    {
      "cell_type": "code",
      "source": [],
      "metadata": {
        "id": "TvwrN3-tDBII"
      },
      "execution_count": null,
      "outputs": []
    },
    {
      "cell_type": "code",
      "source": [
        "# Train\n",
        "model.fit(X_train, y_train, cat_features=cat_features, eval_set=(X_test, y_test))\n",
        "# model.fit(X_train, y_train, cat_features=cat_features)"
      ],
      "metadata": {
        "colab": {
          "base_uri": "https://localhost:8080/"
        },
        "id": "xiPnw0iQ0J0F",
        "outputId": "23e78f1a-d95c-4a63-de70-ff56a6a0a56c"
      },
      "execution_count": null,
      "outputs": [
        {
          "output_type": "stream",
          "name": "stdout",
          "text": [
            "0:\tlearn: 1671.9999234\ttest: 1604.2710546\tbest: 1604.2710546 (0)\ttotal: 42.9ms\tremaining: 42.8s\n",
            "100:\tlearn: 1080.9690718\ttest: 1016.9758455\tbest: 1016.9479318 (97)\ttotal: 1.03s\tremaining: 9.13s\n",
            "200:\tlearn: 1066.0766935\ttest: 1015.1318727\tbest: 1014.4484178 (191)\ttotal: 1.71s\tremaining: 6.81s\n",
            "300:\tlearn: 1051.1379829\ttest: 1015.8133622\tbest: 1013.9512487 (232)\ttotal: 2.37s\tremaining: 5.51s\n",
            "400:\tlearn: 1039.8404982\ttest: 1016.7367447\tbest: 1013.9512487 (232)\ttotal: 3.07s\tremaining: 4.58s\n",
            "500:\tlearn: 1028.4480998\ttest: 1017.1545511\tbest: 1013.9512487 (232)\ttotal: 3.74s\tremaining: 3.73s\n",
            "600:\tlearn: 1016.8459902\ttest: 1019.1428717\tbest: 1013.9512487 (232)\ttotal: 4.45s\tremaining: 2.95s\n",
            "700:\tlearn: 1004.3069615\ttest: 1020.8279154\tbest: 1013.9512487 (232)\ttotal: 6.09s\tremaining: 2.6s\n",
            "800:\tlearn: 994.6639870\ttest: 1021.0440134\tbest: 1013.9512487 (232)\ttotal: 7.88s\tremaining: 1.96s\n",
            "900:\tlearn: 985.4626235\ttest: 1022.1232096\tbest: 1013.9512487 (232)\ttotal: 9.35s\tremaining: 1.03s\n",
            "999:\tlearn: 975.3654274\ttest: 1023.3401623\tbest: 1013.9512487 (232)\ttotal: 10.2s\tremaining: 0us\n",
            "\n",
            "bestTest = 1013.951249\n",
            "bestIteration = 232\n",
            "\n",
            "Shrink model to first 233 iterations.\n"
          ]
        },
        {
          "output_type": "execute_result",
          "data": {
            "text/plain": [
              "<catboost.core.CatBoostRegressor at 0x7fec8a29e350>"
            ]
          },
          "metadata": {},
          "execution_count": 151
        }
      ]
    },
    {
      "cell_type": "code",
      "source": [
        "# Predict\n",
        "y_pred = model.predict(X_test)\n",
        "\n",
        "# Evaluate\n",
        "mse = mean_squared_error(y_test, y_pred)\n",
        "print(f\"Mean Squared Error: {mse:.4f}\")"
      ],
      "metadata": {
        "colab": {
          "base_uri": "https://localhost:8080/"
        },
        "id": "8zux1mWlSw0T",
        "outputId": "61d18b2a-458a-496f-83f5-47a0b739cd26"
      },
      "execution_count": null,
      "outputs": [
        {
          "output_type": "stream",
          "name": "stdout",
          "text": [
            "Mean Squared Error: 1028097.1307\n"
          ]
        }
      ]
    },
    {
      "cell_type": "code",
      "source": [],
      "metadata": {
        "id": "TITEfGYlSw3N"
      },
      "execution_count": null,
      "outputs": []
    },
    {
      "cell_type": "code",
      "source": [
        "from catboost import CatBoostRegressor, Pool\n",
        "\n",
        "# Define parameter grid\n",
        "param_grid = {\n",
        "    'depth': [4, 6, 8],\n",
        "    'learning_rate': [0.01, 0.05, 0.1],\n",
        "    'iterations': [500, 1000, 1500],\n",
        "    # 'l2_leaf_reg': [1, 3, 5, 7],\n",
        "}\n",
        "\n",
        "# Initialize model\n",
        "model = CatBoostRegressor(\n",
        "    loss_function='RMSE',\n",
        "    random_seed=42,\n",
        "    verbose=100\n",
        ")\n",
        "\n",
        "# Fit with grid search\n",
        "result = model.grid_search(\n",
        "    param_grid,\n",
        "    X=Pool(X_train, y_train, cat_features=cat_features),\n",
        "    cv=3,  # 3-fold cross-validation\n",
        "    partition_random_seed=42,\n",
        "    shuffle=True\n",
        ")\n"
      ],
      "metadata": {
        "colab": {
          "base_uri": "https://localhost:8080/"
        },
        "id": "dXoSq3bnNP_j",
        "outputId": "de90c65f-bcda-4f0a-80f6-aa7988304277"
      },
      "execution_count": null,
      "outputs": [
        {
          "output_type": "stream",
          "name": "stdout",
          "text": [
            "0:\tlearn: 2738.3716915\ttest: 2788.5518538\tbest: 2788.5518538 (0)\ttotal: 7.49ms\tremaining: 3.74s\n",
            "100:\tlearn: 1455.4114854\ttest: 1500.2684792\tbest: 1500.2684792 (100)\ttotal: 451ms\tremaining: 1.78s\n",
            "200:\tlearn: 1149.8725601\ttest: 1180.8721843\tbest: 1180.8721843 (200)\ttotal: 945ms\tremaining: 1.41s\n",
            "300:\tlearn: 1091.7338200\ttest: 1115.6845871\tbest: 1115.6845871 (300)\ttotal: 1.47s\tremaining: 974ms\n",
            "400:\tlearn: 1078.6759522\ttest: 1100.5279374\tbest: 1100.5279374 (400)\ttotal: 2.38s\tremaining: 589ms\n",
            "499:\tlearn: 1073.6803600\ttest: 1095.6369874\tbest: 1095.6369874 (499)\ttotal: 3.39s\tremaining: 0us\n",
            "\n",
            "bestTest = 1095.636987\n",
            "bestIteration = 499\n",
            "\n",
            "0:\tloss: 1095.6369874\tbest: 1095.6369874 (0)\ttotal: 3.42s\tremaining: 1m 28s\n",
            "0:\tlearn: 2654.7534636\ttest: 2706.3204679\tbest: 2706.3204679 (0)\ttotal: 12.6ms\tremaining: 6.29s\n",
            "100:\tlearn: 1071.5341853\ttest: 1093.3209484\tbest: 1093.3209484 (100)\ttotal: 926ms\tremaining: 3.66s\n",
            "200:\tlearn: 1059.5567617\ttest: 1088.7743493\tbest: 1088.7743493 (200)\ttotal: 1.83s\tremaining: 2.73s\n",
            "300:\tlearn: 1051.2358266\ttest: 1087.1071568\tbest: 1087.0180749 (294)\ttotal: 2.49s\tremaining: 1.64s\n",
            "400:\tlearn: 1042.4658598\ttest: 1085.9847858\tbest: 1085.9556892 (397)\ttotal: 3.05s\tremaining: 752ms\n",
            "499:\tlearn: 1036.0817468\ttest: 1085.3115395\tbest: 1085.1120076 (480)\ttotal: 3.56s\tremaining: 0us\n",
            "\n",
            "bestTest = 1085.112008\n",
            "bestIteration = 480\n",
            "\n",
            "1:\tloss: 1085.1120076\tbest: 1085.1120076 (1)\ttotal: 7s\tremaining: 1m 27s\n",
            "0:\tlearn: 2551.4675505\ttest: 2604.7656748\tbest: 2604.7656748 (0)\ttotal: 6.74ms\tremaining: 3.36s\n",
            "100:\tlearn: 1059.5919872\ttest: 1086.5757155\tbest: 1086.5757155 (100)\ttotal: 536ms\tremaining: 2.12s\n",
            "200:\tlearn: 1042.7979152\ttest: 1084.9595692\tbest: 1084.4841102 (171)\ttotal: 1.02s\tremaining: 1.52s\n",
            "300:\tlearn: 1027.8635079\ttest: 1083.8846794\tbest: 1083.5470661 (271)\ttotal: 1.56s\tremaining: 1.03s\n",
            "400:\tlearn: 1014.8397831\ttest: 1084.9436228\tbest: 1083.5470661 (271)\ttotal: 2.16s\tremaining: 532ms\n",
            "499:\tlearn: 1005.4839805\ttest: 1086.1698493\tbest: 1083.5470661 (271)\ttotal: 2.74s\tremaining: 0us\n",
            "\n",
            "bestTest = 1083.547066\n",
            "bestIteration = 271\n",
            "\n",
            "2:\tloss: 1083.5470661\tbest: 1083.5470661 (2)\ttotal: 9.75s\tremaining: 1m 18s\n",
            "0:\tlearn: 2738.3716915\ttest: 2788.5518538\tbest: 2788.5518538 (0)\ttotal: 6.88ms\tremaining: 6.87s\n",
            "100:\tlearn: 1455.4114854\ttest: 1500.2684792\tbest: 1500.2684792 (100)\ttotal: 437ms\tremaining: 3.89s\n",
            "200:\tlearn: 1149.8725601\ttest: 1180.8721843\tbest: 1180.8721843 (200)\ttotal: 923ms\tremaining: 3.67s\n",
            "300:\tlearn: 1091.7338200\ttest: 1115.6845871\tbest: 1115.6845871 (300)\ttotal: 1.4s\tremaining: 3.26s\n",
            "400:\tlearn: 1078.6759522\ttest: 1100.5279374\tbest: 1100.5279374 (400)\ttotal: 1.91s\tremaining: 2.86s\n",
            "500:\tlearn: 1073.6634828\ttest: 1095.6130551\tbest: 1095.6130551 (500)\ttotal: 2.44s\tremaining: 2.42s\n",
            "600:\tlearn: 1070.4995272\ttest: 1093.4348360\tbest: 1093.4327401 (599)\ttotal: 2.95s\tremaining: 1.96s\n",
            "700:\tlearn: 1068.0278607\ttest: 1091.9375395\tbest: 1091.9375395 (700)\ttotal: 3.47s\tremaining: 1.48s\n",
            "800:\tlearn: 1065.4953027\ttest: 1090.7492392\tbest: 1090.7492392 (800)\ttotal: 3.97s\tremaining: 986ms\n",
            "900:\tlearn: 1063.0012459\ttest: 1089.9005123\tbest: 1089.8700049 (894)\ttotal: 4.43s\tremaining: 487ms\n",
            "999:\tlearn: 1060.5203683\ttest: 1089.1753562\tbest: 1089.1745671 (998)\ttotal: 4.93s\tremaining: 0us\n",
            "\n",
            "bestTest = 1089.174567\n",
            "bestIteration = 998\n",
            "\n",
            "3:\tloss: 1089.1745671\tbest: 1083.5470661 (2)\ttotal: 14.7s\tremaining: 1m 24s\n",
            "0:\tlearn: 2654.7534636\ttest: 2706.3204679\tbest: 2706.3204679 (0)\ttotal: 7.45ms\tremaining: 7.44s\n",
            "100:\tlearn: 1071.5341853\ttest: 1093.3209484\tbest: 1093.3209484 (100)\ttotal: 491ms\tremaining: 4.37s\n",
            "200:\tlearn: 1059.5567617\ttest: 1088.7743493\tbest: 1088.7743493 (200)\ttotal: 1.07s\tremaining: 4.25s\n",
            "300:\tlearn: 1051.2358266\ttest: 1087.1071568\tbest: 1087.0180749 (294)\ttotal: 1.98s\tremaining: 4.6s\n",
            "400:\tlearn: 1042.4658598\ttest: 1085.9847858\tbest: 1085.9556892 (397)\ttotal: 3.01s\tremaining: 4.49s\n",
            "500:\tlearn: 1035.9192491\ttest: 1085.1571153\tbest: 1085.1120076 (480)\ttotal: 3.99s\tremaining: 3.98s\n",
            "600:\tlearn: 1028.9799563\ttest: 1084.6808148\tbest: 1084.6162036 (546)\ttotal: 5.01s\tremaining: 3.33s\n",
            "700:\tlearn: 1023.3356843\ttest: 1085.4519668\tbest: 1084.6162036 (546)\ttotal: 5.59s\tremaining: 2.38s\n",
            "800:\tlearn: 1016.1099653\ttest: 1087.9117096\tbest: 1084.6162036 (546)\ttotal: 6.19s\tremaining: 1.54s\n",
            "900:\tlearn: 1009.7882646\ttest: 1088.9999129\tbest: 1084.6162036 (546)\ttotal: 6.78s\tremaining: 745ms\n",
            "999:\tlearn: 1004.6730218\ttest: 1089.3998313\tbest: 1084.6162036 (546)\ttotal: 7.35s\tremaining: 0us\n",
            "\n",
            "bestTest = 1084.616204\n",
            "bestIteration = 546\n",
            "\n",
            "4:\tloss: 1084.6162036\tbest: 1083.5470661 (2)\ttotal: 22.1s\tremaining: 1m 37s\n",
            "0:\tlearn: 2551.4675505\ttest: 2604.7656748\tbest: 2604.7656748 (0)\ttotal: 7.26ms\tremaining: 7.25s\n",
            "100:\tlearn: 1059.5919872\ttest: 1086.5757155\tbest: 1086.5757155 (100)\ttotal: 495ms\tremaining: 4.41s\n",
            "200:\tlearn: 1042.7979152\ttest: 1084.9595692\tbest: 1084.4841102 (171)\ttotal: 1s\tremaining: 3.98s\n",
            "300:\tlearn: 1027.8635079\ttest: 1083.8846794\tbest: 1083.5470661 (271)\ttotal: 1.53s\tremaining: 3.55s\n",
            "400:\tlearn: 1014.8397831\ttest: 1084.9436228\tbest: 1083.5470661 (271)\ttotal: 2.29s\tremaining: 3.42s\n",
            "500:\tlearn: 1005.1829420\ttest: 1086.3381222\tbest: 1083.5470661 (271)\ttotal: 3.67s\tremaining: 3.66s\n",
            "600:\tlearn: 994.0880353\ttest: 1086.9093630\tbest: 1083.5470661 (271)\ttotal: 4.68s\tremaining: 3.1s\n",
            "700:\tlearn: 984.0067429\ttest: 1089.4445634\tbest: 1083.5470661 (271)\ttotal: 5.82s\tremaining: 2.48s\n",
            "800:\tlearn: 974.2344075\ttest: 1090.3753367\tbest: 1083.5470661 (271)\ttotal: 6.38s\tremaining: 1.58s\n",
            "900:\tlearn: 965.7831472\ttest: 1092.9273518\tbest: 1083.5470661 (271)\ttotal: 6.91s\tremaining: 759ms\n",
            "999:\tlearn: 957.6267139\ttest: 1094.8410818\tbest: 1083.5470661 (271)\ttotal: 7.49s\tremaining: 0us\n",
            "\n",
            "bestTest = 1083.547066\n",
            "bestIteration = 271\n",
            "\n",
            "5:\tloss: 1083.5470661\tbest: 1083.5470661 (2)\ttotal: 29.6s\tremaining: 1m 43s\n",
            "0:\tlearn: 2738.3716915\ttest: 2788.5518538\tbest: 2788.5518538 (0)\ttotal: 7.53ms\tremaining: 11.3s\n",
            "100:\tlearn: 1455.4114854\ttest: 1500.2684792\tbest: 1500.2684792 (100)\ttotal: 680ms\tremaining: 9.41s\n",
            "200:\tlearn: 1149.8725601\ttest: 1180.8721843\tbest: 1180.8721843 (200)\ttotal: 1.52s\tremaining: 9.85s\n",
            "300:\tlearn: 1091.7338200\ttest: 1115.6845871\tbest: 1115.6845871 (300)\ttotal: 2.42s\tremaining: 9.64s\n",
            "400:\tlearn: 1078.6759522\ttest: 1100.5279374\tbest: 1100.5279374 (400)\ttotal: 3.31s\tremaining: 9.08s\n",
            "500:\tlearn: 1073.6634828\ttest: 1095.6130551\tbest: 1095.6130551 (500)\ttotal: 4.27s\tremaining: 8.52s\n",
            "600:\tlearn: 1070.4995272\ttest: 1093.4348360\tbest: 1093.4327401 (599)\ttotal: 5.1s\tremaining: 7.64s\n",
            "700:\tlearn: 1068.0278607\ttest: 1091.9375395\tbest: 1091.9375395 (700)\ttotal: 5.89s\tremaining: 6.72s\n",
            "800:\tlearn: 1065.4953027\ttest: 1090.7492392\tbest: 1090.7492392 (800)\ttotal: 6.41s\tremaining: 5.59s\n",
            "900:\tlearn: 1063.0012459\ttest: 1089.9005123\tbest: 1089.8700049 (894)\ttotal: 6.87s\tremaining: 4.57s\n",
            "1000:\tlearn: 1060.4549546\ttest: 1089.1702212\tbest: 1089.1702212 (1000)\ttotal: 7.38s\tremaining: 3.68s\n",
            "1100:\tlearn: 1058.0593422\ttest: 1088.3674365\tbest: 1088.3674365 (1100)\ttotal: 7.86s\tremaining: 2.85s\n",
            "1200:\tlearn: 1056.2544478\ttest: 1088.2544052\tbest: 1088.1630943 (1182)\ttotal: 8.33s\tremaining: 2.07s\n",
            "1300:\tlearn: 1054.4417665\ttest: 1087.7830834\tbest: 1087.7830834 (1300)\ttotal: 8.82s\tremaining: 1.35s\n",
            "1400:\tlearn: 1052.6025141\ttest: 1087.4022217\tbest: 1087.3817448 (1395)\ttotal: 9.35s\tremaining: 661ms\n",
            "1499:\tlearn: 1050.7256594\ttest: 1087.0275621\tbest: 1087.0275621 (1499)\ttotal: 9.86s\tremaining: 0us\n",
            "\n",
            "bestTest = 1087.027562\n",
            "bestIteration = 1499\n",
            "\n",
            "6:\tloss: 1087.0275621\tbest: 1083.5470661 (2)\ttotal: 39.5s\tremaining: 1m 52s\n",
            "0:\tlearn: 2654.7534636\ttest: 2706.3204679\tbest: 2706.3204679 (0)\ttotal: 7.22ms\tremaining: 10.8s\n",
            "100:\tlearn: 1071.5341853\ttest: 1093.3209484\tbest: 1093.3209484 (100)\ttotal: 527ms\tremaining: 7.3s\n",
            "200:\tlearn: 1059.5567617\ttest: 1088.7743493\tbest: 1088.7743493 (200)\ttotal: 1.01s\tremaining: 6.52s\n",
            "300:\tlearn: 1051.2358266\ttest: 1087.1071568\tbest: 1087.0180749 (294)\ttotal: 1.52s\tremaining: 6.06s\n",
            "400:\tlearn: 1042.4658598\ttest: 1085.9847858\tbest: 1085.9556892 (397)\ttotal: 2.07s\tremaining: 5.67s\n",
            "500:\tlearn: 1035.9192491\ttest: 1085.1571153\tbest: 1085.1120076 (480)\ttotal: 2.61s\tremaining: 5.21s\n",
            "600:\tlearn: 1028.9799563\ttest: 1084.6808148\tbest: 1084.6162036 (546)\ttotal: 3.15s\tremaining: 4.72s\n",
            "700:\tlearn: 1023.3356843\ttest: 1085.4519668\tbest: 1084.6162036 (546)\ttotal: 3.71s\tremaining: 4.23s\n",
            "800:\tlearn: 1016.1099653\ttest: 1087.9117096\tbest: 1084.6162036 (546)\ttotal: 4.32s\tremaining: 3.77s\n",
            "900:\tlearn: 1009.7882646\ttest: 1088.9999129\tbest: 1084.6162036 (546)\ttotal: 5.46s\tremaining: 3.63s\n",
            "1000:\tlearn: 1004.6512580\ttest: 1089.3213801\tbest: 1084.6162036 (546)\ttotal: 6.5s\tremaining: 3.24s\n",
            "1100:\tlearn: 999.7109109\ttest: 1090.2504713\tbest: 1084.6162036 (546)\ttotal: 7.57s\tremaining: 2.74s\n",
            "1200:\tlearn: 994.3091180\ttest: 1090.7824508\tbest: 1084.6162036 (546)\ttotal: 8.55s\tremaining: 2.13s\n",
            "1300:\tlearn: 990.1225428\ttest: 1091.8435994\tbest: 1084.6162036 (546)\ttotal: 9.14s\tremaining: 1.4s\n",
            "1400:\tlearn: 985.6538952\ttest: 1092.6600140\tbest: 1084.6162036 (546)\ttotal: 9.72s\tremaining: 687ms\n",
            "1499:\tlearn: 981.2995710\ttest: 1093.5600243\tbest: 1084.6162036 (546)\ttotal: 10.3s\tremaining: 0us\n",
            "\n",
            "bestTest = 1084.616204\n",
            "bestIteration = 546\n",
            "\n",
            "7:\tloss: 1084.6162036\tbest: 1083.5470661 (2)\ttotal: 49.9s\tremaining: 1m 58s\n",
            "0:\tlearn: 2551.4675505\ttest: 2604.7656748\tbest: 2604.7656748 (0)\ttotal: 7.15ms\tremaining: 10.7s\n",
            "100:\tlearn: 1059.5919872\ttest: 1086.5757155\tbest: 1086.5757155 (100)\ttotal: 522ms\tremaining: 7.23s\n",
            "200:\tlearn: 1042.7979152\ttest: 1084.9595692\tbest: 1084.4841102 (171)\ttotal: 1.03s\tremaining: 6.63s\n",
            "300:\tlearn: 1027.8635079\ttest: 1083.8846794\tbest: 1083.5470661 (271)\ttotal: 1.58s\tremaining: 6.28s\n",
            "400:\tlearn: 1014.8397831\ttest: 1084.9436228\tbest: 1083.5470661 (271)\ttotal: 2.15s\tremaining: 5.88s\n",
            "500:\tlearn: 1005.1829420\ttest: 1086.3381222\tbest: 1083.5470661 (271)\ttotal: 2.75s\tremaining: 5.48s\n",
            "600:\tlearn: 994.0880353\ttest: 1086.9093630\tbest: 1083.5470661 (271)\ttotal: 3.33s\tremaining: 4.98s\n",
            "700:\tlearn: 984.0067429\ttest: 1089.4445634\tbest: 1083.5470661 (271)\ttotal: 3.93s\tremaining: 4.47s\n",
            "800:\tlearn: 974.2344075\ttest: 1090.3753367\tbest: 1083.5470661 (271)\ttotal: 4.51s\tremaining: 3.94s\n",
            "900:\tlearn: 965.7831472\ttest: 1092.9273518\tbest: 1083.5470661 (271)\ttotal: 5.07s\tremaining: 3.37s\n",
            "1000:\tlearn: 957.5330434\ttest: 1094.7857397\tbest: 1083.5470661 (271)\ttotal: 5.65s\tremaining: 2.82s\n",
            "1100:\tlearn: 949.9161893\ttest: 1096.1030129\tbest: 1083.5470661 (271)\ttotal: 6.26s\tremaining: 2.27s\n",
            "1200:\tlearn: 942.9009893\ttest: 1099.1402111\tbest: 1083.5470661 (271)\ttotal: 6.87s\tremaining: 1.71s\n",
            "1300:\tlearn: 935.8400985\ttest: 1101.1434096\tbest: 1083.5470661 (271)\ttotal: 7.46s\tremaining: 1.14s\n",
            "1400:\tlearn: 929.2772749\ttest: 1103.1233457\tbest: 1083.5470661 (271)\ttotal: 8.09s\tremaining: 572ms\n",
            "1499:\tlearn: 923.9903663\ttest: 1103.9722936\tbest: 1083.5470661 (271)\ttotal: 9.2s\tremaining: 0us\n",
            "\n",
            "bestTest = 1083.547066\n",
            "bestIteration = 271\n",
            "\n",
            "8:\tloss: 1083.5470661\tbest: 1083.5470661 (2)\ttotal: 59.1s\tremaining: 1m 58s\n",
            "0:\tlearn: 2736.7931252\ttest: 2786.7052820\tbest: 2786.7052820 (0)\ttotal: 21.8ms\tremaining: 10.9s\n",
            "100:\tlearn: 1444.2218681\ttest: 1490.1161891\tbest: 1490.1161891 (100)\ttotal: 1.46s\tremaining: 5.76s\n",
            "200:\tlearn: 1144.6124487\ttest: 1179.3865248\tbest: 1179.3865248 (200)\ttotal: 2.84s\tremaining: 4.23s\n",
            "300:\tlearn: 1086.6267963\ttest: 1114.6170136\tbest: 1114.6170136 (300)\ttotal: 3.7s\tremaining: 2.45s\n",
            "400:\tlearn: 1072.3692280\ttest: 1100.0810878\tbest: 1100.0810878 (400)\ttotal: 4.53s\tremaining: 1.12s\n",
            "499:\tlearn: 1064.9986115\ttest: 1095.4904606\tbest: 1095.4904606 (499)\ttotal: 5.36s\tremaining: 0us\n",
            "\n",
            "bestTest = 1095.490461\n",
            "bestIteration = 499\n",
            "\n",
            "9:\tloss: 1095.4904606\tbest: 1083.5470661 (2)\ttotal: 1m 4s\tremaining: 1m 49s\n",
            "0:\tlearn: 2646.7556419\ttest: 2696.9714139\tbest: 2696.9714139 (0)\ttotal: 13ms\tremaining: 6.47s\n",
            "100:\tlearn: 1066.0284182\ttest: 1094.8687043\tbest: 1094.8687043 (100)\ttotal: 827ms\tremaining: 3.27s\n",
            "200:\tlearn: 1042.8632888\ttest: 1090.3091357\tbest: 1090.2353824 (192)\ttotal: 1.7s\tremaining: 2.53s\n",
            "300:\tlearn: 1026.1369694\ttest: 1090.1061833\tbest: 1089.0931063 (234)\ttotal: 2.58s\tremaining: 1.7s\n",
            "400:\tlearn: 1009.3493424\ttest: 1089.6073707\tbest: 1089.0931063 (234)\ttotal: 3.52s\tremaining: 870ms\n",
            "499:\tlearn: 996.4827879\ttest: 1091.4489712\tbest: 1089.0931063 (234)\ttotal: 4.47s\tremaining: 0us\n",
            "\n",
            "bestTest = 1089.093106\n",
            "bestIteration = 234\n",
            "\n",
            "10:\tloss: 1089.0931063\tbest: 1083.5470661 (2)\ttotal: 1m 9s\tremaining: 1m 40s\n",
            "0:\tlearn: 2535.1963806\ttest: 2585.7634524\tbest: 2585.7634524 (0)\ttotal: 12.3ms\tremaining: 6.13s\n",
            "100:\tlearn: 1042.0794155\ttest: 1090.5294769\tbest: 1090.2413985 (92)\ttotal: 842ms\tremaining: 3.33s\n",
            "200:\tlearn: 1003.1232612\ttest: 1093.9400023\tbest: 1090.1776187 (103)\ttotal: 1.8s\tremaining: 2.68s\n",
            "300:\tlearn: 976.3784699\ttest: 1096.0132088\tbest: 1090.1776187 (103)\ttotal: 2.78s\tremaining: 1.84s\n",
            "400:\tlearn: 946.1113985\ttest: 1101.8121946\tbest: 1090.1776187 (103)\ttotal: 4.29s\tremaining: 1.06s\n",
            "499:\tlearn: 922.4361848\ttest: 1105.9800281\tbest: 1090.1776187 (103)\ttotal: 6.17s\tremaining: 0us\n",
            "\n",
            "bestTest = 1090.177619\n",
            "bestIteration = 103\n",
            "\n",
            "11:\tloss: 1090.1776187\tbest: 1083.5470661 (2)\ttotal: 1m 15s\tremaining: 1m 33s\n",
            "0:\tlearn: 2736.7931252\ttest: 2786.7052820\tbest: 2786.7052820 (0)\ttotal: 21.6ms\tremaining: 21.6s\n",
            "100:\tlearn: 1444.2218681\ttest: 1490.1161891\tbest: 1490.1161891 (100)\ttotal: 1.41s\tremaining: 12.5s\n",
            "200:\tlearn: 1144.6124487\ttest: 1179.3865248\tbest: 1179.3865248 (200)\ttotal: 2.12s\tremaining: 8.43s\n",
            "300:\tlearn: 1086.6267963\ttest: 1114.6170136\tbest: 1114.6170136 (300)\ttotal: 2.88s\tremaining: 6.69s\n",
            "400:\tlearn: 1072.3692280\ttest: 1100.0810878\tbest: 1100.0810878 (400)\ttotal: 3.7s\tremaining: 5.53s\n",
            "500:\tlearn: 1064.9171365\ttest: 1095.4913265\tbest: 1095.4904606 (499)\ttotal: 4.52s\tremaining: 4.51s\n",
            "600:\tlearn: 1059.4173754\ttest: 1093.6166353\tbest: 1093.6166353 (600)\ttotal: 5.37s\tremaining: 3.56s\n",
            "700:\tlearn: 1055.2158533\ttest: 1092.4781985\tbest: 1092.4373274 (697)\ttotal: 6.18s\tremaining: 2.64s\n",
            "800:\tlearn: 1050.6080938\ttest: 1091.5129909\tbest: 1091.4891422 (796)\ttotal: 7.05s\tremaining: 1.75s\n",
            "900:\tlearn: 1045.9583126\ttest: 1090.3139278\tbest: 1090.3120422 (899)\ttotal: 7.89s\tremaining: 867ms\n",
            "999:\tlearn: 1041.1995105\ttest: 1089.4164404\tbest: 1089.4164404 (999)\ttotal: 8.72s\tremaining: 0us\n",
            "\n",
            "bestTest = 1089.41644\n",
            "bestIteration = 999\n",
            "\n",
            "12:\tloss: 1089.4164404\tbest: 1083.5470661 (2)\ttotal: 1m 23s\tremaining: 1m 30s\n",
            "0:\tlearn: 2646.7556419\ttest: 2696.9714139\tbest: 2696.9714139 (0)\ttotal: 11.7ms\tremaining: 11.6s\n",
            "100:\tlearn: 1066.0284182\ttest: 1094.8687043\tbest: 1094.8687043 (100)\ttotal: 830ms\tremaining: 7.38s\n",
            "200:\tlearn: 1042.8632888\ttest: 1090.3091357\tbest: 1090.2353824 (192)\ttotal: 1.69s\tremaining: 6.72s\n",
            "300:\tlearn: 1026.1369694\ttest: 1090.1061833\tbest: 1089.0931063 (234)\ttotal: 2.63s\tremaining: 6.12s\n",
            "400:\tlearn: 1009.3493424\ttest: 1089.6073707\tbest: 1089.0931063 (234)\ttotal: 4.42s\tremaining: 6.6s\n",
            "500:\tlearn: 996.4081514\ttest: 1091.4854150\tbest: 1089.0931063 (234)\ttotal: 6.21s\tremaining: 6.18s\n",
            "600:\tlearn: 981.6359560\ttest: 1093.9021228\tbest: 1089.0931063 (234)\ttotal: 7.38s\tremaining: 4.9s\n",
            "700:\tlearn: 966.5853281\ttest: 1096.1153294\tbest: 1089.0931063 (234)\ttotal: 8.4s\tremaining: 3.58s\n",
            "800:\tlearn: 953.5177637\ttest: 1097.3950227\tbest: 1089.0931063 (234)\ttotal: 9.4s\tremaining: 2.34s\n",
            "900:\tlearn: 940.8645128\ttest: 1098.9682562\tbest: 1089.0931063 (234)\ttotal: 10.4s\tremaining: 1.14s\n",
            "999:\tlearn: 928.3397870\ttest: 1100.6338267\tbest: 1089.0931063 (234)\ttotal: 11.4s\tremaining: 0us\n",
            "\n",
            "bestTest = 1089.093106\n",
            "bestIteration = 234\n",
            "\n",
            "13:\tloss: 1089.0931063\tbest: 1083.5470661 (2)\ttotal: 1m 35s\tremaining: 1m 28s\n",
            "0:\tlearn: 2535.1963806\ttest: 2585.7634524\tbest: 2585.7634524 (0)\ttotal: 12.4ms\tremaining: 12.4s\n",
            "100:\tlearn: 1042.0794155\ttest: 1090.5294769\tbest: 1090.2413985 (92)\ttotal: 836ms\tremaining: 7.44s\n",
            "200:\tlearn: 1003.1232612\ttest: 1093.9400023\tbest: 1090.1776187 (103)\ttotal: 1.79s\tremaining: 7.12s\n",
            "300:\tlearn: 976.3784699\ttest: 1096.0132088\tbest: 1090.1776187 (103)\ttotal: 2.74s\tremaining: 6.36s\n",
            "400:\tlearn: 946.1113985\ttest: 1101.8121946\tbest: 1090.1776187 (103)\ttotal: 3.76s\tremaining: 5.62s\n",
            "500:\tlearn: 922.3905780\ttest: 1106.0250793\tbest: 1090.1776187 (103)\ttotal: 4.75s\tremaining: 4.73s\n",
            "600:\tlearn: 902.8680999\ttest: 1109.2531494\tbest: 1090.1776187 (103)\ttotal: 6.23s\tremaining: 4.13s\n",
            "700:\tlearn: 885.6026025\ttest: 1112.2263606\tbest: 1090.1776187 (103)\ttotal: 8.17s\tremaining: 3.48s\n",
            "800:\tlearn: 869.6590013\ttest: 1114.5995540\tbest: 1090.1776187 (103)\ttotal: 9.78s\tremaining: 2.43s\n",
            "900:\tlearn: 852.3939147\ttest: 1117.6697233\tbest: 1090.1776187 (103)\ttotal: 10.8s\tremaining: 1.19s\n",
            "999:\tlearn: 836.9817556\ttest: 1120.3286946\tbest: 1090.1776187 (103)\ttotal: 11.8s\tremaining: 0us\n",
            "\n",
            "bestTest = 1090.177619\n",
            "bestIteration = 103\n",
            "\n",
            "14:\tloss: 1090.1776187\tbest: 1083.5470661 (2)\ttotal: 1m 47s\tremaining: 1m 25s\n",
            "0:\tlearn: 2736.7931252\ttest: 2786.7052820\tbest: 2786.7052820 (0)\ttotal: 12.1ms\tremaining: 18.2s\n",
            "100:\tlearn: 1444.2218681\ttest: 1490.1161891\tbest: 1490.1161891 (100)\ttotal: 786ms\tremaining: 10.9s\n",
            "200:\tlearn: 1144.6124487\ttest: 1179.3865248\tbest: 1179.3865248 (200)\ttotal: 1.51s\tremaining: 9.77s\n",
            "300:\tlearn: 1086.6267963\ttest: 1114.6170136\tbest: 1114.6170136 (300)\ttotal: 2.28s\tremaining: 9.08s\n",
            "400:\tlearn: 1072.3692280\ttest: 1100.0810878\tbest: 1100.0810878 (400)\ttotal: 3.11s\tremaining: 8.52s\n",
            "500:\tlearn: 1064.9171365\ttest: 1095.4913265\tbest: 1095.4904606 (499)\ttotal: 3.91s\tremaining: 7.8s\n",
            "600:\tlearn: 1059.4173754\ttest: 1093.6166353\tbest: 1093.6166353 (600)\ttotal: 4.78s\tremaining: 7.14s\n",
            "700:\tlearn: 1055.2158533\ttest: 1092.4781985\tbest: 1092.4373274 (697)\ttotal: 5.57s\tremaining: 6.35s\n",
            "800:\tlearn: 1050.6080938\ttest: 1091.5129909\tbest: 1091.4891422 (796)\ttotal: 6.43s\tremaining: 5.61s\n",
            "900:\tlearn: 1045.9583126\ttest: 1090.3139278\tbest: 1090.3120422 (899)\ttotal: 7.32s\tremaining: 4.87s\n",
            "1000:\tlearn: 1041.1779861\ttest: 1089.4115944\tbest: 1089.4115944 (1000)\ttotal: 8.67s\tremaining: 4.32s\n",
            "1100:\tlearn: 1036.8021753\ttest: 1089.1326762\tbest: 1088.9097963 (1060)\ttotal: 10.3s\tremaining: 3.75s\n",
            "1200:\tlearn: 1032.8200781\ttest: 1088.9269327\tbest: 1088.8632644 (1139)\ttotal: 11.8s\tremaining: 2.95s\n",
            "1300:\tlearn: 1029.1602362\ttest: 1088.9355496\tbest: 1088.7816880 (1275)\ttotal: 12.7s\tremaining: 1.95s\n",
            "1400:\tlearn: 1025.2757685\ttest: 1089.1247068\tbest: 1088.7816880 (1275)\ttotal: 13.7s\tremaining: 966ms\n",
            "1499:\tlearn: 1021.3442860\ttest: 1089.4778816\tbest: 1088.7816880 (1275)\ttotal: 14.6s\tremaining: 0us\n",
            "\n",
            "bestTest = 1088.781688\n",
            "bestIteration = 1275\n",
            "\n",
            "15:\tloss: 1088.7816880\tbest: 1083.5470661 (2)\ttotal: 2m 1s\tremaining: 1m 23s\n",
            "0:\tlearn: 2646.7556419\ttest: 2696.9714139\tbest: 2696.9714139 (0)\ttotal: 12.6ms\tremaining: 18.9s\n",
            "100:\tlearn: 1066.0284182\ttest: 1094.8687043\tbest: 1094.8687043 (100)\ttotal: 777ms\tremaining: 10.8s\n",
            "200:\tlearn: 1042.8632888\ttest: 1090.3091357\tbest: 1090.2353824 (192)\ttotal: 1.65s\tremaining: 10.7s\n",
            "300:\tlearn: 1026.1369694\ttest: 1090.1061833\tbest: 1089.0931063 (234)\ttotal: 2.53s\tremaining: 10.1s\n",
            "400:\tlearn: 1009.3493424\ttest: 1089.6073707\tbest: 1089.0931063 (234)\ttotal: 3.49s\tremaining: 9.57s\n",
            "500:\tlearn: 996.4081514\ttest: 1091.4854150\tbest: 1089.0931063 (234)\ttotal: 4.44s\tremaining: 8.85s\n",
            "600:\tlearn: 981.6359560\ttest: 1093.9021228\tbest: 1089.0931063 (234)\ttotal: 5.43s\tremaining: 8.13s\n",
            "700:\tlearn: 966.5853281\ttest: 1096.1153294\tbest: 1089.0931063 (234)\ttotal: 6.45s\tremaining: 7.35s\n",
            "800:\tlearn: 953.5177637\ttest: 1097.3950227\tbest: 1089.0931063 (234)\ttotal: 7.81s\tremaining: 6.81s\n",
            "900:\tlearn: 940.8645128\ttest: 1098.9682562\tbest: 1089.0931063 (234)\ttotal: 9.69s\tremaining: 6.44s\n",
            "1000:\tlearn: 928.2943448\ttest: 1100.7072067\tbest: 1089.0931063 (234)\ttotal: 11.5s\tremaining: 5.73s\n",
            "1100:\tlearn: 915.5286541\ttest: 1102.5393666\tbest: 1089.0931063 (234)\ttotal: 12.5s\tremaining: 4.53s\n",
            "1200:\tlearn: 905.0775838\ttest: 1104.1594743\tbest: 1089.0931063 (234)\ttotal: 13.5s\tremaining: 3.36s\n",
            "1300:\tlearn: 895.5446248\ttest: 1106.0966391\tbest: 1089.0931063 (234)\ttotal: 14.5s\tremaining: 2.22s\n",
            "1400:\tlearn: 885.6022981\ttest: 1106.6914281\tbest: 1089.0931063 (234)\ttotal: 15.5s\tremaining: 1.1s\n",
            "1499:\tlearn: 876.6222884\ttest: 1108.0530489\tbest: 1089.0931063 (234)\ttotal: 16.6s\tremaining: 0us\n",
            "\n",
            "bestTest = 1089.093106\n",
            "bestIteration = 234\n",
            "\n",
            "16:\tloss: 1089.0931063\tbest: 1083.5470661 (2)\ttotal: 2m 18s\tremaining: 1m 21s\n",
            "0:\tlearn: 2535.1963806\ttest: 2585.7634524\tbest: 2585.7634524 (0)\ttotal: 11.3ms\tremaining: 16.9s\n",
            "100:\tlearn: 1042.0794155\ttest: 1090.5294769\tbest: 1090.2413985 (92)\ttotal: 842ms\tremaining: 11.7s\n",
            "200:\tlearn: 1003.1232612\ttest: 1093.9400023\tbest: 1090.1776187 (103)\ttotal: 1.8s\tremaining: 11.6s\n",
            "300:\tlearn: 976.3784699\ttest: 1096.0132088\tbest: 1090.1776187 (103)\ttotal: 2.76s\tremaining: 11s\n",
            "400:\tlearn: 946.1113985\ttest: 1101.8121946\tbest: 1090.1776187 (103)\ttotal: 3.79s\tremaining: 10.4s\n",
            "500:\tlearn: 922.3905780\ttest: 1106.0250793\tbest: 1090.1776187 (103)\ttotal: 4.87s\tremaining: 9.71s\n",
            "600:\tlearn: 902.8680999\ttest: 1109.2531494\tbest: 1090.1776187 (103)\ttotal: 6.78s\tremaining: 10.1s\n",
            "700:\tlearn: 885.6026025\ttest: 1112.2263606\tbest: 1090.1776187 (103)\ttotal: 8.76s\tremaining: 9.99s\n",
            "800:\tlearn: 869.6590013\ttest: 1114.5995540\tbest: 1090.1776187 (103)\ttotal: 9.89s\tremaining: 8.63s\n",
            "900:\tlearn: 852.3939147\ttest: 1117.6697233\tbest: 1090.1776187 (103)\ttotal: 10.9s\tremaining: 7.26s\n",
            "1000:\tlearn: 836.8376744\ttest: 1120.3290781\tbest: 1090.1776187 (103)\ttotal: 11.9s\tremaining: 5.94s\n",
            "1100:\tlearn: 822.1128736\ttest: 1120.2336055\tbest: 1090.1776187 (103)\ttotal: 12.9s\tremaining: 4.69s\n",
            "1200:\tlearn: 808.9600506\ttest: 1123.9620196\tbest: 1090.1776187 (103)\ttotal: 14s\tremaining: 3.48s\n",
            "1300:\tlearn: 796.6847784\ttest: 1127.6048597\tbest: 1090.1776187 (103)\ttotal: 15s\tremaining: 2.29s\n",
            "1400:\tlearn: 783.7131425\ttest: 1129.9616664\tbest: 1090.1776187 (103)\ttotal: 16s\tremaining: 1.13s\n",
            "1499:\tlearn: 773.0921470\ttest: 1131.4316211\tbest: 1090.1776187 (103)\ttotal: 17s\tremaining: 0us\n",
            "\n",
            "bestTest = 1090.177619\n",
            "bestIteration = 103\n",
            "\n",
            "17:\tloss: 1090.1776187\tbest: 1083.5470661 (2)\ttotal: 2m 35s\tremaining: 1m 17s\n",
            "0:\tlearn: 2736.9033817\ttest: 2786.7739401\tbest: 2786.7739401 (0)\ttotal: 22.5ms\tremaining: 11.3s\n",
            "100:\tlearn: 1447.8261979\ttest: 1493.1215761\tbest: 1493.1215761 (100)\ttotal: 1.1s\tremaining: 4.34s\n",
            "200:\tlearn: 1142.0138108\ttest: 1177.6069585\tbest: 1177.6069585 (200)\ttotal: 2.55s\tremaining: 3.79s\n",
            "300:\tlearn: 1083.6828804\ttest: 1114.4275482\tbest: 1114.4275482 (300)\ttotal: 4.8s\tremaining: 3.17s\n",
            "400:\tlearn: 1064.9378299\ttest: 1098.8942635\tbest: 1098.8942635 (400)\ttotal: 6.83s\tremaining: 1.69s\n",
            "499:\tlearn: 1054.8193498\ttest: 1094.3826570\tbest: 1094.3826570 (499)\ttotal: 8.14s\tremaining: 0us\n",
            "\n",
            "bestTest = 1094.382657\n",
            "bestIteration = 499\n",
            "\n",
            "18:\tloss: 1094.3826570\tbest: 1083.5470661 (2)\ttotal: 2m 43s\tremaining: 1m 8s\n",
            "0:\tlearn: 2647.3054987\ttest: 2697.3120444\tbest: 2697.3120444 (0)\ttotal: 18.9ms\tremaining: 9.43s\n",
            "100:\tlearn: 1055.7394468\ttest: 1094.7895334\tbest: 1094.7895334 (100)\ttotal: 1.29s\tremaining: 5.1s\n",
            "200:\tlearn: 1015.4346031\ttest: 1094.1086346\tbest: 1091.9583542 (144)\ttotal: 2.77s\tremaining: 4.13s\n",
            "300:\tlearn: 977.4395460\ttest: 1096.4476237\tbest: 1091.9583542 (144)\ttotal: 4.45s\tremaining: 2.94s\n",
            "400:\tlearn: 949.2029893\ttest: 1098.1220321\tbest: 1091.9583542 (144)\ttotal: 6.07s\tremaining: 1.5s\n",
            "499:\tlearn: 922.3691202\ttest: 1101.6567957\tbest: 1091.9583542 (144)\ttotal: 7.7s\tremaining: 0us\n",
            "\n",
            "bestTest = 1091.958354\n",
            "bestIteration = 144\n",
            "\n",
            "19:\tloss: 1091.9583542\tbest: 1083.5470661 (2)\ttotal: 2m 51s\tremaining: 1m\n",
            "0:\tlearn: 2536.2918198\ttest: 2586.4372958\tbest: 2586.4372958 (0)\ttotal: 18ms\tremaining: 9.01s\n",
            "100:\tlearn: 1011.9388222\ttest: 1093.2534832\tbest: 1092.1519286 (70)\ttotal: 2.67s\tremaining: 10.6s\n",
            "200:\tlearn: 947.0813662\ttest: 1100.8920786\tbest: 1092.1519286 (70)\ttotal: 5.21s\tremaining: 7.75s\n",
            "300:\tlearn: 900.1295771\ttest: 1108.5561200\tbest: 1092.1519286 (70)\ttotal: 6.94s\tremaining: 4.59s\n",
            "400:\tlearn: 851.5752018\ttest: 1115.1518003\tbest: 1092.1519286 (70)\ttotal: 8.7s\tremaining: 2.15s\n",
            "499:\tlearn: 809.0796229\ttest: 1117.9264762\tbest: 1092.1519286 (70)\ttotal: 10.4s\tremaining: 0us\n",
            "\n",
            "bestTest = 1092.151929\n",
            "bestIteration = 70\n",
            "\n",
            "20:\tloss: 1092.1519286\tbest: 1083.5470661 (2)\ttotal: 3m 1s\tremaining: 52s\n",
            "0:\tlearn: 2736.9033817\ttest: 2786.7739401\tbest: 2786.7739401 (0)\ttotal: 18.3ms\tremaining: 18.3s\n",
            "100:\tlearn: 1447.8261979\ttest: 1493.1215761\tbest: 1493.1215761 (100)\ttotal: 1.09s\tremaining: 9.69s\n",
            "200:\tlearn: 1142.0138108\ttest: 1177.6069585\tbest: 1177.6069585 (200)\ttotal: 2.21s\tremaining: 8.78s\n",
            "300:\tlearn: 1083.6828804\ttest: 1114.4275482\tbest: 1114.4275482 (300)\ttotal: 3.42s\tremaining: 7.95s\n",
            "400:\tlearn: 1064.9378299\ttest: 1098.8942635\tbest: 1098.8942635 (400)\ttotal: 5.81s\tremaining: 8.69s\n",
            "500:\tlearn: 1054.7138462\ttest: 1094.3227671\tbest: 1094.3227671 (500)\ttotal: 8.2s\tremaining: 8.17s\n",
            "600:\tlearn: 1046.1419911\ttest: 1092.2649526\tbest: 1092.2649526 (600)\ttotal: 9.61s\tremaining: 6.38s\n",
            "700:\tlearn: 1038.7917744\ttest: 1091.0612115\tbest: 1091.0369570 (693)\ttotal: 11s\tremaining: 4.7s\n",
            "800:\tlearn: 1029.8835800\ttest: 1091.0154958\tbest: 1090.6803535 (765)\ttotal: 12.5s\tremaining: 3.12s\n",
            "900:\tlearn: 1021.6273024\ttest: 1090.4406012\tbest: 1090.4406012 (900)\ttotal: 14.1s\tremaining: 1.54s\n",
            "999:\tlearn: 1013.0402897\ttest: 1090.9639631\tbest: 1090.3619767 (905)\ttotal: 15.6s\tremaining: 0us\n",
            "\n",
            "bestTest = 1090.361977\n",
            "bestIteration = 905\n",
            "\n",
            "21:\tloss: 1090.3619767\tbest: 1083.5470661 (2)\ttotal: 3m 17s\tremaining: 44.9s\n",
            "0:\tlearn: 2647.3054987\ttest: 2697.3120444\tbest: 2697.3120444 (0)\ttotal: 18.6ms\tremaining: 18.6s\n",
            "100:\tlearn: 1055.7394468\ttest: 1094.7895334\tbest: 1094.7895334 (100)\ttotal: 1.29s\tremaining: 11.5s\n",
            "200:\tlearn: 1015.4346031\ttest: 1094.1086346\tbest: 1091.9583542 (144)\ttotal: 3.13s\tremaining: 12.5s\n",
            "300:\tlearn: 977.4395460\ttest: 1096.4476237\tbest: 1091.9583542 (144)\ttotal: 6.34s\tremaining: 14.7s\n",
            "400:\tlearn: 949.2029893\ttest: 1098.1220321\tbest: 1091.9583542 (144)\ttotal: 8.12s\tremaining: 12.1s\n",
            "500:\tlearn: 922.2047591\ttest: 1101.7937376\tbest: 1091.9583542 (144)\ttotal: 9.78s\tremaining: 9.74s\n",
            "600:\tlearn: 894.1843862\ttest: 1105.5814024\tbest: 1091.9583542 (144)\ttotal: 11.6s\tremaining: 7.67s\n",
            "700:\tlearn: 868.6055107\ttest: 1109.6193320\tbest: 1091.9583542 (144)\ttotal: 13.3s\tremaining: 5.69s\n",
            "800:\tlearn: 846.6139904\ttest: 1113.3502747\tbest: 1091.9583542 (144)\ttotal: 15.1s\tremaining: 3.76s\n",
            "900:\tlearn: 825.2784451\ttest: 1116.0278994\tbest: 1091.9583542 (144)\ttotal: 17.4s\tremaining: 1.91s\n",
            "999:\tlearn: 805.0902923\ttest: 1117.7741141\tbest: 1091.9583542 (144)\ttotal: 20.7s\tremaining: 0us\n",
            "\n",
            "bestTest = 1091.958354\n",
            "bestIteration = 144\n",
            "\n",
            "22:\tloss: 1091.9583542\tbest: 1083.5470661 (2)\ttotal: 3m 38s\tremaining: 38s\n",
            "0:\tlearn: 2536.2918198\ttest: 2586.4372958\tbest: 2586.4372958 (0)\ttotal: 17.4ms\tremaining: 17.4s\n",
            "100:\tlearn: 1011.9388222\ttest: 1093.2534832\tbest: 1092.1519286 (70)\ttotal: 1.45s\tremaining: 12.9s\n",
            "200:\tlearn: 947.0813662\ttest: 1100.8920786\tbest: 1092.1519286 (70)\ttotal: 3.15s\tremaining: 12.5s\n",
            "300:\tlearn: 900.1295771\ttest: 1108.5561200\tbest: 1092.1519286 (70)\ttotal: 4.85s\tremaining: 11.3s\n",
            "400:\tlearn: 851.5752018\ttest: 1115.1518003\tbest: 1092.1519286 (70)\ttotal: 6.61s\tremaining: 9.88s\n",
            "500:\tlearn: 808.5622904\ttest: 1118.3113338\tbest: 1092.1519286 (70)\ttotal: 8.37s\tremaining: 8.34s\n",
            "600:\tlearn: 770.9449848\ttest: 1125.7003763\tbest: 1092.1519286 (70)\ttotal: 10.5s\tremaining: 6.94s\n",
            "700:\tlearn: 739.1280193\ttest: 1130.8381240\tbest: 1092.1519286 (70)\ttotal: 13.9s\tremaining: 5.94s\n",
            "800:\tlearn: 711.9039182\ttest: 1135.1296286\tbest: 1092.1519286 (70)\ttotal: 15.7s\tremaining: 3.9s\n",
            "900:\tlearn: 686.1336855\ttest: 1138.7626469\tbest: 1092.1519286 (70)\ttotal: 17.5s\tremaining: 1.93s\n",
            "999:\tlearn: 660.5397765\ttest: 1140.2622191\tbest: 1092.1519286 (70)\ttotal: 19.4s\tremaining: 0us\n",
            "\n",
            "bestTest = 1092.151929\n",
            "bestIteration = 70\n",
            "\n",
            "23:\tloss: 1092.1519286\tbest: 1083.5470661 (2)\ttotal: 3m 57s\tremaining: 29.7s\n",
            "0:\tlearn: 2736.9033817\ttest: 2786.7739401\tbest: 2786.7739401 (0)\ttotal: 17.7ms\tremaining: 26.5s\n",
            "100:\tlearn: 1447.8261979\ttest: 1493.1215761\tbest: 1493.1215761 (100)\ttotal: 1.09s\tremaining: 15.1s\n",
            "200:\tlearn: 1142.0138108\ttest: 1177.6069585\tbest: 1177.6069585 (200)\ttotal: 2.21s\tremaining: 14.3s\n",
            "300:\tlearn: 1083.6828804\ttest: 1114.4275482\tbest: 1114.4275482 (300)\ttotal: 3.41s\tremaining: 13.6s\n",
            "400:\tlearn: 1064.9378299\ttest: 1098.8942635\tbest: 1098.8942635 (400)\ttotal: 5.21s\tremaining: 14.3s\n",
            "500:\tlearn: 1054.7138462\ttest: 1094.3227671\tbest: 1094.3227671 (500)\ttotal: 7.74s\tremaining: 15.4s\n",
            "600:\tlearn: 1046.1419911\ttest: 1092.2649526\tbest: 1092.2649526 (600)\ttotal: 9.63s\tremaining: 14.4s\n",
            "700:\tlearn: 1038.7917744\ttest: 1091.0612115\tbest: 1091.0369570 (693)\ttotal: 11.1s\tremaining: 12.6s\n",
            "800:\tlearn: 1029.8835800\ttest: 1091.0154958\tbest: 1090.6803535 (765)\ttotal: 12.6s\tremaining: 11s\n",
            "900:\tlearn: 1021.6273024\ttest: 1090.4406012\tbest: 1090.4406012 (900)\ttotal: 14.1s\tremaining: 9.38s\n",
            "1000:\tlearn: 1012.9354007\ttest: 1090.9547127\tbest: 1090.3619767 (905)\ttotal: 15.7s\tremaining: 7.82s\n",
            "1100:\tlearn: 1003.2112009\ttest: 1091.4987470\tbest: 1090.3619767 (905)\ttotal: 17.4s\tremaining: 6.29s\n",
            "1200:\tlearn: 994.5248773\ttest: 1091.7137205\tbest: 1090.3619767 (905)\ttotal: 19.4s\tremaining: 4.83s\n",
            "1300:\tlearn: 987.5137083\ttest: 1092.4306909\tbest: 1090.3619767 (905)\ttotal: 22.6s\tremaining: 3.46s\n",
            "1400:\tlearn: 979.8850270\ttest: 1093.1124473\tbest: 1090.3619767 (905)\ttotal: 24.5s\tremaining: 1.73s\n",
            "1499:\tlearn: 972.8756423\ttest: 1093.4335559\tbest: 1090.3619767 (905)\ttotal: 26.1s\tremaining: 0us\n",
            "\n",
            "bestTest = 1090.361977\n",
            "bestIteration = 905\n",
            "\n",
            "24:\tloss: 1090.3619767\tbest: 1083.5470661 (2)\ttotal: 4m 23s\tremaining: 21.1s\n",
            "0:\tlearn: 2647.3054987\ttest: 2697.3120444\tbest: 2697.3120444 (0)\ttotal: 18.1ms\tremaining: 27.1s\n",
            "100:\tlearn: 1055.7394468\ttest: 1094.7895334\tbest: 1094.7895334 (100)\ttotal: 1.32s\tremaining: 18.3s\n",
            "200:\tlearn: 1015.4346031\ttest: 1094.1086346\tbest: 1091.9583542 (144)\ttotal: 2.81s\tremaining: 18.2s\n",
            "300:\tlearn: 977.4395460\ttest: 1096.4476237\tbest: 1091.9583542 (144)\ttotal: 4.52s\tremaining: 18s\n",
            "400:\tlearn: 949.2029893\ttest: 1098.1220321\tbest: 1091.9583542 (144)\ttotal: 6.17s\tremaining: 16.9s\n",
            "500:\tlearn: 922.2047591\ttest: 1101.7937376\tbest: 1091.9583542 (144)\ttotal: 8.72s\tremaining: 17.4s\n",
            "600:\tlearn: 894.1843862\ttest: 1105.5814024\tbest: 1091.9583542 (144)\ttotal: 11.6s\tremaining: 17.3s\n",
            "700:\tlearn: 868.6055107\ttest: 1109.6193320\tbest: 1091.9583542 (144)\ttotal: 13.9s\tremaining: 15.9s\n",
            "800:\tlearn: 846.6139904\ttest: 1113.3502747\tbest: 1091.9583542 (144)\ttotal: 16.2s\tremaining: 14.1s\n",
            "900:\tlearn: 825.2784451\ttest: 1116.0278994\tbest: 1091.9583542 (144)\ttotal: 18s\tremaining: 11.9s\n",
            "1000:\tlearn: 804.9020862\ttest: 1117.7251631\tbest: 1091.9583542 (144)\ttotal: 19.8s\tremaining: 9.85s\n",
            "1100:\tlearn: 785.2240793\ttest: 1119.5356899\tbest: 1091.9583542 (144)\ttotal: 22.1s\tremaining: 8s\n",
            "1200:\tlearn: 768.9249279\ttest: 1122.0617208\tbest: 1091.9583542 (144)\ttotal: 25.3s\tremaining: 6.29s\n",
            "1300:\tlearn: 753.6179368\ttest: 1124.2906759\tbest: 1091.9583542 (144)\ttotal: 27.1s\tremaining: 4.15s\n",
            "1400:\tlearn: 739.4538782\ttest: 1125.9789373\tbest: 1091.9583542 (144)\ttotal: 28.9s\tremaining: 2.04s\n",
            "1499:\tlearn: 725.2848651\ttest: 1127.7758669\tbest: 1091.9583542 (144)\ttotal: 30.7s\tremaining: 0us\n",
            "\n",
            "bestTest = 1091.958354\n",
            "bestIteration = 144\n",
            "\n",
            "25:\tloss: 1091.9583542\tbest: 1083.5470661 (2)\ttotal: 4m 54s\tremaining: 11.3s\n",
            "0:\tlearn: 2536.2918198\ttest: 2586.4372958\tbest: 2586.4372958 (0)\ttotal: 18.6ms\tremaining: 27.9s\n",
            "100:\tlearn: 1011.9388222\ttest: 1093.2534832\tbest: 1092.1519286 (70)\ttotal: 1.47s\tremaining: 20.4s\n",
            "200:\tlearn: 947.0813662\ttest: 1100.8920786\tbest: 1092.1519286 (70)\ttotal: 3.15s\tremaining: 20.3s\n",
            "300:\tlearn: 900.1295771\ttest: 1108.5561200\tbest: 1092.1519286 (70)\ttotal: 5.35s\tremaining: 21.3s\n",
            "400:\tlearn: 851.5752018\ttest: 1115.1518003\tbest: 1092.1519286 (70)\ttotal: 8.63s\tremaining: 23.6s\n",
            "500:\tlearn: 808.5622904\ttest: 1118.3113338\tbest: 1092.1519286 (70)\ttotal: 10.4s\tremaining: 20.8s\n",
            "600:\tlearn: 770.9449848\ttest: 1125.7003763\tbest: 1092.1519286 (70)\ttotal: 12.2s\tremaining: 18.2s\n",
            "700:\tlearn: 739.1280193\ttest: 1130.8381240\tbest: 1092.1519286 (70)\ttotal: 14s\tremaining: 15.9s\n",
            "800:\tlearn: 711.9039182\ttest: 1135.1296286\tbest: 1092.1519286 (70)\ttotal: 15.8s\tremaining: 13.8s\n",
            "900:\tlearn: 686.1336855\ttest: 1138.7626469\tbest: 1092.1519286 (70)\ttotal: 17.6s\tremaining: 11.7s\n",
            "1000:\tlearn: 660.4803646\ttest: 1140.3228604\tbest: 1092.1519286 (70)\ttotal: 20.3s\tremaining: 10.1s\n",
            "1100:\tlearn: 635.5894222\ttest: 1143.4871740\tbest: 1092.1519286 (70)\ttotal: 23.2s\tremaining: 8.39s\n",
            "1200:\tlearn: 615.6048878\ttest: 1147.1683353\tbest: 1092.1519286 (70)\ttotal: 25s\tremaining: 6.22s\n",
            "1300:\tlearn: 597.5305373\ttest: 1149.4415414\tbest: 1092.1519286 (70)\ttotal: 26.8s\tremaining: 4.1s\n",
            "1400:\tlearn: 578.9209414\ttest: 1153.0231948\tbest: 1092.1519286 (70)\ttotal: 28.7s\tremaining: 2.03s\n",
            "1499:\tlearn: 561.5614413\ttest: 1157.4289875\tbest: 1092.1519286 (70)\ttotal: 30.5s\tremaining: 0us\n",
            "\n",
            "bestTest = 1092.151929\n",
            "bestIteration = 70\n",
            "\n",
            "26:\tloss: 1092.1519286\tbest: 1083.5470661 (2)\ttotal: 5m 25s\tremaining: 0us\n",
            "Estimating final quality...\n",
            "Training on fold [0/3]\n",
            "0:\tlearn: 2557.2755572\ttest: 2534.3660535\tbest: 2534.3660535 (0)\ttotal: 6.91ms\tremaining: 3.45s\n",
            "100:\tlearn: 1058.8504635\ttest: 1096.7155214\tbest: 1096.7155214 (100)\ttotal: 474ms\tremaining: 1.87s\n",
            "200:\tlearn: 1045.2275772\ttest: 1095.2884386\tbest: 1094.8401014 (192)\ttotal: 885ms\tremaining: 1.32s\n",
            "300:\tlearn: 1028.8632009\ttest: 1095.8790658\tbest: 1094.8401014 (192)\ttotal: 1.38s\tremaining: 913ms\n",
            "400:\tlearn: 1014.2579865\ttest: 1099.7879456\tbest: 1094.8401014 (192)\ttotal: 1.89s\tremaining: 466ms\n",
            "499:\tlearn: 1002.1730071\ttest: 1103.0039017\tbest: 1094.8401014 (192)\ttotal: 2.82s\tremaining: 0us\n",
            "\n",
            "bestTest = 1094.840101\n",
            "bestIteration = 192\n",
            "\n",
            "Training on fold [1/3]\n",
            "0:\tlearn: 2560.6801557\ttest: 2522.1024533\tbest: 2522.1024533 (0)\ttotal: 12.9ms\tremaining: 6.45s\n",
            "100:\tlearn: 1076.0164081\ttest: 1051.8122501\tbest: 1051.8122501 (100)\ttotal: 857ms\tremaining: 3.38s\n",
            "200:\tlearn: 1057.5496449\ttest: 1055.6614648\tbest: 1051.2938738 (114)\ttotal: 1.81s\tremaining: 2.7s\n",
            "300:\tlearn: 1039.3977452\ttest: 1058.0490399\tbest: 1051.2938738 (114)\ttotal: 2.78s\tremaining: 1.83s\n",
            "400:\tlearn: 1027.2854935\ttest: 1059.6557277\tbest: 1051.2938738 (114)\ttotal: 3.57s\tremaining: 881ms\n",
            "499:\tlearn: 1012.7567193\ttest: 1063.4299984\tbest: 1051.2938738 (114)\ttotal: 4.08s\tremaining: 0us\n",
            "\n",
            "bestTest = 1051.293874\n",
            "bestIteration = 114\n",
            "\n",
            "Training on fold [2/3]\n",
            "0:\tlearn: 2530.7040016\ttest: 2592.0175840\tbest: 2592.0175840 (0)\ttotal: 7.04ms\tremaining: 3.51s\n",
            "100:\tlearn: 1061.8673537\ttest: 1089.3472197\tbest: 1089.0587948 (98)\ttotal: 465ms\tremaining: 1.84s\n",
            "200:\tlearn: 1040.4150672\ttest: 1086.2073360\tbest: 1086.2073360 (200)\ttotal: 956ms\tremaining: 1.42s\n",
            "300:\tlearn: 1024.2880553\ttest: 1084.7673711\tbest: 1084.7673711 (300)\ttotal: 1.46s\tremaining: 963ms\n",
            "400:\tlearn: 1010.0183661\ttest: 1084.3444748\tbest: 1083.2860487 (360)\ttotal: 1.97s\tremaining: 487ms\n",
            "499:\tlearn: 994.0361907\ttest: 1085.9110745\tbest: 1083.2860487 (360)\ttotal: 2.48s\tremaining: 0us\n",
            "\n",
            "bestTest = 1083.286049\n",
            "bestIteration = 360\n",
            "\n"
          ]
        }
      ]
    },
    {
      "cell_type": "code",
      "source": [
        "print(\"Best Parameters:\", result['params'])"
      ],
      "metadata": {
        "colab": {
          "base_uri": "https://localhost:8080/"
        },
        "id": "0a9SL9ruNimL",
        "outputId": "3a55fc37-268e-4b16-d588-77d51193fdc2"
      },
      "execution_count": null,
      "outputs": [
        {
          "output_type": "stream",
          "name": "stdout",
          "text": [
            "Best Parameters: {'depth': 4, 'learning_rate': 0.1, 'iterations': 500}\n"
          ]
        }
      ]
    },
    {
      "cell_type": "code",
      "source": [],
      "metadata": {
        "id": "LAUjJm0QNipB"
      },
      "execution_count": null,
      "outputs": []
    },
    {
      "cell_type": "code",
      "source": [],
      "metadata": {
        "id": "W_eTlRCi0J2s"
      },
      "execution_count": null,
      "outputs": []
    },
    {
      "cell_type": "code",
      "source": [
        "# # perf\n",
        "# Mean Squared Error: 1035425.7889\n",
        "# Mean Squared Error: 1034132.5728  (after grouping fat content)\n",
        "# Mean Squared Error: 1038030.5063  (after grouping fat content, adding age)\n",
        "# Mean Squared Error: 1035907.9979  (after grouping fat content, adding age, price_per_weight)\n",
        "# Mean Squared Error: 1037155.2055  (after grouping fat content, adding age, price_per_weight, fill na weight)"
      ],
      "metadata": {
        "id": "6GqZBMJz5eGl"
      },
      "execution_count": null,
      "outputs": []
    },
    {
      "cell_type": "code",
      "source": [],
      "metadata": {
        "id": "D213C-lG2o_4"
      },
      "execution_count": null,
      "outputs": []
    },
    {
      "cell_type": "markdown",
      "source": [
        "## Test"
      ],
      "metadata": {
        "id": "vtyGLC5g2qMh"
      }
    },
    {
      "cell_type": "code",
      "source": [
        "test_data_path = '/content/drive/MyDrive/Colab Notebooks/ABB_test/test_AbJTz2l.csv'\n",
        "test_df = pd.read_csv(test_data_path)\n",
        "test_df.shape"
      ],
      "metadata": {
        "id": "X68_x_Tw2pCd",
        "colab": {
          "base_uri": "https://localhost:8080/"
        },
        "outputId": "4c9a161d-54db-499d-bfce-ad3ca7ec1c78"
      },
      "execution_count": null,
      "outputs": [
        {
          "output_type": "execute_result",
          "data": {
            "text/plain": [
              "(5681, 11)"
            ]
          },
          "metadata": {},
          "execution_count": 60
        }
      ]
    },
    {
      "cell_type": "markdown",
      "source": [
        "### Operations"
      ],
      "metadata": {
        "id": "KUa4Jt0p5YUI"
      }
    },
    {
      "cell_type": "code",
      "source": [
        "# Step 1: Compute group means\n",
        "train_means = df.groupby('Item_Identifier')['Item_Weight'].mean()\n",
        "test_means = test_df.groupby('Item_Identifier')['Item_Weight'].mean()\n",
        "\n",
        "# Step 2: Fill using train means first\n",
        "test_df['Item_Weight'] = test_df['Item_Weight'].fillna(test_df['Item_Identifier'].map(train_means))\n",
        "\n",
        "# Step 3: Fill using test means if train mean wasn't available\n",
        "test_df['Item_Weight'] = test_df['Item_Weight'].fillna(test_df['Item_Identifier'].map(test_means))\n",
        "\n",
        "# Step 4: Fill any remaining NaNs with overall mean (from train)\n",
        "overall_mean = df['Item_Weight'].mean()\n",
        "test_df['Item_Weight'] = test_df['Item_Weight'].fillna(overall_mean)\n",
        "\n",
        "\n",
        "########################\n",
        "test_df['Outlet_Size'].fillna('Small', inplace=True)\n",
        "###########################\n",
        "test_df['Item_Fat_Content'] = test_df['Item_Fat_Content'].map({'Low Fat':'LF',\n",
        "                            'Regular': 'reg',\n",
        "                            'LF': 'LF',\n",
        "                            'reg':'reg',\n",
        "                            'low fat': 'LF'})\n",
        "test_df['Item_Fat_Content'].value_counts()\n",
        "#################################\n",
        "test_df['age'] = 2013 - test_df['Outlet_Establishment_Year']\n",
        "test_df['price_per_weight'] = test_df['Item_MRP']/df['Item_Weight']\n",
        "#####################################\n",
        "test_df['MRP_level'] = pd.cut(test_df['Item_MRP'],\n",
        "                            bins=[-1, 100, 210, float('inf')],\n",
        "                            labels=['Low', 'Medium', 'High'])\n",
        "# test_df['MRP_level'] = pd.cut(test_df['Item_MRP'],\n",
        "#                             bins=[-1, 70, 135, 200, float('inf')],\n",
        "#                             labels=['Low', 'Medium1', 'Medium2', 'High'])\n",
        "######################################\n",
        "test_df['weigh_level'] = pd.cut(test_df['Item_Weight'],\n",
        "                            bins=[-1, 12.5, float('inf')],\n",
        "                            labels=['Low', 'High'])\n",
        "#################################################\n",
        "test_df['Item_Identifier_cat'] = test_df['Item_Identifier'].apply(lambda ele: ele[:2])\n",
        "test_df['Item_Identifier_cat'].value_counts()\n",
        "##########################################\n",
        "test_df['is_perishable'] = test_df['Item_Type'].isin(perishable_items).astype(int)\n",
        "test_df['is_perishable'].value_counts()\n",
        "##################################################\n",
        "test_df['visibility_mrp'] = test_df['Item_Visibility']*test_df['Item_MRP']\n",
        "test_df['outlet_type_size'] = test_df['Outlet_Type'] + \"_\" + test_df['Outlet_Size']\n",
        "test_df['log_visibility'] = np.log(test_df['Item_Visibility'])\n",
        "test_df['log_visibility_mrp'] = np.log(test_df['visibility_mrp'])\n",
        "###########################################\n",
        "test_df['is_processed'] = test_df['Item_Type'].isin(processed_items).astype(int)\n",
        "##############################################\n",
        "# test_df.loc[test_df['Outlet_Type'] == 'Supermarket Type3', 'Outlet_Type'] = 'Supermarket Type2'\n",
        "#####################################\n",
        "test_df['is_supermarket'] = test_df['Outlet_Type'].isin(['Supermarket Type1', 'Supermarket Type2', 'Supermarket Type3']).astype(int)\n",
        "##############################\n",
        "test_df['item_type_cat'] = test_df['Item_Type'].apply(map_item_type)\n",
        "#######################################\n",
        "test_df['Outlet_Tier'] = test_df['Outlet_Location_Type'].map(tier_map)\n",
        "#####################################\n",
        "test_df['Visibility_Perishable'] = test_df['Item_Visibility'] * test_df['is_perishable']\n",
        "####################################\n",
        "test_df['visibility_level'] = pd.cut(test_df['Item_Visibility'],\n",
        "                            bins=[-1, 0.0417543446, 0.1069244294, float('inf')],\n",
        "                            labels=['Low', 'Medium', 'High'])\n",
        "#####################################################\n",
        "# After creating item_avg_sales on train:\n",
        "# (this 'means' must be created on full training data)\n",
        "\n",
        "means = df.groupby('Item_Identifier')['Item_Outlet_Sales'].mean()\n",
        "test_df['item_avg_sales'] = test_df['Item_Identifier'].map(means)\n",
        "\n",
        "global_mean = df['Item_Outlet_Sales'].mean()\n",
        "\n",
        "test_df['item_avg_sales'].fillna(global_mean, inplace=True)\n",
        "\n",
        "\n",
        "means = df.groupby('Outlet_Identifier')['Item_Outlet_Sales'].mean()\n",
        "test_df['outlet_avg_sales'] = test_df['Outlet_Identifier'].map(means)\n",
        "\n",
        "global_mean = df['Item_Outlet_Sales'].mean()\n",
        "\n",
        "test_df['outlet_avg_sales'].fillna(global_mean, inplace=True)\n"
      ],
      "metadata": {
        "id": "vtSsAAWKCcnm",
        "colab": {
          "base_uri": "https://localhost:8080/"
        },
        "outputId": "abdb688b-0651-4d15-c196-7619dba78dff"
      },
      "execution_count": null,
      "outputs": [
        {
          "output_type": "stream",
          "name": "stderr",
          "text": [
            "<ipython-input-153-1facbb84b3ed>:17: FutureWarning: A value is trying to be set on a copy of a DataFrame or Series through chained assignment using an inplace method.\n",
            "The behavior will change in pandas 3.0. This inplace method will never work because the intermediate object on which we are setting values always behaves as a copy.\n",
            "\n",
            "For example, when doing 'df[col].method(value, inplace=True)', try using 'df.method({col: value}, inplace=True)' or df[col] = df[col].method(value) instead, to perform the operation inplace on the original object.\n",
            "\n",
            "\n",
            "  test_df['Outlet_Size'].fillna('Small', inplace=True)\n",
            "/usr/local/lib/python3.11/dist-packages/pandas/core/arraylike.py:399: RuntimeWarning: divide by zero encountered in log\n",
            "  result = getattr(ufunc, method)(*inputs, **kwargs)\n",
            "<ipython-input-153-1facbb84b3ed>:75: FutureWarning: A value is trying to be set on a copy of a DataFrame or Series through chained assignment using an inplace method.\n",
            "The behavior will change in pandas 3.0. This inplace method will never work because the intermediate object on which we are setting values always behaves as a copy.\n",
            "\n",
            "For example, when doing 'df[col].method(value, inplace=True)', try using 'df.method({col: value}, inplace=True)' or df[col] = df[col].method(value) instead, to perform the operation inplace on the original object.\n",
            "\n",
            "\n",
            "  test_df['item_avg_sales'].fillna(global_mean, inplace=True)\n",
            "<ipython-input-153-1facbb84b3ed>:83: FutureWarning: A value is trying to be set on a copy of a DataFrame or Series through chained assignment using an inplace method.\n",
            "The behavior will change in pandas 3.0. This inplace method will never work because the intermediate object on which we are setting values always behaves as a copy.\n",
            "\n",
            "For example, when doing 'df[col].method(value, inplace=True)', try using 'df.method({col: value}, inplace=True)' or df[col] = df[col].method(value) instead, to perform the operation inplace on the original object.\n",
            "\n",
            "\n",
            "  test_df['outlet_avg_sales'].fillna(global_mean, inplace=True)\n"
          ]
        }
      ]
    },
    {
      "cell_type": "code",
      "source": [
        "sample_submission_path = '/content/drive/MyDrive/Colab Notebooks/ABB_test/sample_submission_8RXa3c6.csv'\n",
        "sub = pd.read_csv(sample_submission_path)\n",
        "\n",
        "X_test_f = test_df[feats]\n",
        "y_pred = model.predict(X_test_f)\n",
        "final_sub = test_df[['Item_Identifier',\t'Outlet_Identifier']]\n",
        "final_sub.head(2)\n",
        "final_sub['Item_Outlet_Sales'] = y_pred"
      ],
      "metadata": {
        "id": "09TlCATbtvPp",
        "colab": {
          "base_uri": "https://localhost:8080/"
        },
        "outputId": "66a65002-6178-4873-dc3c-e50969588e79"
      },
      "execution_count": null,
      "outputs": [
        {
          "output_type": "stream",
          "name": "stderr",
          "text": [
            "<ipython-input-154-f97809e4678d>:8: SettingWithCopyWarning: \n",
            "A value is trying to be set on a copy of a slice from a DataFrame.\n",
            "Try using .loc[row_indexer,col_indexer] = value instead\n",
            "\n",
            "See the caveats in the documentation: https://pandas.pydata.org/pandas-docs/stable/user_guide/indexing.html#returning-a-view-versus-a-copy\n",
            "  final_sub['Item_Outlet_Sales'] = y_pred\n"
          ]
        }
      ]
    },
    {
      "cell_type": "code",
      "source": [
        "final_sub['Item_Outlet_Sales'].min(), final_sub['Item_Outlet_Sales'].max()"
      ],
      "metadata": {
        "colab": {
          "base_uri": "https://localhost:8080/"
        },
        "id": "R8jYdgca9KoI",
        "outputId": "0b6bdd40-dca4-4314-d439-f75c9083b903"
      },
      "execution_count": null,
      "outputs": [
        {
          "output_type": "execute_result",
          "data": {
            "text/plain": [
              "(-21.70925858865121, 6441.428026023265)"
            ]
          },
          "metadata": {},
          "execution_count": 155
        }
      ]
    },
    {
      "cell_type": "code",
      "source": [
        "final_sub.loc[final_sub['Item_Outlet_Sales'] < 0, 'Item_Outlet_Sales'] = 0.1\n",
        "final_sub.to_csv('submission.csv', index=False)"
      ],
      "metadata": {
        "id": "8JOa3u9o9Li5"
      },
      "execution_count": null,
      "outputs": []
    },
    {
      "cell_type": "code",
      "source": [
        "for ele in feats:\n",
        "  print(ele)"
      ],
      "metadata": {
        "id": "supUBNWx3rQG",
        "colab": {
          "base_uri": "https://localhost:8080/"
        },
        "outputId": "ca5417e8-dac5-4909-aaec-3089dcc6aae3"
      },
      "execution_count": null,
      "outputs": [
        {
          "output_type": "stream",
          "name": "stdout",
          "text": [
            "Item_Weight\n",
            "Item_Fat_Content\n",
            "Item_Type\n",
            "Item_MRP\n",
            "age\n",
            "Outlet_Size\n",
            "Outlet_Location_Type\n",
            "Outlet_Type\n",
            "MRP_level\n",
            "weigh_level\n",
            "outlet_avg_sales\n"
          ]
        }
      ]
    },
    {
      "cell_type": "code",
      "source": [],
      "metadata": {
        "id": "JtRTfUjS37X8"
      },
      "execution_count": null,
      "outputs": []
    },
    {
      "cell_type": "code",
      "source": [],
      "metadata": {
        "id": "2bURYTbs9FXO"
      },
      "execution_count": null,
      "outputs": []
    }
  ]
}